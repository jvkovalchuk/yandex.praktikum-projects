{
 "cells": [
  {
   "cell_type": "markdown",
   "metadata": {},
   "source": [
    "# Проект: защита данных клиентов страховой компании"
   ]
  },
  {
   "cell_type": "markdown",
   "metadata": {},
   "source": [
    "**Цель:**\n",
    "* необходимо защитить данные клиентов страховой компании методом преобразования данных, чтобы по ним было сложно восстановить персональную информацию, но качество моделей машинного обучения при этом не ухудшилось."
   ]
  },
  {
   "cell_type": "markdown",
   "metadata": {},
   "source": [
    "## Загрузка данных"
   ]
  },
  {
   "cell_type": "code",
   "execution_count": 11,
   "metadata": {},
   "outputs": [
    {
     "name": "stdout",
     "output_type": "stream",
     "text": [
      "3.7.8 | packaged by conda-forge | (default, Jul 31 2020, 02:25:08) \n",
      "[GCC 7.5.0]\n"
     ]
    }
   ],
   "source": [
    "import sys; print(sys.version)\n",
    "import pandas as pd\n",
    "from IPython.display import display\n",
    "\n",
    "import matplotlib.pyplot as plt\n",
    "import seaborn as sns\n",
    "import numpy as np\n",
    "\n",
    "from sklearn.linear_model import LinearRegression\n",
    "from sklearn.metrics import r2_score"
   ]
  },
  {
   "cell_type": "code",
   "execution_count": 12,
   "metadata": {},
   "outputs": [
    {
     "data": {
      "text/html": [
       "<div>\n",
       "<style scoped>\n",
       "    .dataframe tbody tr th:only-of-type {\n",
       "        vertical-align: middle;\n",
       "    }\n",
       "\n",
       "    .dataframe tbody tr th {\n",
       "        vertical-align: top;\n",
       "    }\n",
       "\n",
       "    .dataframe thead th {\n",
       "        text-align: right;\n",
       "    }\n",
       "</style>\n",
       "<table border=\"1\" class=\"dataframe\">\n",
       "  <thead>\n",
       "    <tr style=\"text-align: right;\">\n",
       "      <th></th>\n",
       "      <th>Пол</th>\n",
       "      <th>Возраст</th>\n",
       "      <th>Зарплата</th>\n",
       "      <th>Члены семьи</th>\n",
       "      <th>Страховые выплаты</th>\n",
       "    </tr>\n",
       "  </thead>\n",
       "  <tbody>\n",
       "    <tr>\n",
       "      <td>0</td>\n",
       "      <td>1</td>\n",
       "      <td>41.0</td>\n",
       "      <td>49600.0</td>\n",
       "      <td>1</td>\n",
       "      <td>0</td>\n",
       "    </tr>\n",
       "    <tr>\n",
       "      <td>1</td>\n",
       "      <td>0</td>\n",
       "      <td>46.0</td>\n",
       "      <td>38000.0</td>\n",
       "      <td>1</td>\n",
       "      <td>1</td>\n",
       "    </tr>\n",
       "    <tr>\n",
       "      <td>2</td>\n",
       "      <td>0</td>\n",
       "      <td>29.0</td>\n",
       "      <td>21000.0</td>\n",
       "      <td>0</td>\n",
       "      <td>0</td>\n",
       "    </tr>\n",
       "    <tr>\n",
       "      <td>3</td>\n",
       "      <td>0</td>\n",
       "      <td>21.0</td>\n",
       "      <td>41700.0</td>\n",
       "      <td>2</td>\n",
       "      <td>0</td>\n",
       "    </tr>\n",
       "    <tr>\n",
       "      <td>4</td>\n",
       "      <td>1</td>\n",
       "      <td>28.0</td>\n",
       "      <td>26100.0</td>\n",
       "      <td>0</td>\n",
       "      <td>0</td>\n",
       "    </tr>\n",
       "    <tr>\n",
       "      <td>...</td>\n",
       "      <td>...</td>\n",
       "      <td>...</td>\n",
       "      <td>...</td>\n",
       "      <td>...</td>\n",
       "      <td>...</td>\n",
       "    </tr>\n",
       "    <tr>\n",
       "      <td>4995</td>\n",
       "      <td>0</td>\n",
       "      <td>28.0</td>\n",
       "      <td>35700.0</td>\n",
       "      <td>2</td>\n",
       "      <td>0</td>\n",
       "    </tr>\n",
       "    <tr>\n",
       "      <td>4996</td>\n",
       "      <td>0</td>\n",
       "      <td>34.0</td>\n",
       "      <td>52400.0</td>\n",
       "      <td>1</td>\n",
       "      <td>0</td>\n",
       "    </tr>\n",
       "    <tr>\n",
       "      <td>4997</td>\n",
       "      <td>0</td>\n",
       "      <td>20.0</td>\n",
       "      <td>33900.0</td>\n",
       "      <td>2</td>\n",
       "      <td>0</td>\n",
       "    </tr>\n",
       "    <tr>\n",
       "      <td>4998</td>\n",
       "      <td>1</td>\n",
       "      <td>22.0</td>\n",
       "      <td>32700.0</td>\n",
       "      <td>3</td>\n",
       "      <td>0</td>\n",
       "    </tr>\n",
       "    <tr>\n",
       "      <td>4999</td>\n",
       "      <td>1</td>\n",
       "      <td>28.0</td>\n",
       "      <td>40600.0</td>\n",
       "      <td>1</td>\n",
       "      <td>0</td>\n",
       "    </tr>\n",
       "  </tbody>\n",
       "</table>\n",
       "<p>5000 rows × 5 columns</p>\n",
       "</div>"
      ],
      "text/plain": [
       "      Пол  Возраст  Зарплата  Члены семьи  Страховые выплаты\n",
       "0       1     41.0   49600.0            1                  0\n",
       "1       0     46.0   38000.0            1                  1\n",
       "2       0     29.0   21000.0            0                  0\n",
       "3       0     21.0   41700.0            2                  0\n",
       "4       1     28.0   26100.0            0                  0\n",
       "...   ...      ...       ...          ...                ...\n",
       "4995    0     28.0   35700.0            2                  0\n",
       "4996    0     34.0   52400.0            1                  0\n",
       "4997    0     20.0   33900.0            2                  0\n",
       "4998    1     22.0   32700.0            3                  0\n",
       "4999    1     28.0   40600.0            1                  0\n",
       "\n",
       "[5000 rows x 5 columns]"
      ]
     },
     "metadata": {},
     "output_type": "display_data"
    }
   ],
   "source": [
    "#загружаем данные, делаем первый взкляд на таблицу\n",
    "insurance = pd.read_csv('/datasets/insurance.csv')\n",
    "display(insurance)"
   ]
  },
  {
   "cell_type": "code",
   "execution_count": 13,
   "metadata": {},
   "outputs": [
    {
     "name": "stdout",
     "output_type": "stream",
     "text": [
      "<class 'pandas.core.frame.DataFrame'>\n",
      "RangeIndex: 5000 entries, 0 to 4999\n",
      "Data columns (total 5 columns):\n",
      "Пол                  5000 non-null int64\n",
      "Возраст              5000 non-null float64\n",
      "Зарплата             5000 non-null float64\n",
      "Члены семьи          5000 non-null int64\n",
      "Страховые выплаты    5000 non-null int64\n",
      "dtypes: float64(2), int64(3)\n",
      "memory usage: 195.4 KB\n"
     ]
    },
    {
     "data": {
      "text/plain": [
       "None"
      ]
     },
     "metadata": {},
     "output_type": "display_data"
    }
   ],
   "source": [
    "#посмотрим, есть ли незаполненные ячейки\n",
    "display(insurance.info())"
   ]
  },
  {
   "cell_type": "code",
   "execution_count": 14,
   "metadata": {
    "scrolled": true
   },
   "outputs": [
    {
     "data": {
      "text/html": [
       "<div>\n",
       "<style scoped>\n",
       "    .dataframe tbody tr th:only-of-type {\n",
       "        vertical-align: middle;\n",
       "    }\n",
       "\n",
       "    .dataframe tbody tr th {\n",
       "        vertical-align: top;\n",
       "    }\n",
       "\n",
       "    .dataframe thead th {\n",
       "        text-align: right;\n",
       "    }\n",
       "</style>\n",
       "<table border=\"1\" class=\"dataframe\">\n",
       "  <thead>\n",
       "    <tr style=\"text-align: right;\">\n",
       "      <th></th>\n",
       "      <th>count</th>\n",
       "      <th>mean</th>\n",
       "      <th>std</th>\n",
       "      <th>min</th>\n",
       "      <th>25%</th>\n",
       "      <th>50%</th>\n",
       "      <th>75%</th>\n",
       "      <th>max</th>\n",
       "    </tr>\n",
       "  </thead>\n",
       "  <tbody>\n",
       "    <tr>\n",
       "      <td>Пол</td>\n",
       "      <td>5000.0</td>\n",
       "      <td>0.50</td>\n",
       "      <td>0.50</td>\n",
       "      <td>0.0</td>\n",
       "      <td>0.0</td>\n",
       "      <td>0.0</td>\n",
       "      <td>1.0</td>\n",
       "      <td>1.0</td>\n",
       "    </tr>\n",
       "    <tr>\n",
       "      <td>Возраст</td>\n",
       "      <td>5000.0</td>\n",
       "      <td>30.95</td>\n",
       "      <td>8.44</td>\n",
       "      <td>18.0</td>\n",
       "      <td>24.0</td>\n",
       "      <td>30.0</td>\n",
       "      <td>37.0</td>\n",
       "      <td>65.0</td>\n",
       "    </tr>\n",
       "    <tr>\n",
       "      <td>Зарплата</td>\n",
       "      <td>5000.0</td>\n",
       "      <td>39916.36</td>\n",
       "      <td>9900.08</td>\n",
       "      <td>5300.0</td>\n",
       "      <td>33300.0</td>\n",
       "      <td>40200.0</td>\n",
       "      <td>46600.0</td>\n",
       "      <td>79000.0</td>\n",
       "    </tr>\n",
       "    <tr>\n",
       "      <td>Члены семьи</td>\n",
       "      <td>5000.0</td>\n",
       "      <td>1.19</td>\n",
       "      <td>1.09</td>\n",
       "      <td>0.0</td>\n",
       "      <td>0.0</td>\n",
       "      <td>1.0</td>\n",
       "      <td>2.0</td>\n",
       "      <td>6.0</td>\n",
       "    </tr>\n",
       "    <tr>\n",
       "      <td>Страховые выплаты</td>\n",
       "      <td>5000.0</td>\n",
       "      <td>0.15</td>\n",
       "      <td>0.46</td>\n",
       "      <td>0.0</td>\n",
       "      <td>0.0</td>\n",
       "      <td>0.0</td>\n",
       "      <td>0.0</td>\n",
       "      <td>5.0</td>\n",
       "    </tr>\n",
       "  </tbody>\n",
       "</table>\n",
       "</div>"
      ],
      "text/plain": [
       "                    count      mean      std     min      25%      50%  \\\n",
       "Пол                5000.0      0.50     0.50     0.0      0.0      0.0   \n",
       "Возраст            5000.0     30.95     8.44    18.0     24.0     30.0   \n",
       "Зарплата           5000.0  39916.36  9900.08  5300.0  33300.0  40200.0   \n",
       "Члены семьи        5000.0      1.19     1.09     0.0      0.0      1.0   \n",
       "Страховые выплаты  5000.0      0.15     0.46     0.0      0.0      0.0   \n",
       "\n",
       "                       75%      max  \n",
       "Пол                    1.0      1.0  \n",
       "Возраст               37.0     65.0  \n",
       "Зарплата           46600.0  79000.0  \n",
       "Члены семьи            2.0      6.0  \n",
       "Страховые выплаты      0.0      5.0  "
      ]
     },
     "metadata": {},
     "output_type": "display_data"
    }
   ],
   "source": [
    "#посмотрим на статистику данных\n",
    "display(insurance.describe().transpose().round(2))"
   ]
  },
  {
   "cell_type": "code",
   "execution_count": 15,
   "metadata": {},
   "outputs": [
    {
     "data": {
      "text/plain": [
       "153"
      ]
     },
     "metadata": {},
     "output_type": "display_data"
    }
   ],
   "source": [
    "#посмотрим, есть ли дубликаты\n",
    "display(insurance.duplicated().sum())"
   ]
  },
  {
   "cell_type": "markdown",
   "metadata": {},
   "source": [
    "* Пропусков нет.\n",
    "* Типы данных уже соответствуют признакам, которые они описывают. Не будем с ними ничего делать. Тем более, что модель при предсказании всё равно работает с float.\n",
    "* Присутствуют дубликаты, но мы не будем, так как после удаления дубликатов и проверки модели, ее качество практически не изменилось."
   ]
  },
  {
   "cell_type": "code",
   "execution_count": 16,
   "metadata": {},
   "outputs": [
    {
     "data": {
      "image/png": "[encoded data removed]",
      "text/plain": [
       "<Figure size 432x288 with 1 Axes>"
      ]
     },
     "metadata": {
      "needs_background": "light"
     },
     "output_type": "display_data"
    },
    {
     "data": {
      "image/png": "[encoded data removed]",
      "text/plain": [
       "<Figure size 432x288 with 1 Axes>"
      ]
     },
     "metadata": {
      "needs_background": "light"
     },
     "output_type": "display_data"
    },
    {
     "data": {
      "image/png": "[encoded data removed]",
      "text/plain": [
       "<Figure size 432x288 with 1 Axes>"
      ]
     },
     "metadata": {
      "needs_background": "light"
     },
     "output_type": "display_data"
    },
    {
     "data": {
      "image/png": "[encoded data removed]",
      "text/plain": [
       "<Figure size 432x288 with 1 Axes>"
      ]
     },
     "metadata": {
      "needs_background": "light"
     },
     "output_type": "display_data"
    }
   ],
   "source": [
    "#посмотрим на гистограммы признаков\n",
    "def histag(rows):\n",
    "    for row in rows:\n",
    "        plt.hist(\n",
    "            insurance[row],\n",
    "            bins = min(insurance[row].nunique(), 100), label = row, density=True)\n",
    "        plt.grid(True)     \n",
    "        plt.legend(loc='upper right')\n",
    "        plt.title(row)\n",
    "        plt.show()\n",
    "\n",
    "histag(['Возраст', 'Зарплата', 'Члены семьи', 'Страховые выплаты'])"
   ]
  },
  {
   "cell_type": "code",
   "execution_count": 17,
   "metadata": {},
   "outputs": [
    {
     "data": {
      "text/plain": [
       "0    4436\n",
       "1     423\n",
       "2     115\n",
       "3      18\n",
       "4       7\n",
       "5       1\n",
       "Name: Страховые выплаты, dtype: int64"
      ]
     },
     "metadata": {},
     "output_type": "display_data"
    }
   ],
   "source": [
    "display(insurance['Страховые выплаты'].value_counts())"
   ]
  },
  {
   "cell_type": "code",
   "execution_count": 18,
   "metadata": {},
   "outputs": [
    {
     "data": {
      "text/plain": [
       "<matplotlib.axes._subplots.AxesSubplot at 0x7f9450222150>"
      ]
     },
     "execution_count": 18,
     "metadata": {},
     "output_type": "execute_result"
    },
    {
     "data": {
      "image/png": "[encoded data removed]",
      "text/plain": [
       "<Figure size 432x288 with 2 Axes>"
      ]
     },
     "metadata": {
      "needs_background": "light"
     },
     "output_type": "display_data"
    }
   ],
   "source": [
    "#посмотрим на корреляцию признаков\n",
    "sns.heatmap(insurance.corr(), annot = True)"
   ]
  },
  {
   "cell_type": "markdown",
   "metadata": {},
   "source": [
    "**Первый взгляд на данные сделан.**\n",
    "\n",
    "* Отметим, что 18-тилетних клиентов анамально много.\n",
    "* Отмечается практически одинаковое число женщин и мужчин, данные по заработной плате распределены нормально, выбросов нет.\n",
    "* Высокую кореллицию показали признаки возраст и страховые выплаты (в основном, клиенты начинали пользоваться страховкой в возрасте старше 40)"
   ]
  },
  {
   "cell_type": "markdown",
   "metadata": {},
   "source": [
    "## Теоретическое задание. Умножение матриц"
   ]
  },
  {
   "cell_type": "markdown",
   "metadata": {},
   "source": [
    "**Задача:** Доказать с помощью формул, что качество линейной регрессии не изменится, если признаки умножить на обратимую матрицу."
   ]
  },
  {
   "cell_type": "markdown",
   "metadata": {},
   "source": [
    "Обозначения:\n",
    "\n",
    "- $X$ — матрица признаков (нулевой столбец состоит из единиц)\n",
    "\n",
    "- $y$ — вектор целевого признака\n",
    "\n",
    "- $P$ — матрица, на которую умножаются признаки\n",
    "\n",
    "- $w$ — вектор весов линейной регрессии (нулевой элемент равен сдвигу)"
   ]
  },
  {
   "cell_type": "markdown",
   "metadata": {},
   "source": [
    "Предсказания:\n",
    "\n",
    "$$\n",
    "a = Xw\n",
    "$$\n",
    "\n",
    "Задача обучения:\n",
    "\n",
    "$$\n",
    "w = \\arg\\min_w MSE(Xw, y)\n",
    "$$\n",
    "\n",
    "Формула обучения:\n",
    "\n",
    "$$\n",
    "w = (X^T X)^{-1} X^T y\n",
    "$$"
   ]
  },
  {
   "cell_type": "markdown",
   "metadata": {},
   "source": [
    "**Ответ:** Качество линейной регрессии не изменится, если признаки умножить на обратимую матрицу.\n",
    "\n",
    "**Обоснование:**"
   ]
  },
  {
   "cell_type": "markdown",
   "metadata": {},
   "source": [
    "Будем использовать следующие свойства матриц:\n",
    "\n",
    "$$\n",
    "(A*B)^{-1} = (B)^{-1}*(A)^{-1}\n",
    "$$\n",
    "\n",
    "$$\n",
    "A*A^{-1} = E\n",
    "$$\n",
    "\n",
    "$$\n",
    "AE = EA = A\n",
    "$$\n",
    "\n",
    "$$\n",
    "(A*B)^{T} = (B)^{T}*(A)^{T}\n",
    "$$"
   ]
  },
  {
   "cell_type": "markdown",
   "metadata": {},
   "source": [
    "**Задача:** сравнить ответы регрессии (a) в обоих случаях (первый - использоуются исходные признаки, второй - используются исходные признаки, умноженные на обратимую матрицу)\n",
    "\n",
    "**Случай 1:**\n",
    "$$\n",
    "a = X ((X^T X)^{-1} X^T y)\n",
    "$$\n",
    "$$\n",
    "a = X (X^{-1} (X^T)^{-1} X^T y)\n",
    "$$\n",
    "$$\n",
    "a = X (X^{-1} ( (X^T)^{-1} X^T ) y)\n",
    "$$\n",
    "$$\n",
    "a = X (X^{-1} E y)\n",
    "$$\n",
    "$$\n",
    "a = X (X^{-1} y)\n",
    "$$\n",
    "$$\n",
    "a = (X X^{-1}) y\n",
    "$$\n",
    "$$\n",
    "a = E y\n",
    "$$\n",
    "$$\n",
    "a = y\n",
    "$$"
   ]
  },
  {
   "cell_type": "markdown",
   "metadata": {},
   "source": [
    "**Случай 2:**\n",
    "$$\n",
    "a = XP * (((XP)^T XP)^{-1} (XP)^T y)\n",
    "$$\n",
    "$$\n",
    "a = XP * ( (XP)^{-1} ((XP)^T)^{-1} P^T X^T y)\n",
    "$$\n",
    "$$\n",
    "a = XP * ( (XP)^{-1} (P^T X^T)^{-1} P^T X^T y)\n",
    "$$\n",
    "$$\n",
    "a = XP * ( (XP)^{-1} (X^T)^{-1} * ( (P^T)^{-1}  P^T ) * X^T y)\n",
    "$$\n",
    "$$\n",
    "a = XP * ( (XP)^{-1} (X^T)^{-1} (E X^T) y)\n",
    "$$\n",
    "$$\n",
    "a = XP * ( (XP)^{-1} * ((X^T)^{-1} X^T) * y)\n",
    "$$\n",
    "$$\n",
    "a = XP * ( (XP)^{-1} E y)\n",
    "$$\n",
    "$$\n",
    "a = (XP (XP)^{-1}) * y\n",
    "$$\n",
    "$$\n",
    "a = Ey\n",
    "$$\n",
    "$$\n",
    "a = y\n",
    "$$"
   ]
  },
  {
   "cell_type": "markdown",
   "metadata": {},
   "source": [
    "**Вывод:**\n",
    "\n",
    "В обоих случаях ответы равны целевому признаку, а значит качество модели не изменится"
   ]
  },
  {
   "cell_type": "markdown",
   "metadata": {},
   "source": [
    "## Алгоритм преобразования"
   ]
  },
  {
   "cell_type": "markdown",
   "metadata": {},
   "source": [
    "**План действий:**  \n",
    " 1) создаём рандомную матрицу;   \n",
    " 2) проверяем её на обратимость (создаём единичную матрицу);  \n",
    " 3) cоздаём новую матрицу данных;  \n",
    " 4) Ищем метрики качества на исходных данных и на преобразованных;  \n",
    " 5) делаем вывод.  "
   ]
  },
  {
   "cell_type": "markdown",
   "metadata": {},
   "source": [
    "Согласно математическому доказательству пункта 2, при умножении признаков на обратимую матрицу ответы модели не изменятся.\n",
    "\n",
    "\n",
    "Опираясь на доказательства пункта 2 данного проекта, зашифруем данные клинета -  создадим новую матрицу признаков, где исходные признаки будут умножены на случайно сгенерированную матрицу. Проверим сгенерированную матрицу на обратимость. Проверим качество моделей до и после умножения"
   ]
  },
  {
   "cell_type": "markdown",
   "metadata": {},
   "source": [
    "## Проверка алгоритма"
   ]
  },
  {
   "cell_type": "code",
   "execution_count": 19,
   "metadata": {},
   "outputs": [
    {
     "data": {
      "text/plain": [
       "(5000, 4)"
      ]
     },
     "metadata": {},
     "output_type": "display_data"
    },
    {
     "data": {
      "text/plain": [
       "(5000, 1)"
      ]
     },
     "metadata": {},
     "output_type": "display_data"
    }
   ],
   "source": [
    "#разделим данные на признаки и целевой\n",
    "features = insurance.drop(['Страховые выплаты'], axis=1)\n",
    "target = insurance.loc[:, ['Страховые выплаты']]\n",
    "\n",
    "display(features.shape)\n",
    "display(target.shape)"
   ]
  },
  {
   "cell_type": "code",
   "execution_count": 20,
   "metadata": {},
   "outputs": [
    {
     "name": "stdout",
     "output_type": "stream",
     "text": [
      "R2 =  0.42494550286668\n"
     ]
    }
   ],
   "source": [
    "#применим алгорит линейной регрессии\n",
    "model = LinearRegression()\n",
    "model.fit(features, target)\n",
    "predictions = model.predict(features)\n",
    "r2 = r2_score(target, predictions)\n",
    "print('R2 = ', r2_score(target, predictions))"
   ]
  },
  {
   "cell_type": "markdown",
   "metadata": {},
   "source": [
    "По умолчанию регрессия даёт R2 == 0.42. Теперь мы знаем, от чего отталкиваться."
   ]
  },
  {
   "cell_type": "code",
   "execution_count": 21,
   "metadata": {},
   "outputs": [
    {
     "data": {
      "text/plain": [
       "array([[-0.42224197, -0.28055915, -0.26234192,  0.02916481],\n",
       "       [-0.36333273, -0.67710349, -0.54565206, -1.11377108],\n",
       "       [-0.29698319, -1.37168121, -0.72922164, -1.09670208],\n",
       "       [-0.09073017,  0.42361314,  0.74589714,  0.74470301]])"
      ]
     },
     "execution_count": 21,
     "metadata": {},
     "output_type": "execute_result"
    }
   ],
   "source": [
    "#создадим обратимую матрицу\n",
    "P = np.random.normal(0, 1, size=(4,4))\n",
    "P\n",
    "#проверим на обратимость созданную матрицу, в случае успеха не должно быть ошибки\n",
    "P_rev = np.linalg.inv(P)\n",
    "P_rev\n",
    "#да, обратима"
   ]
  },
  {
   "cell_type": "code",
   "execution_count": 22,
   "metadata": {
    "scrolled": true
   },
   "outputs": [
    {
     "data": {
      "text/html": [
       "<div>\n",
       "<style scoped>\n",
       "    .dataframe tbody tr th:only-of-type {\n",
       "        vertical-align: middle;\n",
       "    }\n",
       "\n",
       "    .dataframe tbody tr th {\n",
       "        vertical-align: top;\n",
       "    }\n",
       "\n",
       "    .dataframe thead th {\n",
       "        text-align: right;\n",
       "    }\n",
       "</style>\n",
       "<table border=\"1\" class=\"dataframe\">\n",
       "  <thead>\n",
       "    <tr style=\"text-align: right;\">\n",
       "      <th></th>\n",
       "      <th>0</th>\n",
       "      <th>1</th>\n",
       "      <th>2</th>\n",
       "      <th>3</th>\n",
       "    </tr>\n",
       "  </thead>\n",
       "  <tbody>\n",
       "    <tr>\n",
       "      <td>0</td>\n",
       "      <td>-68427.777140</td>\n",
       "      <td>35793.524489</td>\n",
       "      <td>25050.803577</td>\n",
       "      <td>93105.228821</td>\n",
       "    </tr>\n",
       "    <tr>\n",
       "      <td>1</td>\n",
       "      <td>-52419.565255</td>\n",
       "      <td>27438.995043</td>\n",
       "      <td>19169.891475</td>\n",
       "      <td>71322.695235</td>\n",
       "    </tr>\n",
       "    <tr>\n",
       "      <td>2</td>\n",
       "      <td>-28968.436716</td>\n",
       "      <td>15168.385830</td>\n",
       "      <td>10588.298381</td>\n",
       "      <td>39413.265390</td>\n",
       "    </tr>\n",
       "    <tr>\n",
       "      <td>3</td>\n",
       "      <td>-57529.642131</td>\n",
       "      <td>30077.186850</td>\n",
       "      <td>21080.900404</td>\n",
       "      <td>78284.106124</td>\n",
       "    </tr>\n",
       "    <tr>\n",
       "      <td>4</td>\n",
       "      <td>-36007.139274</td>\n",
       "      <td>18842.089737</td>\n",
       "      <td>13172.477163</td>\n",
       "      <td>48988.924092</td>\n",
       "    </tr>\n",
       "    <tr>\n",
       "      <td>...</td>\n",
       "      <td>...</td>\n",
       "      <td>...</td>\n",
       "      <td>...</td>\n",
       "      <td>...</td>\n",
       "    </tr>\n",
       "    <tr>\n",
       "      <td>4995</td>\n",
       "      <td>-49249.307803</td>\n",
       "      <td>25760.031978</td>\n",
       "      <td>18032.816072</td>\n",
       "      <td>67014.301971</td>\n",
       "    </tr>\n",
       "    <tr>\n",
       "      <td>4996</td>\n",
       "      <td>-72291.225203</td>\n",
       "      <td>37805.401317</td>\n",
       "      <td>26478.116591</td>\n",
       "      <td>98367.439484</td>\n",
       "    </tr>\n",
       "    <tr>\n",
       "      <td>4997</td>\n",
       "      <td>-46767.611386</td>\n",
       "      <td>24453.871084</td>\n",
       "      <td>17133.492968</td>\n",
       "      <td>63639.222340</td>\n",
       "    </tr>\n",
       "    <tr>\n",
       "      <td>4998</td>\n",
       "      <td>-45111.946143</td>\n",
       "      <td>23588.320798</td>\n",
       "      <td>16524.117432</td>\n",
       "      <td>61383.805831</td>\n",
       "    </tr>\n",
       "    <tr>\n",
       "      <td>4999</td>\n",
       "      <td>-56012.868837</td>\n",
       "      <td>29292.164540</td>\n",
       "      <td>20513.815852</td>\n",
       "      <td>76214.161001</td>\n",
       "    </tr>\n",
       "  </tbody>\n",
       "</table>\n",
       "<p>5000 rows × 4 columns</p>\n",
       "</div>"
      ],
      "text/plain": [
       "                 0             1             2             3\n",
       "0    -68427.777140  35793.524489  25050.803577  93105.228821\n",
       "1    -52419.565255  27438.995043  19169.891475  71322.695235\n",
       "2    -28968.436716  15168.385830  10588.298381  39413.265390\n",
       "3    -57529.642131  30077.186850  21080.900404  78284.106124\n",
       "4    -36007.139274  18842.089737  13172.477163  48988.924092\n",
       "...            ...           ...           ...           ...\n",
       "4995 -49249.307803  25760.031978  18032.816072  67014.301971\n",
       "4996 -72291.225203  37805.401317  26478.116591  98367.439484\n",
       "4997 -46767.611386  24453.871084  17133.492968  63639.222340\n",
       "4998 -45111.946143  23588.320798  16524.117432  61383.805831\n",
       "4999 -56012.868837  29292.164540  20513.815852  76214.161001\n",
       "\n",
       "[5000 rows x 4 columns]"
      ]
     },
     "execution_count": 22,
     "metadata": {},
     "output_type": "execute_result"
    }
   ],
   "source": [
    "#умножим признаки на обратимую матрицу, тем самым зашифруем данные клиентов\n",
    "new_features = features.dot(P)\n",
    "new_features"
   ]
  },
  {
   "cell_type": "markdown",
   "metadata": {},
   "source": [
    "По таким данным, сложно рассшифровать и онять персональные данные клиентов, чего мы и добивались."
   ]
  },
  {
   "cell_type": "code",
   "execution_count": 23,
   "metadata": {},
   "outputs": [
    {
     "name": "stdout",
     "output_type": "stream",
     "text": [
      "R2_new =  0.42494550286668253\n",
      "Разница r2: 2.55351295663786e-15\n"
     ]
    }
   ],
   "source": [
    "#обучим модель Линейной Регрессии зашифрованными признаками и сравним r2\n",
    "model_new = LinearRegression()\n",
    "model_new.fit(new_features, target)\n",
    "predictions_new = model_new.predict(new_features)\n",
    "r2_new = r2_score(target, predictions_new)\n",
    "print('R2_new = ', r2_new)\n",
    "print('Разница r2:', (r2_new - r2))"
   ]
  },
  {
   "cell_type": "markdown",
   "metadata": {},
   "source": [
    "Значение R2 изменилось. Сильно ли? Сравним точности как float, держа в уме, что у этого типа данных ограниченная точность."
   ]
  },
  {
   "cell_type": "code",
   "execution_count": 24,
   "metadata": {},
   "outputs": [],
   "source": [
    "def float_equal(a, b, threshold=1e-6):\n",
    "    \"\"\"Проверяет равеноство двух float с использованием порога.\"\"\"\n",
    "    return np.abs(a - b) < threshold"
   ]
  },
  {
   "cell_type": "code",
   "execution_count": 26,
   "metadata": {},
   "outputs": [
    {
     "data": {
      "text/plain": [
       "True"
      ]
     },
     "execution_count": 26,
     "metadata": {},
     "output_type": "execute_result"
    }
   ],
   "source": [
    "float_equal(r2_new, r2)"
   ]
  },
  {
   "cell_type": "markdown",
   "metadata": {},
   "source": [
    "**Как мы видим, точность предсказаний не пострадала**"
   ]
  },
  {
   "cell_type": "markdown",
   "metadata": {},
   "source": [
    "## Вывод\n",
    "\n",
    "* Мы изучили возможность преобразования данных при помощи обратимой матрицы и привели математическое доказательство того, что умножение признаков на обратимую матрицу не влияет на качество линейной регрессии.\n",
    "* При умножении признаков на обратимую матрицу качество (в нашем случае R2) модели не изменилось (разница r2 в первом и последнем случая стремится к нулю).\n",
    "* Данные можно шифорвать не боясь за качество модели."
   ]
  }
 ],
 "metadata": {
  "kernelspec": {
   "display_name": "Python 3",
   "language": "python",
   "name": "python3"
  },
  "language_info": {
   "codemirror_mode": {
    "name": "ipython",
    "version": 3
   },
   "file_extension": ".py",
   "mimetype": "text/x-python",
   "name": "python",
   "nbconvert_exporter": "python",
   "pygments_lexer": "ipython3",
   "version": "3.7.8"
  },
  "toc": {
   "base_numbering": 1,
   "nav_menu": {},
   "number_sections": true,
   "sideBar": true,
   "skip_h1_title": true,
   "title_cell": "Table of Contents",
   "title_sidebar": "Contents",
   "toc_cell": false,
   "toc_position": {},
   "toc_section_display": true,
   "toc_window_display": true
  }
 },
 "nbformat": 4,
 "nbformat_minor": 2
}
