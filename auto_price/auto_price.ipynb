{
 "cells": [
  {
   "cell_type": "markdown",
   "metadata": {},
   "source": [
    "# <b><font color='purple'>Содержание:</font></b>   \n",
    "##### Часть 1. [Подготовка данных](#Подготовка-данных)\n",
    "* [1. Первый взгляд на данные.](#Первый-взгляд-на-данные)\n",
    "* [2. Визуализируем данные.](#Визуализируем-данные)  \n",  
    "##### Часть 2. [Обучение модели](#Обучение-модели)\n",
    "* [1. Кодирование данных/Стандартизация.](#Кодирование-данных)\n",
    "* [2. Модель линейной регрессии.](#Модель-линейной-регрессии)\n",
    "* [3. Модель градиентного бустинга Catboost.](#Модель-градиентного-бустинга-Catboost)\n",
    "* [4. Модель градиентного бустинга LightGBM.](#Модель-градиентного-бустинга-с-помощью-библиотеки-LightGBM)  \n",
    "##### Часть 3. [Анализ моделей](#Анализ-моделей)\n"
   ]
  },
  {
   "cell_type": "markdown",
   "metadata": {},
   "source": [
    "# 1. Подготовка данных <a name=\"Подготовка-данных\"></a>"
   ]
  },
  {
   "cell_type": "markdown",
   "metadata": {},
   "source": [
    "### 1. Первый взгляд на данные <a name=\"Первый-взгляд-на-данные\"></a>"
   ]
  },
  {
   "cell_type": "code",
   "execution_count": 90,
   "metadata": {},
   "outputs": [
    {
     "name": "stdout",
     "output_type": "stream",
     "text": [
      "3.7.6 | packaged by conda-forge | (default, Jun  1 2020, 18:57:50) \n",
      "[GCC 7.5.0]\n"
     ]
    }
   ],
   "source": [
    "import sys; print(sys.version)\n",
    "import pandas as pd\n",
    "import numpy as np\n",
    "import matplotlib.pyplot as plt\n",
    "import seaborn as sns\n",
    "from IPython.display import display\n",
    "\n",
    "from sklearn.model_selection import train_test_split, cross_val_score, GridSearchCV\n",
    "from sklearn.preprocessing import StandardScaler, OrdinalEncoder\n",
    "from sklearn.metrics import  , make_scorer\n",
    "\n",
    "from sklearn.linear_model import LinearRegression\n",
    "from sklearn.tree import DecisionTreeRegressor\n",
    "from sklearn.ensemble import RandomForestRegressor\n",
    "\n",
    "from catboost import CatBoostClassifier, CatBoostRegressor\n",
    "from catboost import Pool, cv\n",
    "\n",
    "import lightgbm as lgb\n",
    "\n",
    "import warnings\n",
    "warnings.simplefilter(\"ignore\")"
   ]
  },
  {
   "cell_type": "code",
   "execution_count": 91,
   "metadata": {},
   "outputs": [
    {
     "data": {
      "text/html": [
       "<div>\n",
       "<style scoped>\n",
       "    .dataframe tbody tr th:only-of-type {\n",
       "        vertical-align: middle;\n",
       "    }\n",
       "\n",
       "    .dataframe tbody tr th {\n",
       "        vertical-align: top;\n",
       "    }\n",
       "\n",
       "    .dataframe thead th {\n",
       "        text-align: right;\n",
       "    }\n",
       "</style>\n",
       "<table border=\"1\" class=\"dataframe\">\n",
       "  <thead>\n",
       "    <tr style=\"text-align: right;\">\n",
       "      <th></th>\n",
       "      <th>DateCrawled</th>\n",
       "      <th>Price</th>\n",
       "      <th>VehicleType</th>\n",
       "      <th>RegistrationYear</th>\n",
       "      <th>Gearbox</th>\n",
       "      <th>Power</th>\n",
       "      <th>Model</th>\n",
       "      <th>Kilometer</th>\n",
       "      <th>RegistrationMonth</th>\n",
       "      <th>FuelType</th>\n",
       "      <th>Brand</th>\n",
       "      <th>NotRepaired</th>\n",
       "      <th>DateCreated</th>\n",
       "      <th>NumberOfPictures</th>\n",
       "      <th>PostalCode</th>\n",
       "      <th>LastSeen</th>\n",
       "    </tr>\n",
       "  </thead>\n",
       "  <tbody>\n",
       "    <tr>\n",
       "      <td>0</td>\n",
       "      <td>2016-03-24 11:52:17</td>\n",
       "      <td>480</td>\n",
       "      <td>NaN</td>\n",
       "      <td>1993</td>\n",
       "      <td>manual</td>\n",
       "      <td>0</td>\n",
       "      <td>golf</td>\n",
       "      <td>150000</td>\n",
       "      <td>0</td>\n",
       "      <td>petrol</td>\n",
       "      <td>volkswagen</td>\n",
       "      <td>NaN</td>\n",
       "      <td>2016-03-24 00:00:00</td>\n",
       "      <td>0</td>\n",
       "      <td>70435</td>\n",
       "      <td>2016-04-07 03:16:57</td>\n",
       "    </tr>\n",
       "    <tr>\n",
       "      <td>1</td>\n",
       "      <td>2016-03-24 10:58:45</td>\n",
       "      <td>18300</td>\n",
       "      <td>coupe</td>\n",
       "      <td>2011</td>\n",
       "      <td>manual</td>\n",
       "      <td>190</td>\n",
       "      <td>NaN</td>\n",
       "      <td>125000</td>\n",
       "      <td>5</td>\n",
       "      <td>gasoline</td>\n",
       "      <td>audi</td>\n",
       "      <td>yes</td>\n",
       "      <td>2016-03-24 00:00:00</td>\n",
       "      <td>0</td>\n",
       "      <td>66954</td>\n",
       "      <td>2016-04-07 01:46:50</td>\n",
       "    </tr>\n",
       "    <tr>\n",
       "      <td>2</td>\n",
       "      <td>2016-03-14 12:52:21</td>\n",
       "      <td>9800</td>\n",
       "      <td>suv</td>\n",
       "      <td>2004</td>\n",
       "      <td>auto</td>\n",
       "      <td>163</td>\n",
       "      <td>grand</td>\n",
       "      <td>125000</td>\n",
       "      <td>8</td>\n",
       "      <td>gasoline</td>\n",
       "      <td>jeep</td>\n",
       "      <td>NaN</td>\n",
       "      <td>2016-03-14 00:00:00</td>\n",
       "      <td>0</td>\n",
       "      <td>90480</td>\n",
       "      <td>2016-04-05 12:47:46</td>\n",
       "    </tr>\n",
       "    <tr>\n",
       "      <td>3</td>\n",
       "      <td>2016-03-17 16:54:04</td>\n",
       "      <td>1500</td>\n",
       "      <td>small</td>\n",
       "      <td>2001</td>\n",
       "      <td>manual</td>\n",
       "      <td>75</td>\n",
       "      <td>golf</td>\n",
       "      <td>150000</td>\n",
       "      <td>6</td>\n",
       "      <td>petrol</td>\n",
       "      <td>volkswagen</td>\n",
       "      <td>no</td>\n",
       "      <td>2016-03-17 00:00:00</td>\n",
       "      <td>0</td>\n",
       "      <td>91074</td>\n",
       "      <td>2016-03-17 17:40:17</td>\n",
       "    </tr>\n",
       "    <tr>\n",
       "      <td>4</td>\n",
       "      <td>2016-03-31 17:25:20</td>\n",
       "      <td>3600</td>\n",
       "      <td>small</td>\n",
       "      <td>2008</td>\n",
       "      <td>manual</td>\n",
       "      <td>69</td>\n",
       "      <td>fabia</td>\n",
       "      <td>90000</td>\n",
       "      <td>7</td>\n",
       "      <td>gasoline</td>\n",
       "      <td>skoda</td>\n",
       "      <td>no</td>\n",
       "      <td>2016-03-31 00:00:00</td>\n",
       "      <td>0</td>\n",
       "      <td>60437</td>\n",
       "      <td>2016-04-06 10:17:21</td>\n",
       "    </tr>\n",
       "  </tbody>\n",
       "</table>\n",
       "</div>"
      ],
      "text/plain": [
       "           DateCrawled  Price VehicleType  RegistrationYear Gearbox  Power  \\\n",
       "0  2016-03-24 11:52:17    480         NaN              1993  manual      0   \n",
       "1  2016-03-24 10:58:45  18300       coupe              2011  manual    190   \n",
       "2  2016-03-14 12:52:21   9800         suv              2004    auto    163   \n",
       "3  2016-03-17 16:54:04   1500       small              2001  manual     75   \n",
       "4  2016-03-31 17:25:20   3600       small              2008  manual     69   \n",
       "\n",
       "   Model  Kilometer  RegistrationMonth  FuelType       Brand NotRepaired  \\\n",
       "0   golf     150000                  0    petrol  volkswagen         NaN   \n",
       "1    NaN     125000                  5  gasoline        audi         yes   \n",
       "2  grand     125000                  8  gasoline        jeep         NaN   \n",
       "3   golf     150000                  6    petrol  volkswagen          no   \n",
       "4  fabia      90000                  7  gasoline       skoda          no   \n",
       "\n",
       "           DateCreated  NumberOfPictures  PostalCode             LastSeen  \n",
       "0  2016-03-24 00:00:00                 0       70435  2016-04-07 03:16:57  \n",
       "1  2016-03-24 00:00:00                 0       66954  2016-04-07 01:46:50  \n",
       "2  2016-03-14 00:00:00                 0       90480  2016-04-05 12:47:46  \n",
       "3  2016-03-17 00:00:00                 0       91074  2016-03-17 17:40:17  \n",
       "4  2016-03-31 00:00:00                 0       60437  2016-04-06 10:17:21  "
      ]
     },
     "metadata": {},
     "output_type": "display_data"
    }
   ],
   "source": [
    "#загружаем данные, делаем первый взкляд на таблицу\n",
    "auto = pd.read_csv('path.csv')\n",
    "display(auto.head())"
   ]
  },
  {
   "source": [
    "Признаки  \n",
    "DateCrawled — дата скачивания анкеты из базы  \n",
    "VehicleType — тип автомобильного кузова  \n",
    "RegistrationYear — год регистрации автомобиля  \n",
    "Gearbox — тип коробки передач  \n",
    "Power — мощность (л. с.)  \n",
    "Model — модель автомобиля  \n",
    "Kilometer — пробег (км)  \n",
    "RegistrationMonth — месяц регистрации автомобиля  \n",
    "FuelType — тип топлива  \n",
    "Brand — марка автомобиля  \n",
    "NotRepaired — была машина в ремонте или нет  \n",
    "DateCreated — дата создания анкеты  \n",
    "NumberOfPictures — количество фотографий автомобиля  \n",
    "PostalCode — почтовый индекс владельца анкеты (пользователя)  \n",
    "LastSeen — дата последней активности пользователя  \n",
    "\n",
    "\n",
    "Целевой признак\n",
    "Price — цена (евро)"
   ],
   "cell_type": "markdown",
   "metadata": {}
  },
  {
   "cell_type": "code",
   "execution_count": 92,
   "metadata": {
    "scrolled": true
   },
   "outputs": [
    {
     "data": {
      "text/plain": [
       "(354369, 16)"
      ]
     },
     "execution_count": 92,
     "metadata": {},
     "output_type": "execute_result"
    }
   ],
   "source": [
    "#посмотрим на размеры датасета\n",
    "auto.shape"
   ]
  },
  {
   "cell_type": "code",
   "execution_count": 93,
   "metadata": {
    "scrolled": true
   },
   "outputs": [
    {
     "data": {
      "text/plain": [
       "4"
      ]
     },
     "execution_count": 93,
     "metadata": {},
     "output_type": "execute_result"
    }
   ],
   "source": [
    "#проверим на дубликаты\n",
    "auto.duplicated().sum()"
   ]
  },
  {
   "cell_type": "code",
   "execution_count": 94,
   "metadata": {
    "scrolled": true
   },
   "outputs": [
    {
     "data": {
      "text/plain": [
       "(354365, 16)"
      ]
     },
     "execution_count": 94,
     "metadata": {},
     "output_type": "execute_result"
    }
   ],
   "source": [
    "#удалим дублирующие строки, чтобы облегчить датасет\n",
    "auto.drop_duplicates(inplace=True)\n",
    "auto.shape"
   ]
  },
  {
   "cell_type": "markdown",
   "metadata": {},
   "source": [
    "### Просмотрев все признаки датасета, удалим сразу те, что не будут участвовать в построении модели: \n",
    " - DateCrawled — дата скачивания анкеты из базы\n",
    " - DateCreated — дата создания анкеты\n",
    " - NumberOfPictures — количество фотографий автомобиля\n",
    " - PostalCode — почтовый индекс владельца анкеты (пользователя)\n",
    " - LastSeen — дата последней активности пользователя"
   ]
  },
  {
   "cell_type": "code",
   "execution_count": null,
   "metadata": {},
   "outputs": [],
   "source": [
    "auto = auto.loc[:, ['Price', 'VehicleType', 'RegistrationYear', 'Gearbox',\n",
    "                    'Power', 'Model', 'Kilometer', 'RegistrationMonth', \n",
    "                    'FuelType', 'Brand', 'NotRepaired']]"
   ]
  },
  {
   "cell_type": "code",
   "execution_count": 95,
   "metadata": {
    "scrolled": false
   },
   "outputs": [
    {
     "name": "stdout",
     "output_type": "stream",
     "text": [
      "<class 'pandas.core.frame.DataFrame'>\n",
      "Int64Index: 354365 entries, 0 to 354368\n",
      "Data columns (total 11 columns):\n",
      "Price                354365 non-null int64\n",
      "VehicleType          316875 non-null object\n",
      "RegistrationYear     354365 non-null int64\n",
      "Gearbox              334532 non-null object\n",
      "Power                354365 non-null int64\n",
      "Model                334660 non-null object\n",
      "Kilometer            354365 non-null int64\n",
      "RegistrationMonth    354365 non-null int64\n",
      "FuelType             321470 non-null object\n",
      "Brand                354365 non-null object\n",
      "NotRepaired          283211 non-null object\n",
      "dtypes: int64(5), object(6)\n",
      "memory usage: 32.4+ MB\n"
     ]
    },
    {
     "data": {
      "text/plain": [
       "None"
      ]
     },
     "metadata": {},
     "output_type": "display_data"
    }
   ],
   "source": [
    "#посмотрим, есть ли незаполненные ячейки и какой тип данных установлен для каждого признака\n",
    "display(auto.info())"
   ]
  },
  {
   "cell_type": "markdown",
   "metadata": {
    "scrolled": false
   },
   "source": [
    "### В данных имеются пропуски, типы данных установлены корректно"
   ]
  },
  {
   "cell_type": "code",
   "execution_count": 96,
   "metadata": {
    "scrolled": true
   },
   "outputs": [
    {
     "data": {
      "text/plain": [
       "Price                    0\n",
       "VehicleType          37490\n",
       "RegistrationYear         0\n",
       "Gearbox              19833\n",
       "Power                    0\n",
       "Model                19705\n",
       "Kilometer                0\n",
       "RegistrationMonth        0\n",
       "FuelType             32895\n",
       "Brand                    0\n",
       "NotRepaired          71154\n",
       "dtype: int64"
      ]
     },
     "execution_count": 96,
     "metadata": {},
     "output_type": "execute_result"
    }
   ],
   "source": [
    "#посмотрим, какие признаки имеют пропущенные значения\n",
    "auto.isnull().sum()"
   ]
  },
  {
   "cell_type": "markdown",
   "metadata": {
    "scrolled": false
   },
   "source": [
    "### Пропуски имеются по признакам объектного типа данных. Заменим их на значение 'unknown', чтобы удобно было вдальнейшем закодировать данные"
   ]
  },
  {
   "cell_type": "code",
   "execution_count": 97,
   "metadata": {
    "scrolled": true
   },
   "outputs": [
    {
     "data": {
      "text/plain": [
       "Price                0\n",
       "VehicleType          0\n",
       "RegistrationYear     0\n",
       "Gearbox              0\n",
       "Power                0\n",
       "Model                0\n",
       "Kilometer            0\n",
       "RegistrationMonth    0\n",
       "FuelType             0\n",
       "Brand                0\n",
       "NotRepaired          0\n",
       "dtype: int64"
      ]
     },
     "execution_count": 97,
     "metadata": {},
     "output_type": "execute_result"
    }
   ],
   "source": [
    "#замена пропусков\n",
    "auto = auto.fillna('unknown')\n",
    "auto.isnull().sum()"
   ]
  },
  {
   "cell_type": "code",
   "execution_count": 98,
   "metadata": {
    "scrolled": false
   },
   "outputs": [
    {
     "data": {
      "text/html": [
       "<div>\n",
       "<style scoped>\n",
       "    .dataframe tbody tr th:only-of-type {\n",
       "        vertical-align: middle;\n",
       "    }\n",
       "\n",
       "    .dataframe tbody tr th {\n",
       "        vertical-align: top;\n",
       "    }\n",
       "\n",
       "    .dataframe thead th {\n",
       "        text-align: right;\n",
       "    }\n",
       "</style>\n",
       "<table border=\"1\" class=\"dataframe\">\n",
       "  <thead>\n",
       "    <tr style=\"text-align: right;\">\n",
       "      <th></th>\n",
       "      <th>Price</th>\n",
       "      <th>RegistrationYear</th>\n",
       "      <th>Power</th>\n",
       "      <th>Kilometer</th>\n",
       "      <th>RegistrationMonth</th>\n",
       "    </tr>\n",
       "  </thead>\n",
       "  <tbody>\n",
       "    <tr>\n",
       "      <td>count</td>\n",
       "      <td>354365.000000</td>\n",
       "      <td>354365.000000</td>\n",
       "      <td>354365.000000</td>\n",
       "      <td>354365.000000</td>\n",
       "      <td>354365.000000</td>\n",
       "    </tr>\n",
       "    <tr>\n",
       "      <td>mean</td>\n",
       "      <td>4416.679830</td>\n",
       "      <td>2004.234481</td>\n",
       "      <td>110.093816</td>\n",
       "      <td>128211.363989</td>\n",
       "      <td>5.714650</td>\n",
       "    </tr>\n",
       "    <tr>\n",
       "      <td>std</td>\n",
       "      <td>4514.176349</td>\n",
       "      <td>90.228466</td>\n",
       "      <td>189.851330</td>\n",
       "      <td>37905.083858</td>\n",
       "      <td>3.726432</td>\n",
       "    </tr>\n",
       "    <tr>\n",
       "      <td>min</td>\n",
       "      <td>0.000000</td>\n",
       "      <td>1000.000000</td>\n",
       "      <td>0.000000</td>\n",
       "      <td>5000.000000</td>\n",
       "      <td>0.000000</td>\n",
       "    </tr>\n",
       "    <tr>\n",
       "      <td>25%</td>\n",
       "      <td>1050.000000</td>\n",
       "      <td>1999.000000</td>\n",
       "      <td>69.000000</td>\n",
       "      <td>125000.000000</td>\n",
       "      <td>3.000000</td>\n",
       "    </tr>\n",
       "    <tr>\n",
       "      <td>50%</td>\n",
       "      <td>2700.000000</td>\n",
       "      <td>2003.000000</td>\n",
       "      <td>105.000000</td>\n",
       "      <td>150000.000000</td>\n",
       "      <td>6.000000</td>\n",
       "    </tr>\n",
       "    <tr>\n",
       "      <td>75%</td>\n",
       "      <td>6400.000000</td>\n",
       "      <td>2008.000000</td>\n",
       "      <td>143.000000</td>\n",
       "      <td>150000.000000</td>\n",
       "      <td>9.000000</td>\n",
       "    </tr>\n",
       "    <tr>\n",
       "      <td>max</td>\n",
       "      <td>20000.000000</td>\n",
       "      <td>9999.000000</td>\n",
       "      <td>20000.000000</td>\n",
       "      <td>150000.000000</td>\n",
       "      <td>12.000000</td>\n",
       "    </tr>\n",
       "  </tbody>\n",
       "</table>\n",
       "</div>"
      ],
      "text/plain": [
       "               Price  RegistrationYear          Power      Kilometer  \\\n",
       "count  354365.000000     354365.000000  354365.000000  354365.000000   \n",
       "mean     4416.679830       2004.234481     110.093816  128211.363989   \n",
       "std      4514.176349         90.228466     189.851330   37905.083858   \n",
       "min         0.000000       1000.000000       0.000000    5000.000000   \n",
       "25%      1050.000000       1999.000000      69.000000  125000.000000   \n",
       "50%      2700.000000       2003.000000     105.000000  150000.000000   \n",
       "75%      6400.000000       2008.000000     143.000000  150000.000000   \n",
       "max     20000.000000       9999.000000   20000.000000  150000.000000   \n",
       "\n",
       "       RegistrationMonth  \n",
       "count      354365.000000  \n",
       "mean            5.714650  \n",
       "std             3.726432  \n",
       "min             0.000000  \n",
       "25%             3.000000  \n",
       "50%             6.000000  \n",
       "75%             9.000000  \n",
       "max            12.000000  "
      ]
     },
     "metadata": {},
     "output_type": "display_data"
    }
   ],
   "source": [
    "#посмотрим на статистику данных\n",
    "display(auto.describe())"
   ]
  },
  {
   "cell_type": "markdown",
   "metadata": {
    "scrolled": false
   },
   "source": [
    "### Объекты с ценой 0 рублей и с годом регистрации выше 2021 удалим, так как нам нужны реальные данные. Мощность со значением 0 оставим, допуская что такой автомобиль не работоспособен"
   ]
  },
  {
   "cell_type": "code",
   "execution_count": 99,
   "metadata": {
    "scrolled": true
   },
   "outputs": [
    {
     "data": {
      "text/html": [
       "<div>\n",
       "<style scoped>\n",
       "    .dataframe tbody tr th:only-of-type {\n",
       "        vertical-align: middle;\n",
       "    }\n",
       "\n",
       "    .dataframe tbody tr th {\n",
       "        vertical-align: top;\n",
       "    }\n",
       "\n",
       "    .dataframe thead th {\n",
       "        text-align: right;\n",
       "    }\n",
       "</style>\n",
       "<table border=\"1\" class=\"dataframe\">\n",
       "  <thead>\n",
       "    <tr style=\"text-align: right;\">\n",
       "      <th></th>\n",
       "      <th>Price</th>\n",
       "      <th>RegistrationYear</th>\n",
       "      <th>Power</th>\n",
       "      <th>Kilometer</th>\n",
       "      <th>RegistrationMonth</th>\n",
       "    </tr>\n",
       "  </thead>\n",
       "  <tbody>\n",
       "    <tr>\n",
       "      <td>count</td>\n",
       "      <td>343507.000000</td>\n",
       "      <td>343507.000000</td>\n",
       "      <td>343507.000000</td>\n",
       "      <td>343507.000000</td>\n",
       "      <td>343507.000000</td>\n",
       "    </tr>\n",
       "    <tr>\n",
       "      <td>mean</td>\n",
       "      <td>4555.391864</td>\n",
       "      <td>2003.052360</td>\n",
       "      <td>110.994940</td>\n",
       "      <td>128367.762520</td>\n",
       "      <td>5.778988</td>\n",
       "    </tr>\n",
       "    <tr>\n",
       "      <td>std</td>\n",
       "      <td>4514.953964</td>\n",
       "      <td>13.029693</td>\n",
       "      <td>187.943562</td>\n",
       "      <td>37477.349845</td>\n",
       "      <td>3.697667</td>\n",
       "    </tr>\n",
       "    <tr>\n",
       "      <td>min</td>\n",
       "      <td>1.000000</td>\n",
       "      <td>1000.000000</td>\n",
       "      <td>0.000000</td>\n",
       "      <td>5000.000000</td>\n",
       "      <td>0.000000</td>\n",
       "    </tr>\n",
       "    <tr>\n",
       "      <td>25%</td>\n",
       "      <td>1200.000000</td>\n",
       "      <td>1999.000000</td>\n",
       "      <td>69.000000</td>\n",
       "      <td>125000.000000</td>\n",
       "      <td>3.000000</td>\n",
       "    </tr>\n",
       "    <tr>\n",
       "      <td>50%</td>\n",
       "      <td>2890.000000</td>\n",
       "      <td>2003.000000</td>\n",
       "      <td>105.000000</td>\n",
       "      <td>150000.000000</td>\n",
       "      <td>6.000000</td>\n",
       "    </tr>\n",
       "    <tr>\n",
       "      <td>75%</td>\n",
       "      <td>6500.000000</td>\n",
       "      <td>2008.000000</td>\n",
       "      <td>143.000000</td>\n",
       "      <td>150000.000000</td>\n",
       "      <td>9.000000</td>\n",
       "    </tr>\n",
       "    <tr>\n",
       "      <td>max</td>\n",
       "      <td>20000.000000</td>\n",
       "      <td>2019.000000</td>\n",
       "      <td>20000.000000</td>\n",
       "      <td>150000.000000</td>\n",
       "      <td>12.000000</td>\n",
       "    </tr>\n",
       "  </tbody>\n",
       "</table>\n",
       "</div>"
      ],
      "text/plain": [
       "               Price  RegistrationYear          Power      Kilometer  \\\n",
       "count  343507.000000     343507.000000  343507.000000  343507.000000   \n",
       "mean     4555.391864       2003.052360     110.994940  128367.762520   \n",
       "std      4514.953964         13.029693     187.943562   37477.349845   \n",
       "min         1.000000       1000.000000       0.000000    5000.000000   \n",
       "25%      1200.000000       1999.000000      69.000000  125000.000000   \n",
       "50%      2890.000000       2003.000000     105.000000  150000.000000   \n",
       "75%      6500.000000       2008.000000     143.000000  150000.000000   \n",
       "max     20000.000000       2019.000000   20000.000000  150000.000000   \n",
       "\n",
       "       RegistrationMonth  \n",
       "count      343507.000000  \n",
       "mean            5.778988  \n",
       "std             3.697667  \n",
       "min             0.000000  \n",
       "25%             3.000000  \n",
       "50%             6.000000  \n",
       "75%             9.000000  \n",
       "max            12.000000  "
      ]
     },
     "execution_count": 99,
     "metadata": {},
     "output_type": "execute_result"
    }
   ],
   "source": [
    "#фильтр по цене и году регистрации\n",
    "auto = auto.query('Price > 0')\n",
    "auto = auto.query('RegistrationYear < 2021')\n",
    "auto.describe()"
   ]
  },
  {
   "cell_type": "markdown",
   "metadata": {
    "scrolled": false
   },
   "source": [
    "### Удалю месяц регистрации и дубликаты, появившиеся после этого"
   ]
  },
  {
   "cell_type": "code",
   "execution_count": 100,
   "metadata": {
    "scrolled": false
   },
   "outputs": [
    {
     "data": {
      "text/html": [
       "<div>\n",
       "<style scoped>\n",
       "    .dataframe tbody tr th:only-of-type {\n",
       "        vertical-align: middle;\n",
       "    }\n",
       "\n",
       "    .dataframe tbody tr th {\n",
       "        vertical-align: top;\n",
       "    }\n",
       "\n",
       "    .dataframe thead th {\n",
       "        text-align: right;\n",
       "    }\n",
       "</style>\n",
       "<table border=\"1\" class=\"dataframe\">\n",
       "  <thead>\n",
       "    <tr style=\"text-align: right;\">\n",
       "      <th></th>\n",
       "      <th>Price</th>\n",
       "      <th>VehicleType</th>\n",
       "      <th>RegistrationYear</th>\n",
       "      <th>Gearbox</th>\n",
       "      <th>Power</th>\n",
       "      <th>Model</th>\n",
       "      <th>Kilometer</th>\n",
       "      <th>FuelType</th>\n",
       "      <th>Brand</th>\n",
       "      <th>NotRepaired</th>\n",
       "    </tr>\n",
       "  </thead>\n",
       "  <tbody>\n",
       "    <tr>\n",
       "      <td>0</td>\n",
       "      <td>480</td>\n",
       "      <td>unknown</td>\n",
       "      <td>1993</td>\n",
       "      <td>manual</td>\n",
       "      <td>0</td>\n",
       "      <td>golf</td>\n",
       "      <td>150000</td>\n",
       "      <td>petrol</td>\n",
       "      <td>volkswagen</td>\n",
       "      <td>unknown</td>\n",
       "    </tr>\n",
       "    <tr>\n",
       "      <td>1</td>\n",
       "      <td>18300</td>\n",
       "      <td>coupe</td>\n",
       "      <td>2011</td>\n",
       "      <td>manual</td>\n",
       "      <td>190</td>\n",
       "      <td>unknown</td>\n",
       "      <td>125000</td>\n",
       "      <td>gasoline</td>\n",
       "      <td>audi</td>\n",
       "      <td>yes</td>\n",
       "    </tr>\n",
       "    <tr>\n",
       "      <td>2</td>\n",
       "      <td>9800</td>\n",
       "      <td>suv</td>\n",
       "      <td>2004</td>\n",
       "      <td>auto</td>\n",
       "      <td>163</td>\n",
       "      <td>grand</td>\n",
       "      <td>125000</td>\n",
       "      <td>gasoline</td>\n",
       "      <td>jeep</td>\n",
       "      <td>unknown</td>\n",
       "    </tr>\n",
       "    <tr>\n",
       "      <td>3</td>\n",
       "      <td>1500</td>\n",
       "      <td>small</td>\n",
       "      <td>2001</td>\n",
       "      <td>manual</td>\n",
       "      <td>75</td>\n",
       "      <td>golf</td>\n",
       "      <td>150000</td>\n",
       "      <td>petrol</td>\n",
       "      <td>volkswagen</td>\n",
       "      <td>no</td>\n",
       "    </tr>\n",
       "    <tr>\n",
       "      <td>4</td>\n",
       "      <td>3600</td>\n",
       "      <td>small</td>\n",
       "      <td>2008</td>\n",
       "      <td>manual</td>\n",
       "      <td>69</td>\n",
       "      <td>fabia</td>\n",
       "      <td>90000</td>\n",
       "      <td>gasoline</td>\n",
       "      <td>skoda</td>\n",
       "      <td>no</td>\n",
       "    </tr>\n",
       "    <tr>\n",
       "      <td>...</td>\n",
       "      <td>...</td>\n",
       "      <td>...</td>\n",
       "      <td>...</td>\n",
       "      <td>...</td>\n",
       "      <td>...</td>\n",
       "      <td>...</td>\n",
       "      <td>...</td>\n",
       "      <td>...</td>\n",
       "      <td>...</td>\n",
       "      <td>...</td>\n",
       "    </tr>\n",
       "    <tr>\n",
       "      <td>354363</td>\n",
       "      <td>1150</td>\n",
       "      <td>bus</td>\n",
       "      <td>2000</td>\n",
       "      <td>manual</td>\n",
       "      <td>0</td>\n",
       "      <td>zafira</td>\n",
       "      <td>150000</td>\n",
       "      <td>petrol</td>\n",
       "      <td>opel</td>\n",
       "      <td>no</td>\n",
       "    </tr>\n",
       "    <tr>\n",
       "      <td>354365</td>\n",
       "      <td>2200</td>\n",
       "      <td>unknown</td>\n",
       "      <td>2005</td>\n",
       "      <td>unknown</td>\n",
       "      <td>0</td>\n",
       "      <td>unknown</td>\n",
       "      <td>20000</td>\n",
       "      <td>unknown</td>\n",
       "      <td>sonstige_autos</td>\n",
       "      <td>unknown</td>\n",
       "    </tr>\n",
       "    <tr>\n",
       "      <td>354366</td>\n",
       "      <td>1199</td>\n",
       "      <td>convertible</td>\n",
       "      <td>2000</td>\n",
       "      <td>auto</td>\n",
       "      <td>101</td>\n",
       "      <td>fortwo</td>\n",
       "      <td>125000</td>\n",
       "      <td>petrol</td>\n",
       "      <td>smart</td>\n",
       "      <td>no</td>\n",
       "    </tr>\n",
       "    <tr>\n",
       "      <td>354367</td>\n",
       "      <td>9200</td>\n",
       "      <td>bus</td>\n",
       "      <td>1996</td>\n",
       "      <td>manual</td>\n",
       "      <td>102</td>\n",
       "      <td>transporter</td>\n",
       "      <td>150000</td>\n",
       "      <td>gasoline</td>\n",
       "      <td>volkswagen</td>\n",
       "      <td>no</td>\n",
       "    </tr>\n",
       "    <tr>\n",
       "      <td>354368</td>\n",
       "      <td>3400</td>\n",
       "      <td>wagon</td>\n",
       "      <td>2002</td>\n",
       "      <td>manual</td>\n",
       "      <td>100</td>\n",
       "      <td>golf</td>\n",
       "      <td>150000</td>\n",
       "      <td>gasoline</td>\n",
       "      <td>volkswagen</td>\n",
       "      <td>unknown</td>\n",
       "    </tr>\n",
       "  </tbody>\n",
       "</table>\n",
       "<p>343507 rows × 10 columns</p>\n",
       "</div>"
      ],
      "text/plain": [
       "        Price  VehicleType  RegistrationYear  Gearbox  Power        Model  \\\n",
       "0         480      unknown              1993   manual      0         golf   \n",
       "1       18300        coupe              2011   manual    190      unknown   \n",
       "2        9800          suv              2004     auto    163        grand   \n",
       "3        1500        small              2001   manual     75         golf   \n",
       "4        3600        small              2008   manual     69        fabia   \n",
       "...       ...          ...               ...      ...    ...          ...   \n",
       "354363   1150          bus              2000   manual      0       zafira   \n",
       "354365   2200      unknown              2005  unknown      0      unknown   \n",
       "354366   1199  convertible              2000     auto    101       fortwo   \n",
       "354367   9200          bus              1996   manual    102  transporter   \n",
       "354368   3400        wagon              2002   manual    100         golf   \n",
       "\n",
       "        Kilometer  FuelType           Brand NotRepaired  \n",
       "0          150000    petrol      volkswagen     unknown  \n",
       "1          125000  gasoline            audi         yes  \n",
       "2          125000  gasoline            jeep     unknown  \n",
       "3          150000    petrol      volkswagen          no  \n",
       "4           90000  gasoline           skoda          no  \n",
       "...           ...       ...             ...         ...  \n",
       "354363     150000    petrol            opel          no  \n",
       "354365      20000   unknown  sonstige_autos     unknown  \n",
       "354366     125000    petrol           smart          no  \n",
       "354367     150000  gasoline      volkswagen          no  \n",
       "354368     150000  gasoline      volkswagen     unknown  \n",
       "\n",
       "[343507 rows x 10 columns]"
      ]
     },
     "metadata": {},
     "output_type": "display_data"
    }
   ],
   "source": [
    "#удалим столбец \"месяц регистрации\"\n",
    "auto = auto.drop(['RegistrationMonth'], axis=1)\n",
    "display(auto)"
   ]
  },
  {
   "cell_type": "code",
   "execution_count": 101,
   "metadata": {
    "scrolled": false
   },
   "outputs": [
    {
     "data": {
      "text/plain": [
       "43165"
      ]
     },
     "execution_count": 101,
     "metadata": {},
     "output_type": "execute_result"
    }
   ],
   "source": [
    "#рассчитаем количество дубликатов\n",
    "auto.duplicated().sum()"
   ]
  },
  {
   "cell_type": "code",
   "execution_count": 102,
   "metadata": {
    "scrolled": true
   },
   "outputs": [],
   "source": [
    "#удалим дубликаты, образовавшиеся на данном этапе%%time\n",
    "auto = auto.drop_duplicates().reset_index(drop=True)"
   ]
  },
  {
   "cell_type": "markdown",
   "metadata": {
    "scrolled": false
   },
   "source": [
    "### 2. Визуализируем данные <a name=\"Визуализируем-данные\"></a>"
   ]
  },
  {
   "cell_type": "code",
   "execution_count": 103,
   "metadata": {
    "scrolled": true
   },
   "outputs": [
    {
     "data": {
      "image/png": "[encoded data removed]",
      "text/plain": [
       "<Figure size 432x288 with 1 Axes>"
      ]
     },
     "metadata": {
      "needs_background": "light"
     },
     "output_type": "display_data"
    },
    {
     "data": {
      "image/png": "[encoded data removed]",
      "text/plain": [
       "<Figure size 432x288 with 1 Axes>"
      ]
     },
     "metadata": {
      "needs_background": "light"
     },
     "output_type": "display_data"
    }
   ],
   "source": [
    "#посмотрим на гистограммы количественных признаков\n",
    "\n",
    "#функция построения гистограммы и боксплот\n",
    "def histag(rows, bins):\n",
    "    for row in rows:\n",
    "        plt.hist(\n",
    "            auto[row],\n",
    "            bins = bins,\n",
    "            label = row,\n",
    "            density=True\n",
    "        )\n",
    "        plt.grid(True)     \n",
    "        plt.legend(loc='upper right')\n",
    "        plt.title(row)\n",
    "        plt.show()\n",
    "        \n",
    "        auto.boxplot(\n",
    "            column = row,\n",
    "            vert = False\n",
    "        )\n",
    "        plt.show()\n",
    "\n",
    "#гистограмма для признака \"Цена\"\n",
    "histag(['Price'], min(auto['Price'].nunique(), 100))"
   ]
  },
  {
   "cell_type": "code",
   "execution_count": 104,
   "metadata": {
    "scrolled": false
   },
   "outputs": [
    {
     "data": {
      "image/png": "[encoded data removed]",
      "text/plain": [
       "<Figure size 432x288 with 1 Axes>"
      ]
     },
     "metadata": {
      "needs_background": "light"
     },
     "output_type": "display_data"
    },
    {
     "data": {
      "image/png": "[encoded data removed]",
      "text/plain": [
       "<Figure size 432x288 with 1 Axes>"
      ]
     },
     "metadata": {
      "needs_background": "light"
     },
     "output_type": "display_data"
    }
   ],
   "source": [
    "#посмотрим на гистограммы количественных признаков - Год регистрации\n",
    "plt.hist(\n",
    "    auto['RegistrationYear'],\n",
    "    range = (1000, 2020),\n",
    "    bins = 3,\n",
    "    label = 'RegistrationYear'\n",
    "    #density=True\n",
    ")\n",
    "plt.grid(True)     \n",
    "plt.legend(loc='upper right')\n",
    "plt.title('RegistrationYear')\n",
    "plt.show()\n",
    "\n",
    "auto.boxplot(\n",
    "    column = 'RegistrationYear',\n",
    "    vert = False\n",
    ")\n",
    "plt.show()\n"
   ]
  },
  {
   "cell_type": "markdown",
   "metadata": {},
   "source": [
    "###  <font color='purple'> Первый автомобиль появился в 1885 году, поэтому необходимо убрать все объявления до этого года выпуска))</font>"
   ]
  },
  {
   "cell_type": "code",
   "execution_count": 105,
   "metadata": {
    "scrolled": true
   },
   "outputs": [],
   "source": [
    "#отфильтруем объявления, в которых год регистрации раньше  1885 года\n",
    "auto = auto.query('RegistrationYear > 1885')\n",
    "auto = auto.drop_duplicates().reset_index(drop=True)"
   ]
  },
  {
   "cell_type": "code",
   "execution_count": 106,
   "metadata": {
    "scrolled": true
   },
   "outputs": [
    {
     "data": {
      "image/png": "[encoded data removed]",
      "text/plain": [
       "<Figure size 432x288 with 1 Axes>"
      ]
     },
     "metadata": {
      "needs_background": "light"
     },
     "output_type": "display_data"
    }
   ],
   "source": [
    "#построим боксплот после очистки данных столбца \"Год регистрации\"\n",
    "auto.boxplot(\n",
    "    column = 'RegistrationYear',\n",
    "    vert = False\n",
    ")\n",
    "plt.show()"
   ]
  },
  {
   "cell_type": "code",
   "execution_count": 107,
   "metadata": {
    "scrolled": true
   },
   "outputs": [
    {
     "data": {
      "image/png": "[encoded data removed]",
      "text/plain": [
       "<Figure size 432x288 with 1 Axes>"
      ]
     },
     "metadata": {
      "needs_background": "light"
     },
     "output_type": "display_data"
    },
    {
     "data": {
      "image/png": "[encoded data removed]",
      "text/plain": [
       "<Figure size 432x288 with 1 Axes>"
      ]
     },
     "metadata": {
      "needs_background": "light"
     },
     "output_type": "display_data"
    }
   ],
   "source": [
    "#посмотрим на гистограммы количественных признаков - Пробег, км\n",
    "histag(['Kilometer'], min(auto['Kilometer'].nunique(), 10))"
   ]
  },
  {
   "cell_type": "code",
   "execution_count": 108,
   "metadata": {
    "scrolled": true
   },
   "outputs": [
    {
     "data": {
      "image/png": "[encoded data removed]",
      "text/plain": [
       "<Figure size 432x288 with 1 Axes>"
      ]
     },
     "metadata": {
      "needs_background": "light"
     },
     "output_type": "display_data"
    },
    {
     "data": {
      "image/png": "[encoded data removed]",
      "text/plain": [
       "<Figure size 432x288 with 1 Axes>"
      ]
     },
     "metadata": {
      "needs_background": "light"
     },
     "output_type": "display_data"
    }
   ],
   "source": [
    "#посмотрим на гистограммы количественных признаков - Мощность двигателя\n",
    "plt.hist(\n",
    "    auto['Power'],\n",
    "    range = (0, 450),\n",
    "    bins = 30,\n",
    "    label = 'Power',\n",
    "    #xlim = ()\n",
    "    density=True\n",
    ")\n",
    "plt.grid(True)     \n",
    "plt.legend(loc='upper right')\n",
    "plt.title('Power')\n",
    "plt.show()\n",
    "\n",
    "auto.boxplot(\n",
    "    column = 'Power',\n",
    "    vert = False\n",
    ")\n",
    "plt.show()"
   ]
  },
  {
   "cell_type": "code",
   "execution_count": 110,
   "metadata": {
    "scrolled": false
   },
   "outputs": [
    {
     "data": {
      "text/plain": [
       "<seaborn.axisgrid.PairGrid at 0x7fb19a6d0b50>"
      ]
     },
     "execution_count": 110,
     "metadata": {},
     "output_type": "execute_result"
    },
    {
     "data": {
      "image/png": "[encoded data removed]",
      "text/plain": [
       "<Figure size 720x720 with 20 Axes>"
      ]
     },
     "metadata": {
      "needs_background": "light"
     },
     "output_type": "display_data"
    }
   ],
   "source": [
    "#посмотрим на корреляцию признаков\n",
    "sns.pairplot(auto.loc[:, ['Price', 'RegistrationYear', 'Power', 'Kilometer']])"
   ]
  },
  {
   "cell_type": "code",
   "execution_count": 111,
   "metadata": {},
   "outputs": [
    {
     "data": {
      "text/plain": [
       "<matplotlib.axes._subplots.AxesSubplot at 0x7fb1855ea510>"
      ]
     },
     "execution_count": 111,
     "metadata": {},
     "output_type": "execute_result"
    },
    {
     "data": {
      "image/png": "[encoded data removed]",
      "text/plain": [
       "<Figure size 432x288 with 2 Axes>"
      ]
     },
     "metadata": {
      "needs_background": "light"
     },
     "output_type": "display_data"
    }
   ],
   "source": [
    "sns.heatmap(auto.corr(), annot = True)"
   ]
  },
  {
   "cell_type": "markdown",
   "metadata": {},
   "source": [
    "# Вывод\n",
    "Подготовили данные к построению модели, заполнили пропуски категориальных переменных значением unknown, удалили выбросы в признаках \"цена\" (удалили нули) и \"год регистрации\" (удалил значения выше 2020 года и ниже 1885). Удалили невлияющие на целевой признак параметры. Проверили оставшиеся количественные признаки на мультиколлинеарность, зависимости не найдено."
   ]
  },
  {
   "cell_type": "markdown",
   "metadata": {},
   "source": [
    "# 2. Обучение моделей <a name=\"Обучение-модели\"></a>"
   ]
  },
  {
   "cell_type": "markdown",
   "metadata": {},
   "source": [
    "## 1. Кодирование данных <a name=\"Кодирование-данных\"></a>"
   ]
  },
  {
   "cell_type": "markdown",
   "metadata": {},
   "source": [
    "### A. кодирование ОНЕ - <font color=\"purple\">применяем для линейной регрессии</font>"
   ]
  },
  {
   "cell_type": "code",
   "execution_count": 112,
   "metadata": {},
   "outputs": [
    {
     "name": "stdout",
     "output_type": "stream",
     "text": [
      "<class 'pandas.core.frame.DataFrame'>\n",
      "RangeIndex: 300291 entries, 0 to 300290\n",
      "Columns: 312 entries, Price to NotRepaired_yes\n",
      "dtypes: int64(4), uint8(308)\n",
      "memory usage: 97.4 MB\n"
     ]
    }
   ],
   "source": [
    "#преобразуем категориальные признаки в численные с помощью метода OHE\n",
    "auto_ohe = pd.get_dummies(auto,  drop_first=True)\n",
    "auto_ohe.info()"
   ]
  },
  {
   "cell_type": "code",
   "execution_count": 113,
   "metadata": {},
   "outputs": [
    {
     "data": {
      "text/plain": [
       "(300291, 311)"
      ]
     },
     "metadata": {},
     "output_type": "display_data"
    },
    {
     "data": {
      "text/plain": [
       "(300291, 1)"
      ]
     },
     "metadata": {},
     "output_type": "display_data"
    }
   ],
   "source": [
    "#Разобьем данные на целевой и нецелыве признаки\n",
    "features_linreg = auto_ohe.drop(['Price'], axis=1)\n",
    "target_linreg = auto_ohe.loc[:, ['Price']]\n",
    "\n",
    "display(features_linreg.shape)\n",
    "display(target_linreg.shape)"
   ]
  },
  {
   "cell_type": "code",
   "execution_count": 114,
   "metadata": {
    "scrolled": false
   },
   "outputs": [
    {
     "data": {
      "text/plain": [
       "(225218, 311)"
      ]
     },
     "metadata": {},
     "output_type": "display_data"
    },
    {
     "data": {
      "text/plain": [
       "(75073, 311)"
      ]
     },
     "metadata": {},
     "output_type": "display_data"
    },
    {
     "data": {
      "text/plain": [
       "(225218, 1)"
      ]
     },
     "metadata": {},
     "output_type": "display_data"
    },
    {
     "data": {
      "text/plain": [
       "(75073, 1)"
      ]
     },
     "metadata": {},
     "output_type": "display_data"
    }
   ],
   "source": [
    "#Разобьем данные на обучающую (75%), тестовую (25%) выборки.\n",
    "features_train_linreg, features_test_linreg, target_train_linreg, target_test_linreg = train_test_split (\n",
    "    features_linreg, target_linreg, test_size=0.25, random_state=12345\n",
    ")\n",
    "display(features_train_linreg.shape, features_test_linreg.shape, target_train_linreg.shape, target_test_linreg.shape)"
   ]
  },
  {
   "cell_type": "markdown",
   "metadata": {
    "scrolled": true
   },
   "source": [
    "### <font color=\"purple\"> Проведем масштабирование данных для линейной регрессии<font>"
   ]
  },
  {
   "cell_type": "code",
   "execution_count": 115,
   "metadata": {
    "scrolled": true
   },
   "outputs": [
    {
     "data": {
      "text/html": [
       "<div>\n",
       "<style scoped>\n",
       "    .dataframe tbody tr th:only-of-type {\n",
       "        vertical-align: middle;\n",
       "    }\n",
       "\n",
       "    .dataframe tbody tr th {\n",
       "        vertical-align: top;\n",
       "    }\n",
       "\n",
       "    .dataframe thead th {\n",
       "        text-align: right;\n",
       "    }\n",
       "</style>\n",
       "<table border=\"1\" class=\"dataframe\">\n",
       "  <thead>\n",
       "    <tr style=\"text-align: right;\">\n",
       "      <th></th>\n",
       "      <th>RegistrationYear</th>\n",
       "      <th>Power</th>\n",
       "      <th>Kilometer</th>\n",
       "      <th>VehicleType_convertible</th>\n",
       "      <th>VehicleType_coupe</th>\n",
       "      <th>VehicleType_other</th>\n",
       "      <th>VehicleType_sedan</th>\n",
       "      <th>VehicleType_small</th>\n",
       "      <th>VehicleType_suv</th>\n",
       "      <th>VehicleType_unknown</th>\n",
       "      <th>...</th>\n",
       "      <th>Brand_smart</th>\n",
       "      <th>Brand_sonstige_autos</th>\n",
       "      <th>Brand_subaru</th>\n",
       "      <th>Brand_suzuki</th>\n",
       "      <th>Brand_toyota</th>\n",
       "      <th>Brand_trabant</th>\n",
       "      <th>Brand_volkswagen</th>\n",
       "      <th>Brand_volvo</th>\n",
       "      <th>NotRepaired_unknown</th>\n",
       "      <th>NotRepaired_yes</th>\n",
       "    </tr>\n",
       "  </thead>\n",
       "  <tbody>\n",
       "    <tr>\n",
       "      <td>0</td>\n",
       "      <td>0.233449</td>\n",
       "      <td>0.396948</td>\n",
       "      <td>-1.246036</td>\n",
       "      <td>3.971431</td>\n",
       "      <td>-0.221986</td>\n",
       "      <td>-0.100319</td>\n",
       "      <td>-0.584224</td>\n",
       "      <td>-0.532088</td>\n",
       "      <td>-0.192071</td>\n",
       "      <td>-0.343319</td>\n",
       "      <td>...</td>\n",
       "      <td>-0.127002</td>\n",
       "      <td>-0.09468</td>\n",
       "      <td>-0.047594</td>\n",
       "      <td>-0.084454</td>\n",
       "      <td>-0.117886</td>\n",
       "      <td>-0.038884</td>\n",
       "      <td>-0.508986</td>\n",
       "      <td>-0.09806</td>\n",
       "      <td>-0.500259</td>\n",
       "      <td>-0.342009</td>\n",
       "    </tr>\n",
       "    <tr>\n",
       "      <td>1</td>\n",
       "      <td>-0.295650</td>\n",
       "      <td>-0.058059</td>\n",
       "      <td>0.592805</td>\n",
       "      <td>-0.251798</td>\n",
       "      <td>-0.221986</td>\n",
       "      <td>-0.100319</td>\n",
       "      <td>1.711672</td>\n",
       "      <td>-0.532088</td>\n",
       "      <td>-0.192071</td>\n",
       "      <td>-0.343319</td>\n",
       "      <td>...</td>\n",
       "      <td>-0.127002</td>\n",
       "      <td>-0.09468</td>\n",
       "      <td>-0.047594</td>\n",
       "      <td>-0.084454</td>\n",
       "      <td>-0.117886</td>\n",
       "      <td>-0.038884</td>\n",
       "      <td>-0.508986</td>\n",
       "      <td>-0.09806</td>\n",
       "      <td>-0.500259</td>\n",
       "      <td>-0.342009</td>\n",
       "    </tr>\n",
       "    <tr>\n",
       "      <td>2</td>\n",
       "      <td>0.365723</td>\n",
       "      <td>-0.033331</td>\n",
       "      <td>0.592805</td>\n",
       "      <td>-0.251798</td>\n",
       "      <td>-0.221986</td>\n",
       "      <td>-0.100319</td>\n",
       "      <td>1.711672</td>\n",
       "      <td>-0.532088</td>\n",
       "      <td>-0.192071</td>\n",
       "      <td>-0.343319</td>\n",
       "      <td>...</td>\n",
       "      <td>-0.127002</td>\n",
       "      <td>-0.09468</td>\n",
       "      <td>-0.047594</td>\n",
       "      <td>-0.084454</td>\n",
       "      <td>-0.117886</td>\n",
       "      <td>-0.038884</td>\n",
       "      <td>1.964692</td>\n",
       "      <td>-0.09806</td>\n",
       "      <td>-0.500259</td>\n",
       "      <td>-0.342009</td>\n",
       "    </tr>\n",
       "    <tr>\n",
       "      <td>3</td>\n",
       "      <td>0.894822</td>\n",
       "      <td>-0.082788</td>\n",
       "      <td>-0.983344</td>\n",
       "      <td>-0.251798</td>\n",
       "      <td>-0.221986</td>\n",
       "      <td>-0.100319</td>\n",
       "      <td>1.711672</td>\n",
       "      <td>-0.532088</td>\n",
       "      <td>-0.192071</td>\n",
       "      <td>-0.343319</td>\n",
       "      <td>...</td>\n",
       "      <td>-0.127002</td>\n",
       "      <td>-0.09468</td>\n",
       "      <td>-0.047594</td>\n",
       "      <td>-0.084454</td>\n",
       "      <td>-0.117886</td>\n",
       "      <td>-0.038884</td>\n",
       "      <td>-0.508986</td>\n",
       "      <td>-0.09806</td>\n",
       "      <td>-0.500259</td>\n",
       "      <td>-0.342009</td>\n",
       "    </tr>\n",
       "    <tr>\n",
       "      <td>4</td>\n",
       "      <td>0.233449</td>\n",
       "      <td>0.021072</td>\n",
       "      <td>0.592805</td>\n",
       "      <td>-0.251798</td>\n",
       "      <td>-0.221986</td>\n",
       "      <td>-0.100319</td>\n",
       "      <td>-0.584224</td>\n",
       "      <td>-0.532088</td>\n",
       "      <td>-0.192071</td>\n",
       "      <td>-0.343319</td>\n",
       "      <td>...</td>\n",
       "      <td>-0.127002</td>\n",
       "      <td>-0.09468</td>\n",
       "      <td>-0.047594</td>\n",
       "      <td>-0.084454</td>\n",
       "      <td>-0.117886</td>\n",
       "      <td>-0.038884</td>\n",
       "      <td>-0.508986</td>\n",
       "      <td>-0.09806</td>\n",
       "      <td>-0.500259</td>\n",
       "      <td>-0.342009</td>\n",
       "    </tr>\n",
       "    <tr>\n",
       "      <td>5</td>\n",
       "      <td>-1.089298</td>\n",
       "      <td>0.401893</td>\n",
       "      <td>0.592805</td>\n",
       "      <td>-0.251798</td>\n",
       "      <td>-0.221986</td>\n",
       "      <td>-0.100319</td>\n",
       "      <td>-0.584224</td>\n",
       "      <td>-0.532088</td>\n",
       "      <td>-0.192071</td>\n",
       "      <td>-0.343319</td>\n",
       "      <td>...</td>\n",
       "      <td>-0.127002</td>\n",
       "      <td>-0.09468</td>\n",
       "      <td>-0.047594</td>\n",
       "      <td>-0.084454</td>\n",
       "      <td>-0.117886</td>\n",
       "      <td>-0.038884</td>\n",
       "      <td>-0.508986</td>\n",
       "      <td>-0.09806</td>\n",
       "      <td>1.998963</td>\n",
       "      <td>-0.342009</td>\n",
       "    </tr>\n",
       "    <tr>\n",
       "      <td>6</td>\n",
       "      <td>0.630273</td>\n",
       "      <td>-0.201485</td>\n",
       "      <td>-0.063924</td>\n",
       "      <td>3.971431</td>\n",
       "      <td>-0.221986</td>\n",
       "      <td>-0.100319</td>\n",
       "      <td>-0.584224</td>\n",
       "      <td>-0.532088</td>\n",
       "      <td>-0.192071</td>\n",
       "      <td>-0.343319</td>\n",
       "      <td>...</td>\n",
       "      <td>7.873884</td>\n",
       "      <td>-0.09468</td>\n",
       "      <td>-0.047594</td>\n",
       "      <td>-0.084454</td>\n",
       "      <td>-0.117886</td>\n",
       "      <td>-0.038884</td>\n",
       "      <td>-0.508986</td>\n",
       "      <td>-0.09806</td>\n",
       "      <td>-0.500259</td>\n",
       "      <td>-0.342009</td>\n",
       "    </tr>\n",
       "    <tr>\n",
       "      <td>7</td>\n",
       "      <td>0.630273</td>\n",
       "      <td>-0.127299</td>\n",
       "      <td>-2.034110</td>\n",
       "      <td>-0.251798</td>\n",
       "      <td>-0.221986</td>\n",
       "      <td>-0.100319</td>\n",
       "      <td>1.711672</td>\n",
       "      <td>-0.532088</td>\n",
       "      <td>-0.192071</td>\n",
       "      <td>-0.343319</td>\n",
       "      <td>...</td>\n",
       "      <td>-0.127002</td>\n",
       "      <td>-0.09468</td>\n",
       "      <td>-0.047594</td>\n",
       "      <td>-0.084454</td>\n",
       "      <td>-0.117886</td>\n",
       "      <td>-0.038884</td>\n",
       "      <td>-0.508986</td>\n",
       "      <td>-0.09806</td>\n",
       "      <td>-0.500259</td>\n",
       "      <td>-0.342009</td>\n",
       "    </tr>\n",
       "    <tr>\n",
       "      <td>8</td>\n",
       "      <td>-0.560200</td>\n",
       "      <td>-0.181702</td>\n",
       "      <td>0.592805</td>\n",
       "      <td>-0.251798</td>\n",
       "      <td>-0.221986</td>\n",
       "      <td>-0.100319</td>\n",
       "      <td>-0.584224</td>\n",
       "      <td>1.879387</td>\n",
       "      <td>-0.192071</td>\n",
       "      <td>-0.343319</td>\n",
       "      <td>...</td>\n",
       "      <td>-0.127002</td>\n",
       "      <td>-0.09468</td>\n",
       "      <td>-0.047594</td>\n",
       "      <td>-0.084454</td>\n",
       "      <td>-0.117886</td>\n",
       "      <td>-0.038884</td>\n",
       "      <td>-0.508986</td>\n",
       "      <td>-0.09806</td>\n",
       "      <td>-0.500259</td>\n",
       "      <td>-0.342009</td>\n",
       "    </tr>\n",
       "    <tr>\n",
       "      <td>9</td>\n",
       "      <td>0.497998</td>\n",
       "      <td>0.189227</td>\n",
       "      <td>0.592805</td>\n",
       "      <td>-0.251798</td>\n",
       "      <td>-0.221986</td>\n",
       "      <td>-0.100319</td>\n",
       "      <td>1.711672</td>\n",
       "      <td>-0.532088</td>\n",
       "      <td>-0.192071</td>\n",
       "      <td>-0.343319</td>\n",
       "      <td>...</td>\n",
       "      <td>-0.127002</td>\n",
       "      <td>-0.09468</td>\n",
       "      <td>-0.047594</td>\n",
       "      <td>-0.084454</td>\n",
       "      <td>-0.117886</td>\n",
       "      <td>-0.038884</td>\n",
       "      <td>-0.508986</td>\n",
       "      <td>-0.09806</td>\n",
       "      <td>-0.500259</td>\n",
       "      <td>-0.342009</td>\n",
       "    </tr>\n",
       "  </tbody>\n",
       "</table>\n",
       "<p>10 rows × 311 columns</p>\n",
       "</div>"
      ],
      "text/plain": [
       "   RegistrationYear     Power  Kilometer  VehicleType_convertible  \\\n",
       "0          0.233449  0.396948  -1.246036                 3.971431   \n",
       "1         -0.295650 -0.058059   0.592805                -0.251798   \n",
       "2          0.365723 -0.033331   0.592805                -0.251798   \n",
       "3          0.894822 -0.082788  -0.983344                -0.251798   \n",
       "4          0.233449  0.021072   0.592805                -0.251798   \n",
       "5         -1.089298  0.401893   0.592805                -0.251798   \n",
       "6          0.630273 -0.201485  -0.063924                 3.971431   \n",
       "7          0.630273 -0.127299  -2.034110                -0.251798   \n",
       "8         -0.560200 -0.181702   0.592805                -0.251798   \n",
       "9          0.497998  0.189227   0.592805                -0.251798   \n",
       "\n",
       "   VehicleType_coupe  VehicleType_other  VehicleType_sedan  VehicleType_small  \\\n",
       "0          -0.221986          -0.100319          -0.584224          -0.532088   \n",
       "1          -0.221986          -0.100319           1.711672          -0.532088   \n",
       "2          -0.221986          -0.100319           1.711672          -0.532088   \n",
       "3          -0.221986          -0.100319           1.711672          -0.532088   \n",
       "4          -0.221986          -0.100319          -0.584224          -0.532088   \n",
       "5          -0.221986          -0.100319          -0.584224          -0.532088   \n",
       "6          -0.221986          -0.100319          -0.584224          -0.532088   \n",
       "7          -0.221986          -0.100319           1.711672          -0.532088   \n",
       "8          -0.221986          -0.100319          -0.584224           1.879387   \n",
       "9          -0.221986          -0.100319           1.711672          -0.532088   \n",
       "\n",
       "   VehicleType_suv  VehicleType_unknown  ...  Brand_smart  \\\n",
       "0        -0.192071            -0.343319  ...    -0.127002   \n",
       "1        -0.192071            -0.343319  ...    -0.127002   \n",
       "2        -0.192071            -0.343319  ...    -0.127002   \n",
       "3        -0.192071            -0.343319  ...    -0.127002   \n",
       "4        -0.192071            -0.343319  ...    -0.127002   \n",
       "5        -0.192071            -0.343319  ...    -0.127002   \n",
       "6        -0.192071            -0.343319  ...     7.873884   \n",
       "7        -0.192071            -0.343319  ...    -0.127002   \n",
       "8        -0.192071            -0.343319  ...    -0.127002   \n",
       "9        -0.192071            -0.343319  ...    -0.127002   \n",
       "\n",
       "   Brand_sonstige_autos  Brand_subaru  Brand_suzuki  Brand_toyota  \\\n",
       "0              -0.09468     -0.047594     -0.084454     -0.117886   \n",
       "1              -0.09468     -0.047594     -0.084454     -0.117886   \n",
       "2              -0.09468     -0.047594     -0.084454     -0.117886   \n",
       "3              -0.09468     -0.047594     -0.084454     -0.117886   \n",
       "4              -0.09468     -0.047594     -0.084454     -0.117886   \n",
       "5              -0.09468     -0.047594     -0.084454     -0.117886   \n",
       "6              -0.09468     -0.047594     -0.084454     -0.117886   \n",
       "7              -0.09468     -0.047594     -0.084454     -0.117886   \n",
       "8              -0.09468     -0.047594     -0.084454     -0.117886   \n",
       "9              -0.09468     -0.047594     -0.084454     -0.117886   \n",
       "\n",
       "   Brand_trabant  Brand_volkswagen  Brand_volvo  NotRepaired_unknown  \\\n",
       "0      -0.038884         -0.508986     -0.09806            -0.500259   \n",
       "1      -0.038884         -0.508986     -0.09806            -0.500259   \n",
       "2      -0.038884          1.964692     -0.09806            -0.500259   \n",
       "3      -0.038884         -0.508986     -0.09806            -0.500259   \n",
       "4      -0.038884         -0.508986     -0.09806            -0.500259   \n",
       "5      -0.038884         -0.508986     -0.09806             1.998963   \n",
       "6      -0.038884         -0.508986     -0.09806            -0.500259   \n",
       "7      -0.038884         -0.508986     -0.09806            -0.500259   \n",
       "8      -0.038884         -0.508986     -0.09806            -0.500259   \n",
       "9      -0.038884         -0.508986     -0.09806            -0.500259   \n",
       "\n",
       "   NotRepaired_yes  \n",
       "0        -0.342009  \n",
       "1        -0.342009  \n",
       "2        -0.342009  \n",
       "3        -0.342009  \n",
       "4        -0.342009  \n",
       "5        -0.342009  \n",
       "6        -0.342009  \n",
       "7        -0.342009  \n",
       "8        -0.342009  \n",
       "9        -0.342009  \n",
       "\n",
       "[10 rows x 311 columns]"
      ]
     },
     "metadata": {},
     "output_type": "display_data"
    }
   ],
   "source": [
    "#проведем масштабирование\n",
    "scaler_lin = StandardScaler()\n",
    "scaler_train = scaler_lin.fit(features_train_linreg)\n",
    "features_train_lin_stand = pd.DataFrame(scaler_train.transform(features_train_linreg), columns=features_train_linreg.columns)\n",
    "features_test_lin_stand = pd.DataFrame(scaler_train.transform(features_test_linreg), columns=features_test_linreg.columns)\n",
    "\n",
    "display(features_train_lin_stand.head(10))"
   ]
  },
  {
   "cell_type": "markdown",
   "metadata": {},
   "source": [
    "### Б. кодирование Ordinal Encoding"
   ]
  },
  {
   "cell_type": "markdown",
   "metadata": {},
   "source": [
    "### <font color='purple'> Закодируем только категориальные переменный</font>"
   ]
  },
  {
   "cell_type": "code",
   "execution_count": 117,
   "metadata": {},
   "outputs": [],
   "source": [
    "#составим список категориальных переменных\n",
    "category = ['VehicleType', 'Gearbox', 'Model', 'FuelType', 'Brand', 'NotRepaired']"
   ]
  },
  {
   "cell_type": "code",
   "execution_count": 118,
   "metadata": {},
   "outputs": [
    {
     "data": {
      "text/html": [
       "<div>\n",
       "<style scoped>\n",
       "    .dataframe tbody tr th:only-of-type {\n",
       "        vertical-align: middle;\n",
       "    }\n",
       "\n",
       "    .dataframe tbody tr th {\n",
       "        vertical-align: top;\n",
       "    }\n",
       "\n",
       "    .dataframe thead th {\n",
       "        text-align: right;\n",
       "    }\n",
       "</style>\n",
       "<table border=\"1\" class=\"dataframe\">\n",
       "  <thead>\n",
       "    <tr style=\"text-align: right;\">\n",
       "      <th></th>\n",
       "      <th>VehicleType</th>\n",
       "      <th>Gearbox</th>\n",
       "      <th>Model</th>\n",
       "      <th>FuelType</th>\n",
       "      <th>Brand</th>\n",
       "      <th>NotRepaired</th>\n",
       "    </tr>\n",
       "  </thead>\n",
       "  <tbody>\n",
       "    <tr>\n",
       "      <td>0</td>\n",
       "      <td>7.0</td>\n",
       "      <td>1.0</td>\n",
       "      <td>116.0</td>\n",
       "      <td>6.0</td>\n",
       "      <td>38.0</td>\n",
       "      <td>1.0</td>\n",
       "    </tr>\n",
       "    <tr>\n",
       "      <td>1</td>\n",
       "      <td>2.0</td>\n",
       "      <td>1.0</td>\n",
       "      <td>228.0</td>\n",
       "      <td>2.0</td>\n",
       "      <td>1.0</td>\n",
       "      <td>2.0</td>\n",
       "    </tr>\n",
       "    <tr>\n",
       "      <td>2</td>\n",
       "      <td>6.0</td>\n",
       "      <td>0.0</td>\n",
       "      <td>117.0</td>\n",
       "      <td>2.0</td>\n",
       "      <td>14.0</td>\n",
       "      <td>1.0</td>\n",
       "    </tr>\n",
       "    <tr>\n",
       "      <td>3</td>\n",
       "      <td>5.0</td>\n",
       "      <td>1.0</td>\n",
       "      <td>116.0</td>\n",
       "      <td>6.0</td>\n",
       "      <td>38.0</td>\n",
       "      <td>0.0</td>\n",
       "    </tr>\n",
       "    <tr>\n",
       "      <td>4</td>\n",
       "      <td>5.0</td>\n",
       "      <td>1.0</td>\n",
       "      <td>101.0</td>\n",
       "      <td>2.0</td>\n",
       "      <td>31.0</td>\n",
       "      <td>0.0</td>\n",
       "    </tr>\n",
       "    <tr>\n",
       "      <td>...</td>\n",
       "      <td>...</td>\n",
       "      <td>...</td>\n",
       "      <td>...</td>\n",
       "      <td>...</td>\n",
       "      <td>...</td>\n",
       "      <td>...</td>\n",
       "    </tr>\n",
       "    <tr>\n",
       "      <td>300286</td>\n",
       "      <td>4.0</td>\n",
       "      <td>1.0</td>\n",
       "      <td>140.0</td>\n",
       "      <td>6.0</td>\n",
       "      <td>30.0</td>\n",
       "      <td>2.0</td>\n",
       "    </tr>\n",
       "    <tr>\n",
       "      <td>300287</td>\n",
       "      <td>7.0</td>\n",
       "      <td>2.0</td>\n",
       "      <td>228.0</td>\n",
       "      <td>7.0</td>\n",
       "      <td>33.0</td>\n",
       "      <td>1.0</td>\n",
       "    </tr>\n",
       "    <tr>\n",
       "      <td>300288</td>\n",
       "      <td>1.0</td>\n",
       "      <td>0.0</td>\n",
       "      <td>106.0</td>\n",
       "      <td>6.0</td>\n",
       "      <td>32.0</td>\n",
       "      <td>0.0</td>\n",
       "    </tr>\n",
       "    <tr>\n",
       "      <td>300289</td>\n",
       "      <td>0.0</td>\n",
       "      <td>1.0</td>\n",
       "      <td>224.0</td>\n",
       "      <td>2.0</td>\n",
       "      <td>38.0</td>\n",
       "      <td>0.0</td>\n",
       "    </tr>\n",
       "    <tr>\n",
       "      <td>300290</td>\n",
       "      <td>8.0</td>\n",
       "      <td>1.0</td>\n",
       "      <td>116.0</td>\n",
       "      <td>2.0</td>\n",
       "      <td>38.0</td>\n",
       "      <td>1.0</td>\n",
       "    </tr>\n",
       "  </tbody>\n",
       "</table>\n",
       "<p>300291 rows × 6 columns</p>\n",
       "</div>"
      ],
      "text/plain": [
       "        VehicleType  Gearbox  Model  FuelType  Brand  NotRepaired\n",
       "0               7.0      1.0  116.0       6.0   38.0          1.0\n",
       "1               2.0      1.0  228.0       2.0    1.0          2.0\n",
       "2               6.0      0.0  117.0       2.0   14.0          1.0\n",
       "3               5.0      1.0  116.0       6.0   38.0          0.0\n",
       "4               5.0      1.0  101.0       2.0   31.0          0.0\n",
       "...             ...      ...    ...       ...    ...          ...\n",
       "300286          4.0      1.0  140.0       6.0   30.0          2.0\n",
       "300287          7.0      2.0  228.0       7.0   33.0          1.0\n",
       "300288          1.0      0.0  106.0       6.0   32.0          0.0\n",
       "300289          0.0      1.0  224.0       2.0   38.0          0.0\n",
       "300290          8.0      1.0  116.0       2.0   38.0          1.0\n",
       "\n",
       "[300291 rows x 6 columns]"
      ]
     },
     "execution_count": 118,
     "metadata": {},
     "output_type": "execute_result"
    }
   ],
   "source": [
    "#преобразуем категориаьные признаки в численные с помощью метода Ordinal Encoding\n",
    "encoder = OrdinalEncoder()\n",
    "auto_ordenc = pd.DataFrame(encoder\n",
    "                           .fit_transform(\n",
    "                               auto.loc[:,['VehicleType', 'Gearbox', 'Model', 'FuelType', 'Brand', 'NotRepaired']]),\n",
    "                           columns=category)\n",
    "auto_ordenc"
   ]
  },
  {
   "cell_type": "markdown",
   "metadata": {},
   "source": [
    "### <font color='purple'>Обновим исходную таблицу закодированными данными</font>"
   ]
  },
  {
   "cell_type": "code",
   "execution_count": 119,
   "metadata": {},
   "outputs": [
    {
     "data": {
      "text/html": [
       "<div>\n",
       "<style scoped>\n",
       "    .dataframe tbody tr th:only-of-type {\n",
       "        vertical-align: middle;\n",
       "    }\n",
       "\n",
       "    .dataframe tbody tr th {\n",
       "        vertical-align: top;\n",
       "    }\n",
       "\n",
       "    .dataframe thead th {\n",
       "        text-align: right;\n",
       "    }\n",
       "</style>\n",
       "<table border=\"1\" class=\"dataframe\">\n",
       "  <thead>\n",
       "    <tr style=\"text-align: right;\">\n",
       "      <th></th>\n",
       "      <th>Price</th>\n",
       "      <th>RegistrationYear</th>\n",
       "      <th>Power</th>\n",
       "      <th>Kilometer</th>\n",
       "    </tr>\n",
       "  </thead>\n",
       "  <tbody>\n",
       "    <tr>\n",
       "      <td>300281</td>\n",
       "      <td>5000</td>\n",
       "      <td>2003</td>\n",
       "      <td>260</td>\n",
       "      <td>150000</td>\n",
       "    </tr>\n",
       "    <tr>\n",
       "      <td>300282</td>\n",
       "      <td>999</td>\n",
       "      <td>2000</td>\n",
       "      <td>95</td>\n",
       "      <td>150000</td>\n",
       "    </tr>\n",
       "    <tr>\n",
       "      <td>300283</td>\n",
       "      <td>1690</td>\n",
       "      <td>2004</td>\n",
       "      <td>55</td>\n",
       "      <td>150000</td>\n",
       "    </tr>\n",
       "    <tr>\n",
       "      <td>300284</td>\n",
       "      <td>3999</td>\n",
       "      <td>2005</td>\n",
       "      <td>3</td>\n",
       "      <td>150000</td>\n",
       "    </tr>\n",
       "    <tr>\n",
       "      <td>300285</td>\n",
       "      <td>5250</td>\n",
       "      <td>2016</td>\n",
       "      <td>150</td>\n",
       "      <td>150000</td>\n",
       "    </tr>\n",
       "    <tr>\n",
       "      <td>300286</td>\n",
       "      <td>3200</td>\n",
       "      <td>2004</td>\n",
       "      <td>225</td>\n",
       "      <td>150000</td>\n",
       "    </tr>\n",
       "    <tr>\n",
       "      <td>300287</td>\n",
       "      <td>2200</td>\n",
       "      <td>2005</td>\n",
       "      <td>0</td>\n",
       "      <td>20000</td>\n",
       "    </tr>\n",
       "    <tr>\n",
       "      <td>300288</td>\n",
       "      <td>1199</td>\n",
       "      <td>2000</td>\n",
       "      <td>101</td>\n",
       "      <td>125000</td>\n",
       "    </tr>\n",
       "    <tr>\n",
       "      <td>300289</td>\n",
       "      <td>9200</td>\n",
       "      <td>1996</td>\n",
       "      <td>102</td>\n",
       "      <td>150000</td>\n",
       "    </tr>\n",
       "    <tr>\n",
       "      <td>300290</td>\n",
       "      <td>3400</td>\n",
       "      <td>2002</td>\n",
       "      <td>100</td>\n",
       "      <td>150000</td>\n",
       "    </tr>\n",
       "  </tbody>\n",
       "</table>\n",
       "</div>"
      ],
      "text/plain": [
       "        Price  RegistrationYear  Power  Kilometer\n",
       "300281   5000              2003    260     150000\n",
       "300282    999              2000     95     150000\n",
       "300283   1690              2004     55     150000\n",
       "300284   3999              2005      3     150000\n",
       "300285   5250              2016    150     150000\n",
       "300286   3200              2004    225     150000\n",
       "300287   2200              2005      0      20000\n",
       "300288   1199              2000    101     125000\n",
       "300289   9200              1996    102     150000\n",
       "300290   3400              2002    100     150000"
      ]
     },
     "metadata": {},
     "output_type": "display_data"
    }
   ],
   "source": [
    "#выделяем количественные признаки\n",
    "counts = auto.loc[:,['Price', 'RegistrationYear', 'Power', 'Kilometer']]\n",
    "display(counts.tail(10))"
   ]
  },
  {
   "cell_type": "code",
   "execution_count": 120,
   "metadata": {},
   "outputs": [
    {
     "data": {
      "text/html": [
       "<div>\n",
       "<style scoped>\n",
       "    .dataframe tbody tr th:only-of-type {\n",
       "        vertical-align: middle;\n",
       "    }\n",
       "\n",
       "    .dataframe tbody tr th {\n",
       "        vertical-align: top;\n",
       "    }\n",
       "\n",
       "    .dataframe thead th {\n",
       "        text-align: right;\n",
       "    }\n",
       "</style>\n",
       "<table border=\"1\" class=\"dataframe\">\n",
       "  <thead>\n",
       "    <tr style=\"text-align: right;\">\n",
       "      <th></th>\n",
       "      <th>VehicleType</th>\n",
       "      <th>Gearbox</th>\n",
       "      <th>Model</th>\n",
       "      <th>FuelType</th>\n",
       "      <th>Brand</th>\n",
       "      <th>NotRepaired</th>\n",
       "    </tr>\n",
       "  </thead>\n",
       "  <tbody>\n",
       "    <tr>\n",
       "      <td>300281</td>\n",
       "      <td>4.0</td>\n",
       "      <td>0.0</td>\n",
       "      <td>95.0</td>\n",
       "      <td>2.0</td>\n",
       "      <td>20.0</td>\n",
       "      <td>2.0</td>\n",
       "    </tr>\n",
       "    <tr>\n",
       "      <td>300282</td>\n",
       "      <td>1.0</td>\n",
       "      <td>1.0</td>\n",
       "      <td>149.0</td>\n",
       "      <td>6.0</td>\n",
       "      <td>27.0</td>\n",
       "      <td>1.0</td>\n",
       "    </tr>\n",
       "    <tr>\n",
       "      <td>300283</td>\n",
       "      <td>8.0</td>\n",
       "      <td>1.0</td>\n",
       "      <td>101.0</td>\n",
       "      <td>6.0</td>\n",
       "      <td>31.0</td>\n",
       "      <td>1.0</td>\n",
       "    </tr>\n",
       "    <tr>\n",
       "      <td>300284</td>\n",
       "      <td>8.0</td>\n",
       "      <td>1.0</td>\n",
       "      <td>11.0</td>\n",
       "      <td>2.0</td>\n",
       "      <td>2.0</td>\n",
       "      <td>0.0</td>\n",
       "    </tr>\n",
       "    <tr>\n",
       "      <td>300285</td>\n",
       "      <td>7.0</td>\n",
       "      <td>0.0</td>\n",
       "      <td>4.0</td>\n",
       "      <td>7.0</td>\n",
       "      <td>0.0</td>\n",
       "      <td>0.0</td>\n",
       "    </tr>\n",
       "    <tr>\n",
       "      <td>300286</td>\n",
       "      <td>4.0</td>\n",
       "      <td>1.0</td>\n",
       "      <td>140.0</td>\n",
       "      <td>6.0</td>\n",
       "      <td>30.0</td>\n",
       "      <td>2.0</td>\n",
       "    </tr>\n",
       "    <tr>\n",
       "      <td>300287</td>\n",
       "      <td>7.0</td>\n",
       "      <td>2.0</td>\n",
       "      <td>228.0</td>\n",
       "      <td>7.0</td>\n",
       "      <td>33.0</td>\n",
       "      <td>1.0</td>\n",
       "    </tr>\n",
       "    <tr>\n",
       "      <td>300288</td>\n",
       "      <td>1.0</td>\n",
       "      <td>0.0</td>\n",
       "      <td>106.0</td>\n",
       "      <td>6.0</td>\n",
       "      <td>32.0</td>\n",
       "      <td>0.0</td>\n",
       "    </tr>\n",
       "    <tr>\n",
       "      <td>300289</td>\n",
       "      <td>0.0</td>\n",
       "      <td>1.0</td>\n",
       "      <td>224.0</td>\n",
       "      <td>2.0</td>\n",
       "      <td>38.0</td>\n",
       "      <td>0.0</td>\n",
       "    </tr>\n",
       "    <tr>\n",
       "      <td>300290</td>\n",
       "      <td>8.0</td>\n",
       "      <td>1.0</td>\n",
       "      <td>116.0</td>\n",
       "      <td>2.0</td>\n",
       "      <td>38.0</td>\n",
       "      <td>1.0</td>\n",
       "    </tr>\n",
       "  </tbody>\n",
       "</table>\n",
       "</div>"
      ],
      "text/plain": [
       "        VehicleType  Gearbox  Model  FuelType  Brand  NotRepaired\n",
       "300281          4.0      0.0   95.0       2.0   20.0          2.0\n",
       "300282          1.0      1.0  149.0       6.0   27.0          1.0\n",
       "300283          8.0      1.0  101.0       6.0   31.0          1.0\n",
       "300284          8.0      1.0   11.0       2.0    2.0          0.0\n",
       "300285          7.0      0.0    4.0       7.0    0.0          0.0\n",
       "300286          4.0      1.0  140.0       6.0   30.0          2.0\n",
       "300287          7.0      2.0  228.0       7.0   33.0          1.0\n",
       "300288          1.0      0.0  106.0       6.0   32.0          0.0\n",
       "300289          0.0      1.0  224.0       2.0   38.0          0.0\n",
       "300290          8.0      1.0  116.0       2.0   38.0          1.0"
      ]
     },
     "metadata": {},
     "output_type": "display_data"
    }
   ],
   "source": [
    "display(auto_ordenc.tail(10))"
   ]
  },
  {
   "cell_type": "code",
   "execution_count": 121,
   "metadata": {},
   "outputs": [
    {
     "data": {
      "text/html": [
       "<div>\n",
       "<style scoped>\n",
       "    .dataframe tbody tr th:only-of-type {\n",
       "        vertical-align: middle;\n",
       "    }\n",
       "\n",
       "    .dataframe tbody tr th {\n",
       "        vertical-align: top;\n",
       "    }\n",
       "\n",
       "    .dataframe thead th {\n",
       "        text-align: right;\n",
       "    }\n",
       "</style>\n",
       "<table border=\"1\" class=\"dataframe\">\n",
       "  <thead>\n",
       "    <tr style=\"text-align: right;\">\n",
       "      <th></th>\n",
       "      <th>Price</th>\n",
       "      <th>RegistrationYear</th>\n",
       "      <th>Power</th>\n",
       "      <th>Kilometer</th>\n",
       "      <th>VehicleType</th>\n",
       "      <th>Gearbox</th>\n",
       "      <th>Model</th>\n",
       "      <th>FuelType</th>\n",
       "      <th>Brand</th>\n",
       "      <th>NotRepaired</th>\n",
       "    </tr>\n",
       "  </thead>\n",
       "  <tbody>\n",
       "    <tr>\n",
       "      <td>300281</td>\n",
       "      <td>5000</td>\n",
       "      <td>2003</td>\n",
       "      <td>260</td>\n",
       "      <td>150000</td>\n",
       "      <td>4.0</td>\n",
       "      <td>0.0</td>\n",
       "      <td>95.0</td>\n",
       "      <td>2.0</td>\n",
       "      <td>20.0</td>\n",
       "      <td>2.0</td>\n",
       "    </tr>\n",
       "    <tr>\n",
       "      <td>300282</td>\n",
       "      <td>999</td>\n",
       "      <td>2000</td>\n",
       "      <td>95</td>\n",
       "      <td>150000</td>\n",
       "      <td>1.0</td>\n",
       "      <td>1.0</td>\n",
       "      <td>149.0</td>\n",
       "      <td>6.0</td>\n",
       "      <td>27.0</td>\n",
       "      <td>1.0</td>\n",
       "    </tr>\n",
       "    <tr>\n",
       "      <td>300283</td>\n",
       "      <td>1690</td>\n",
       "      <td>2004</td>\n",
       "      <td>55</td>\n",
       "      <td>150000</td>\n",
       "      <td>8.0</td>\n",
       "      <td>1.0</td>\n",
       "      <td>101.0</td>\n",
       "      <td>6.0</td>\n",
       "      <td>31.0</td>\n",
       "      <td>1.0</td>\n",
       "    </tr>\n",
       "    <tr>\n",
       "      <td>300284</td>\n",
       "      <td>3999</td>\n",
       "      <td>2005</td>\n",
       "      <td>3</td>\n",
       "      <td>150000</td>\n",
       "      <td>8.0</td>\n",
       "      <td>1.0</td>\n",
       "      <td>11.0</td>\n",
       "      <td>2.0</td>\n",
       "      <td>2.0</td>\n",
       "      <td>0.0</td>\n",
       "    </tr>\n",
       "    <tr>\n",
       "      <td>300285</td>\n",
       "      <td>5250</td>\n",
       "      <td>2016</td>\n",
       "      <td>150</td>\n",
       "      <td>150000</td>\n",
       "      <td>7.0</td>\n",
       "      <td>0.0</td>\n",
       "      <td>4.0</td>\n",
       "      <td>7.0</td>\n",
       "      <td>0.0</td>\n",
       "      <td>0.0</td>\n",
       "    </tr>\n",
       "    <tr>\n",
       "      <td>300286</td>\n",
       "      <td>3200</td>\n",
       "      <td>2004</td>\n",
       "      <td>225</td>\n",
       "      <td>150000</td>\n",
       "      <td>4.0</td>\n",
       "      <td>1.0</td>\n",
       "      <td>140.0</td>\n",
       "      <td>6.0</td>\n",
       "      <td>30.0</td>\n",
       "      <td>2.0</td>\n",
       "    </tr>\n",
       "    <tr>\n",
       "      <td>300287</td>\n",
       "      <td>2200</td>\n",
       "      <td>2005</td>\n",
       "      <td>0</td>\n",
       "      <td>20000</td>\n",
       "      <td>7.0</td>\n",
       "      <td>2.0</td>\n",
       "      <td>228.0</td>\n",
       "      <td>7.0</td>\n",
       "      <td>33.0</td>\n",
       "      <td>1.0</td>\n",
       "    </tr>\n",
       "    <tr>\n",
       "      <td>300288</td>\n",
       "      <td>1199</td>\n",
       "      <td>2000</td>\n",
       "      <td>101</td>\n",
       "      <td>125000</td>\n",
       "      <td>1.0</td>\n",
       "      <td>0.0</td>\n",
       "      <td>106.0</td>\n",
       "      <td>6.0</td>\n",
       "      <td>32.0</td>\n",
       "      <td>0.0</td>\n",
       "    </tr>\n",
       "    <tr>\n",
       "      <td>300289</td>\n",
       "      <td>9200</td>\n",
       "      <td>1996</td>\n",
       "      <td>102</td>\n",
       "      <td>150000</td>\n",
       "      <td>0.0</td>\n",
       "      <td>1.0</td>\n",
       "      <td>224.0</td>\n",
       "      <td>2.0</td>\n",
       "      <td>38.0</td>\n",
       "      <td>0.0</td>\n",
       "    </tr>\n",
       "    <tr>\n",
       "      <td>300290</td>\n",
       "      <td>3400</td>\n",
       "      <td>2002</td>\n",
       "      <td>100</td>\n",
       "      <td>150000</td>\n",
       "      <td>8.0</td>\n",
       "      <td>1.0</td>\n",
       "      <td>116.0</td>\n",
       "      <td>2.0</td>\n",
       "      <td>38.0</td>\n",
       "      <td>1.0</td>\n",
       "    </tr>\n",
       "  </tbody>\n",
       "</table>\n",
       "</div>"
      ],
      "text/plain": [
       "        Price  RegistrationYear  Power  Kilometer  VehicleType  Gearbox  \\\n",
       "300281   5000              2003    260     150000          4.0      0.0   \n",
       "300282    999              2000     95     150000          1.0      1.0   \n",
       "300283   1690              2004     55     150000          8.0      1.0   \n",
       "300284   3999              2005      3     150000          8.0      1.0   \n",
       "300285   5250              2016    150     150000          7.0      0.0   \n",
       "300286   3200              2004    225     150000          4.0      1.0   \n",
       "300287   2200              2005      0      20000          7.0      2.0   \n",
       "300288   1199              2000    101     125000          1.0      0.0   \n",
       "300289   9200              1996    102     150000          0.0      1.0   \n",
       "300290   3400              2002    100     150000          8.0      1.0   \n",
       "\n",
       "        Model  FuelType  Brand  NotRepaired  \n",
       "300281   95.0       2.0   20.0          2.0  \n",
       "300282  149.0       6.0   27.0          1.0  \n",
       "300283  101.0       6.0   31.0          1.0  \n",
       "300284   11.0       2.0    2.0          0.0  \n",
       "300285    4.0       7.0    0.0          0.0  \n",
       "300286  140.0       6.0   30.0          2.0  \n",
       "300287  228.0       7.0   33.0          1.0  \n",
       "300288  106.0       6.0   32.0          0.0  \n",
       "300289  224.0       2.0   38.0          0.0  \n",
       "300290  116.0       2.0   38.0          1.0  "
      ]
     },
     "execution_count": 121,
     "metadata": {},
     "output_type": "execute_result"
    }
   ],
   "source": [
    "#объединяем таблицы с количественными и качественными признаками\n",
    "auto_cat = pd.concat([counts, auto_ordenc], axis=1)\n",
    "auto_cat.tail(10)"
   ]
  },
  {
   "cell_type": "code",
   "execution_count": 122,
   "metadata": {},
   "outputs": [
    {
     "name": "stdout",
     "output_type": "stream",
     "text": [
      "<class 'pandas.core.frame.DataFrame'>\n",
      "RangeIndex: 300291 entries, 0 to 300290\n",
      "Data columns (total 9 columns):\n",
      "RegistrationYear    300291 non-null int64\n",
      "Power               300291 non-null int64\n",
      "Kilometer           300291 non-null int64\n",
      "VehicleType         300291 non-null float64\n",
      "Gearbox             300291 non-null float64\n",
      "Model               300291 non-null float64\n",
      "FuelType            300291 non-null float64\n",
      "Brand               300291 non-null float64\n",
      "NotRepaired         300291 non-null float64\n",
      "dtypes: float64(6), int64(3)\n",
      "memory usage: 20.6 MB\n"
     ]
    },
    {
     "data": {
      "text/plain": [
       "None"
      ]
     },
     "metadata": {},
     "output_type": "display_data"
    },
    {
     "name": "stdout",
     "output_type": "stream",
     "text": [
      "<class 'pandas.core.frame.DataFrame'>\n",
      "RangeIndex: 300291 entries, 0 to 300290\n",
      "Data columns (total 1 columns):\n",
      "Price    300291 non-null int64\n",
      "dtypes: int64(1)\n",
      "memory usage: 2.3 MB\n"
     ]
    },
    {
     "data": {
      "text/plain": [
       "None"
      ]
     },
     "metadata": {},
     "output_type": "display_data"
    }
   ],
   "source": [
    "#Разобьем данные на целевой и нецелыве признаки\n",
    "features = auto_cat.drop(['Price'], axis=1)\n",
    "target = auto_cat.loc[:, ['Price']]\n",
    "\n",
    "display(features.info())\n",
    "display(target.info())"
   ]
  },
  {
   "cell_type": "code",
   "execution_count": 123,
   "metadata": {},
   "outputs": [
    {
     "data": {
      "text/plain": [
       "(225218, 9)"
      ]
     },
     "metadata": {},
     "output_type": "display_data"
    },
    {
     "data": {
      "text/plain": [
       "(75073, 9)"
      ]
     },
     "metadata": {},
     "output_type": "display_data"
    },
    {
     "data": {
      "text/plain": [
       "(225218, 1)"
      ]
     },
     "metadata": {},
     "output_type": "display_data"
    },
    {
     "data": {
      "text/plain": [
       "(75073, 1)"
      ]
     },
     "metadata": {},
     "output_type": "display_data"
    }
   ],
   "source": [
    "#Разобьем данные на обучающую (75%), тестовую (25%) выборки.\n",
    "features_train, features_test, target_train, target_test = train_test_split (\n",
    "    features, target, test_size=0.25, random_state=12345\n",
    ")\n",
    "display(features_train.shape, features_test.shape, target_train.shape, target_test.shape)"
   ]
  },
  {
   "cell_type": "markdown",
   "metadata": {},
   "source": [
    "### <font color='purple'>Проведем обучение scaler только на обучающей выборке</font>"
   ]
  },
  {
   "cell_type": "code",
   "execution_count": 124,
   "metadata": {},
   "outputs": [
    {
     "data": {
      "text/plain": [
       "array([[ 0.23344852,  0.39694771, -1.24603573, ...,  0.5653746 ,\n",
       "        -1.41867055, -0.60974662],\n",
       "       [-0.29565025, -0.05805923,  0.59280492, ...,  0.5653746 ,\n",
       "        -0.8124737 , -0.60974662],\n",
       "       [ 0.36572321, -0.0333306 ,  0.59280492, ..., -1.55809959,\n",
       "         1.30921528, -0.60974662],\n",
       "       ...,\n",
       "       [ 0.36572321, -0.23610543, -0.72065269, ...,  0.5653746 ,\n",
       "         1.30921528, -0.60974662],\n",
       "       [ 0.36572321,  0.06558396, -0.72065269, ...,  0.5653746 ,\n",
       "         0.24837079, -0.60974662],\n",
       "       [ 1.82074482,  0.02107241,  0.59280492, ...,  0.5653746 ,\n",
       "         1.30921528,  0.87886504]])"
      ]
     },
     "metadata": {},
     "output_type": "display_data"
    }
   ],
   "source": [
    "#проведем стандартизацию числовых признаков\n",
    "\n",
    "scaler = StandardScaler()\n",
    "scaler_train = scaler.fit(features_train)\n",
    "features_train_stand = scaler_train.transform(features_train)\n",
    "features_test_stand = scaler_train.transform(features_test)\n",
    "\n",
    "display(features_train_stand)"
   ]
  },
  {
   "cell_type": "code",
   "execution_count": 125,
   "metadata": {},
   "outputs": [],
   "source": [
    "#функция для вычеслени RSME\n",
    "def rmse(answer, prediction):\n",
    "    rmse = mean_squared_error(answer, prediction) ** 0.5\n",
    "    return rmse"
   ]
  },
  {
   "cell_type": "code",
   "execution_count": 126,
   "metadata": {},
   "outputs": [],
   "source": [
    "#создадим метрику для RSME\n",
    "rmse_scorer = make_scorer(\n",
    "    rmse,\n",
    "    greater_is_better=False\n",
    ")"
   ]
  },
  {
   "cell_type": "markdown",
   "metadata": {},
   "source": [
    "### 2. Модель линейной регрессии <a name=\"Модель-линейной-регрессии\"></a>"
   ]
  },
  {
   "cell_type": "code",
   "execution_count": 146,
   "metadata": {},
   "outputs": [
    {
     "name": "stdout",
     "output_type": "stream",
     "text": [
      "CPU times: user 1min 15s, sys: 24.7 s, total: 1min 39s\n",
      "Wall time: 1min 39s\n"
     ]
    }
   ],
   "source": [
    "%%time\n",
    "#обучаем модель линейной регрессий и проводим кросс-валидацию\n",
    "cross_val_linreg = cross_val_score(LinearRegression(),\n",
    "                                  features_train_lin_stand, target_train_linreg,\n",
    "                                  scoring = rmse_scorer,\n",
    "                                  cv=5)"
   ]
  },
  {
   "cell_type": "code",
   "execution_count": 147,
   "metadata": {},
   "outputs": [
    {
     "name": "stdout",
     "output_type": "stream",
     "text": [
      "RSME: 2907.61\n"
     ]
    }
   ],
   "source": [
    "#рассчитываем качество модели линейно регрессии метрикой RMSE\n",
    "rmse_cross_lin = cross_val_linreg.mean() * (-1)\n",
    "print('RSME:', round(rmse_cross_lin, 2))"
   ]
  },
  {
   "cell_type": "markdown",
   "metadata": {},
   "source": [
    "### 3. Модель градиентного бустинга Catboost <a name=\"Модель-градиентного-бустинга-Catboost\"></a>"
   ]
  },
  {
   "cell_type": "markdown",
   "metadata": {},
   "source": [
    "### А. Проведем подбор параметров и кросс-валидацию с помощью GridSearchCV"
   ]
  },
  {
   "cell_type": "code",
   "execution_count": 127,
   "metadata": {},
   "outputs": [
    {
     "data": {
      "text/plain": [
       "\"model = CatBoostRegressor()\\nparameters = {'depth'         : [5, 6],\\n              'learning_rate' : [0.5, 0.75],\\n              'iterations'    : [700, 850]\\n             }\\ngrid = GridSearchCV(estimator=model,\\n                    param_grid = parameters,\\n                    cv = 5,\\n                    n_jobs=-1,\\n                    scoring='neg_mean_squared_error')\""
      ]
     },
     "execution_count": 127,
     "metadata": {},
     "output_type": "execute_result"
    }
   ],
   "source": [
    "model = CatBoostRegressor()\n",
    "parameters = {'depth'         : [5, 6],\n",
    "              'learning_rate' : [0.5, 0.75],\n",
    "              'iterations'    : [700, 850]\n",
    "             }\n",
    "grid = GridSearchCV(estimator=model,\n",
    "                    param_grid = parameters,\n",
    "                    cv = 5,\n",
    "                    n_jobs=-1,\n",
    "                    scoring='neg_mean_squared_error')"
   ]
  },
  {
   "cell_type": "markdown",
   "metadata": {},
   "source": [
    "### результат обучения\n",
    "\n",
    "0:\tlearn: 708.1957265\ttotal: 412ms\tremaining: 4m 47s\n",
    "50:\tlearn: 382.0453352\ttotal: 14.3s\tremaining: 3m 1s\n",
    "100:\tlearn: 365.8712904\ttotal: 29.5s\tremaining: 2m 54s\n",
    "150:\tlearn: 357.5709979\ttotal: 45s\tremaining: 2m 43s\n",
    "200:\tlearn: 351.2777436\ttotal: 1m\tremaining: 2m 30s\n",
    "250:\tlearn: 346.8551969\ttotal: 1m 8s\tremaining: 2m 2s\n",
    "300:\tlearn: 343.1991753\ttotal: 1m 14s\tremaining: 1m 38s\n",
    "350:\tlearn: 339.8619064\ttotal: 1m 20s\tremaining: 1m 19s\n",
    "400:\tlearn: 336.8430122\ttotal: 1m 26s\tremaining: 1m 4s\n",
    "450:\tlearn: 334.1870573\ttotal: 1m 32s\tremaining: 50.8s\n",
    "500:\tlearn: 331.9978905\ttotal: 1m 38s\tremaining: 39.1s\n",
    "550:\tlearn: 329.9783243\ttotal: 1m 44s\tremaining: 28.3s\n",
    "600:\tlearn: 328.2547356\ttotal: 1m 50s\tremaining: 18.2s\n",
    "650:\tlearn: 326.4908153\ttotal: 1m 56s\tremaining: 8.75s\n",
    "699:\tlearn: 324.8146338\ttotal: 2m 1s\tremaining: 0us\n",
    "0:\tlearn: 701.5417147\ttotal: 61.4ms\tremaining: 42.9s\n",
    "50:\tlearn: 380.1682466\ttotal: 5.84s\tremaining: 1m 14s\n",
    "100:\tlearn: 364.5338363\ttotal: 11.5s\tremaining: 1m 8s\n",
    "150:\tlearn: 356.7098143\ttotal: 16.8s\tremaining: 1m 1s\n",
    "200:\tlearn: 350.7269079\ttotal: 22.1s\tremaining: 55s\n",
    "250:\tlearn: 345.7478529\ttotal: 27.7s\tremaining: 49.5s\n",
    "300:\tlearn: 342.1938616\ttotal: 33.3s\tremaining: 44.2s\n",
    "350:\tlearn: 339.2980482\ttotal: 38.8s\tremaining: 38.6s\n",
    "400:\tlearn: 336.0943920\ttotal: 44.5s\tremaining: 33.2s\n",
    "450:\tlearn: 333.5894710\ttotal: 50.3s\tremaining: 27.7s\n",
    "500:\tlearn: 331.1478900\ttotal: 55.8s\tremaining: 22.2s\n",
    "550:\tlearn: 328.9966053\ttotal: 1m 1s\tremaining: 16.6s\n",
    "600:\tlearn: 327.1501383\ttotal: 1m 6s\tremaining: 11s\n",
    "650:\tlearn: 325.4801690\ttotal: 1m 12s\tremaining: 5.44s\n",
    "699:\tlearn: 323.8672933\ttotal: 1m 17s\tremaining: 0us\n",
    "0:\tlearn: 706.8228552\ttotal: 23.3ms\tremaining: 16.3s\n",
    "50:\tlearn: 379.9854308\ttotal: 5.51s\tremaining: 1m 10s\n",
    "100:\tlearn: 364.5332040\ttotal: 11.4s\tremaining: 1m 7s\n",
    "150:\tlearn: 356.2146434\ttotal: 17.4s\tremaining: 1m 3s\n",
    "200:\tlearn: 350.3596698\ttotal: 23.5s\tremaining: 58.4s\n",
    "250:\tlearn: 345.8379594\ttotal: 29.5s\tremaining: 52.8s\n",
    "300:\tlearn: 342.1115151\ttotal: 35.6s\tremaining: 47.1s\n",
    "350:\tlearn: 338.9483290\ttotal: 41.6s\tremaining: 41.4s\n",
    "400:\tlearn: 336.0202369\ttotal: 48.7s\tremaining: 36.3s\n",
    "450:\tlearn: 333.6155202\ttotal: 55.7s\tremaining: 30.7s\n",
    "500:\tlearn: 331.1922733\ttotal: 1m 3s\tremaining: 25.1s\n",
    "550:\tlearn: 329.1753607\ttotal: 1m 10s\tremaining: 19.1s\n",
    "600:\tlearn: 327.2367028\ttotal: 1m 16s\tremaining: 12.6s\n",
    "650:\tlearn: 325.5353547\ttotal: 1m 22s\tremaining: 6.21s\n",
    "699:\tlearn: 323.8603429\ttotal: 1m 28s\tremaining: 0us\n",
    "0:\tlearn: 699.9993143\ttotal: 91.9ms\tremaining: 1m 4s\n",
    "50:\tlearn: 379.1996488\ttotal: 6.17s\tremaining: 1m 18s\n",
    "100:\tlearn: 364.2591573\ttotal: 12.2s\tremaining: 1m 12s\n",
    "150:\tlearn: 355.5989644\ttotal: 18.4s\tremaining: 1m 6s\n",
    "200:\tlearn: 350.0060882\ttotal: 24.5s\tremaining: 1m\n",
    "250:\tlearn: 345.6144519\ttotal: 39s\tremaining: 1m 9s\n",
    "300:\tlearn: 342.0284992\ttotal: 54s\tremaining: 1m 11s\n",
    "350:\tlearn: 338.8893241\ttotal: 1m 8s\tremaining: 1m 7s\n",
    "400:\tlearn: 336.2265442\ttotal: 1m 22s\tremaining: 1m 1s\n",
    "450:\tlearn: 333.7683844\ttotal: 1m 36s\tremaining: 53.4s\n",
    "500:\tlearn: 331.7445332\ttotal: 1m 51s\tremaining: 44.5s\n",
    "550:\tlearn: 329.8374530\ttotal: 2m 6s\tremaining: 34.2s\n",
    "600:\tlearn: 327.7267413\ttotal: 2m 21s\tremaining: 23.3s\n",
    "650:\tlearn: 325.9209081\ttotal: 2m 35s\tremaining: 11.7s\n",
    "699:\tlearn: 324.2510313\ttotal: 2m 49s\tremaining: 0us\n",
    "0:\tlearn: 708.1415500\ttotal: 302ms\tremaining: 3m 30s\n",
    "50:\tlearn: 382.1638880\ttotal: 14.4s\tremaining: 3m 2s\n",
    "100:\tlearn: 365.0341816\ttotal: 29.6s\tremaining: 2m 55s\n",
    "150:\tlearn: 356.2759047\ttotal: 44.9s\tremaining: 2m 43s\n",
    "200:\tlearn: 350.5405786\ttotal: 1m\tremaining: 2m 30s\n",
    "250:\tlearn: 346.1418104\ttotal: 1m 15s\tremaining: 2m 14s\n",
    "300:\tlearn: 342.8559272\ttotal: 1m 28s\tremaining: 1m 57s\n",
    "350:\tlearn: 339.7166120\ttotal: 1m 42s\tremaining: 1m 42s\n",
    "400:\tlearn: 337.1192993\ttotal: 1m 56s\tremaining: 1m 26s\n",
    "450:\tlearn: 334.6203023\ttotal: 2m 10s\tremaining: 1m 12s\n",
    "500:\tlearn: 332.2764843\ttotal: 2m 26s\tremaining: 58.1s\n",
    "550:\tlearn: 330.2500289\ttotal: 2m 40s\tremaining: 43.5s\n",
    "600:\tlearn: 328.4443857\ttotal: 2m 50s\tremaining: 28.1s\n",
    "650:\tlearn: 326.7803806\ttotal: 2m 56s\tremaining: 13.3s\n",
    "699:\tlearn: 325.2415892\ttotal: 3m 2s\tremaining: 0us\n",
    "0:\tlearn: 631.2860339\ttotal: 71ms\tremaining: 49.7s\n",
    "50:\tlearn: 376.5177834\ttotal: 6.85s\tremaining: 1m 27s\n",
    "100:\tlearn: 360.7688209\ttotal: 13.1s\tremaining: 1m 17s\n",
    "150:\tlearn: 352.4498554\ttotal: 19.4s\tremaining: 1m 10s\n",
    "200:\tlearn: 346.4582867\ttotal: 26.6s\tremaining: 1m 5s\n",
    "250:\tlearn: 341.6061404\ttotal: 34.2s\tremaining: 1m 1s\n",
    "300:\tlearn: 337.9112281\ttotal: 41.6s\tremaining: 55.2s\n",
    "350:\tlearn: 334.6710760\ttotal: 48.5s\tremaining: 48.2s\n",
    "400:\tlearn: 331.5495716\ttotal: 58.7s\tremaining: 43.7s\n",
    "450:\tlearn: 328.6848736\ttotal: 1m 12s\tremaining: 40.1s\n",
    "500:\tlearn: 326.2486836\ttotal: 1m 27s\tremaining: 34.6s\n",
    "550:\tlearn: 324.2714266\ttotal: 1m 41s\tremaining: 27.6s\n",
    "600:\tlearn: 322.3684096\ttotal: 1m 57s\tremaining: 19.3s\n",
    "650:\tlearn: 320.6232495\ttotal: 2m 12s\tremaining: 9.97s\n",
    "699:\tlearn: 319.0590577\ttotal: 2m 26s\tremaining: 0us\n",
    "0:\tlearn: 622.0778064\ttotal: 247ms\tremaining: 2m 52s\n",
    "50:\tlearn: 373.5383682\ttotal: 15.3s\tremaining: 3m 14s\n",
    "100:\tlearn: 358.9679627\ttotal: 30.7s\tremaining: 3m 2s\n",
    "150:\tlearn: 350.8948923\ttotal: 44.2s\tremaining: 2m 40s\n",
    "200:\tlearn: 345.1004692\ttotal: 57.7s\tremaining: 2m 23s\n",
    "250:\tlearn: 340.3046312\ttotal: 1m 11s\tremaining: 2m 7s\n",
    "300:\tlearn: 336.4629706\ttotal: 1m 25s\tremaining: 1m 53s\n",
    "350:\tlearn: 333.2769496\ttotal: 1m 38s\tremaining: 1m 38s\n",
    "400:\tlearn: 330.4524090\ttotal: 1m 52s\tremaining: 1m 23s\n",
    "450:\tlearn: 327.8361422\ttotal: 2m 6s\tremaining: 1m 9s\n",
    "500:\tlearn: 325.4592886\ttotal: 2m 20s\tremaining: 55.8s\n",
    "550:\tlearn: 323.3657392\ttotal: 2m 33s\tremaining: 41.5s\n",
    "600:\tlearn: 321.2318001\ttotal: 2m 47s\tremaining: 27.6s\n",
    "650:\tlearn: 319.3427442\ttotal: 3m\tremaining: 13.6s\n",
    "699:\tlearn: 317.5037599\ttotal: 3m 15s\tremaining: 0us\n",
    "0:\tlearn: 629.3324210\ttotal: 457ms\tremaining: 5m 19s\n",
    "50:\tlearn: 375.1675193\ttotal: 20.8s\tremaining: 4m 24s\n",
    "100:\tlearn: 359.2414070\ttotal: 41.8s\tremaining: 4m 8s\n",
    "150:\tlearn: 350.9154147\ttotal: 1m 1s\tremaining: 3m 44s\n",
    "200:\tlearn: 345.0782329\ttotal: 1m 22s\tremaining: 3m 24s\n",
    "250:\tlearn: 340.3879659\ttotal: 1m 44s\tremaining: 3m 6s\n",
    "300:\tlearn: 336.2926745\ttotal: 2m 5s\tremaining: 2m 45s\n",
    "350:\tlearn: 333.5027283\ttotal: 2m 25s\tremaining: 2m 24s\n",
    "400:\tlearn: 330.8482862\ttotal: 2m 41s\tremaining: 2m\n",
    "450:\tlearn: 328.3496150\ttotal: 2m 55s\tremaining: 1m 37s\n",
    "500:\tlearn: 326.0414383\ttotal: 3m 11s\tremaining: 1m 15s\n",
    "550:\tlearn: 323.9579223\ttotal: 3m 25s\tremaining: 55.7s\n",
    "600:\tlearn: 321.8157774\ttotal: 3m 35s\tremaining: 35.5s\n",
    "650:\tlearn: 320.0754502\ttotal: 3m 41s\tremaining: 16.7s\n",
    "699:\tlearn: 318.2946912\ttotal: 3m 47s\tremaining: 0us\n",
    "0:\tlearn: 620.1464683\ttotal: 33.2ms\tremaining: 23.2s\n",
    "50:\tlearn: 376.2367296\ttotal: 6.01s\tremaining: 1m 16s\n",
    "100:\tlearn: 359.4564760\ttotal: 12.1s\tremaining: 1m 11s\n",
    "150:\tlearn: 351.3898572\ttotal: 18.1s\tremaining: 1m 5s\n",
    "200:\tlearn: 345.2093655\ttotal: 24.1s\tremaining: 59.9s\n",
    "250:\tlearn: 340.7351068\ttotal: 30.2s\tremaining: 54s\n",
    "300:\tlearn: 336.9135300\ttotal: 36.5s\tremaining: 48.4s\n",
    "350:\tlearn: 333.3876234\ttotal: 42.6s\tremaining: 42.4s\n",
    "400:\tlearn: 330.6323441\ttotal: 48.8s\tremaining: 36.4s\n",
    "450:\tlearn: 327.9596812\ttotal: 54.9s\tremaining: 30.3s\n",
    "500:\tlearn: 325.8675115\ttotal: 1m 1s\tremaining: 24.2s\n",
    "550:\tlearn: 323.9574713\ttotal: 1m 7s\tremaining: 18.1s\n",
    "600:\tlearn: 322.2717574\ttotal: 1m 13s\tremaining: 12.1s\n",
    "650:\tlearn: 320.2580612\ttotal: 1m 19s\tremaining: 5.97s\n",
    "699:\tlearn: 318.8427070\ttotal: 1m 25s\tremaining: 0us\n",
    "0:\tlearn: 631.1244453\ttotal: 110ms\tremaining: 1m 17s\n",
    "50:\tlearn: 376.1347834\ttotal: 6.66s\tremaining: 1m 24s\n",
    "100:\tlearn: 360.0436708\ttotal: 12.9s\tremaining: 1m 16s\n",
    "150:\tlearn: 351.8938884\ttotal: 19.2s\tremaining: 1m 9s\n",
    "200:\tlearn: 345.8008812\ttotal: 25.6s\tremaining: 1m 3s\n",
    "250:\tlearn: 340.5750504\ttotal: 31.9s\tremaining: 57.1s\n",
    "300:\tlearn: 336.4251354\ttotal: 38.2s\tremaining: 50.6s\n",
    "350:\tlearn: 333.3891384\ttotal: 44.4s\tremaining: 44.1s\n",
    "400:\tlearn: 330.6082104\ttotal: 50.6s\tremaining: 37.7s\n",
    "450:\tlearn: 328.2626017\ttotal: 57s\tremaining: 31.5s\n",
    "500:\tlearn: 326.0125382\ttotal: 1m 3s\tremaining: 25.2s\n",
    "550:\tlearn: 323.6730179\ttotal: 1m 9s\tremaining: 18.9s\n",
    "600:\tlearn: 321.6589712\ttotal: 1m 16s\tremaining: 12.5s\n",
    "650:\tlearn: 319.8141610\ttotal: 1m 22s\tremaining: 6.19s\n",
    "699:\tlearn: 318.2185832\ttotal: 1m 28s\tremaining: 0us\n",
    "0:\tlearn: 708.1957265\ttotal: 46.5ms\tremaining: 39.4s\n",
    "50:\tlearn: 382.0453352\ttotal: 6.32s\tremaining: 1m 39s\n",
    "100:\tlearn: 365.8712904\ttotal: 12.6s\tremaining: 1m 33s\n",
    "150:\tlearn: 357.5709979\ttotal: 18.9s\tremaining: 1m 27s\n",
    "200:\tlearn: 351.2777436\ttotal: 25s\tremaining: 1m 20s\n",
    "250:\tlearn: 346.8551969\ttotal: 31.8s\tremaining: 1m 15s\n",
    "300:\tlearn: 343.1991753\ttotal: 38.1s\tremaining: 1m 9s\n",
    "350:\tlearn: 339.8619064\ttotal: 44.3s\tremaining: 1m 3s\n",
    "400:\tlearn: 336.8430122\ttotal: 51s\tremaining: 57.1s\n",
    "450:\tlearn: 334.1870573\ttotal: 56.9s\tremaining: 50.4s\n",
    "500:\tlearn: 331.9978905\ttotal: 1m 3s\tremaining: 44s\n",
    "550:\tlearn: 329.9783243\ttotal: 1m 9s\tremaining: 37.6s\n",
    "600:\tlearn: 328.2547356\ttotal: 1m 15s\tremaining: 31.3s\n",
    "650:\tlearn: 326.4908153\ttotal: 1m 21s\tremaining: 24.9s\n",
    "700:\tlearn: 324.7430235\ttotal: 1m 27s\tremaining: 18.7s\n",
    "750:\tlearn: 323.2141255\ttotal: 1m 33s\tremaining: 12.4s\n",
    "800:\tlearn: 321.8846588\ttotal: 1m 40s\tremaining: 6.13s\n",
    "849:\tlearn: 320.5401716\ttotal: 1m 46s\tremaining: 0us\n",
    "0:\tlearn: 701.5417147\ttotal: 84ms\tremaining: 1m 11s\n",
    "50:\tlearn: 380.1682466\ttotal: 6.25s\tremaining: 1m 38s\n",
    "100:\tlearn: 364.5338363\ttotal: 12.5s\tremaining: 1m 32s\n",
    "150:\tlearn: 356.7098143\ttotal: 18.7s\tremaining: 1m 26s\n",
    "200:\tlearn: 350.7269079\ttotal: 24.9s\tremaining: 1m 20s\n",
    "250:\tlearn: 345.7478529\ttotal: 31s\tremaining: 1m 14s\n",
    "300:\tlearn: 342.1938616\ttotal: 37.4s\tremaining: 1m 8s\n",
    "350:\tlearn: 339.2980482\ttotal: 43.5s\tremaining: 1m 1s\n",
    "400:\tlearn: 336.0943920\ttotal: 49.8s\tremaining: 55.8s\n",
    "450:\tlearn: 333.5894710\ttotal: 56.1s\tremaining: 49.6s\n",
    "500:\tlearn: 331.1478900\ttotal: 1m 2s\tremaining: 43.5s\n",
    "550:\tlearn: 328.9966053\ttotal: 1m 8s\tremaining: 37.3s\n",
    "600:\tlearn: 327.1501383\ttotal: 1m 14s\tremaining: 31s\n",
    "650:\tlearn: 325.4801690\ttotal: 1m 21s\tremaining: 24.8s\n",
    "700:\tlearn: 323.8557214\ttotal: 1m 27s\tremaining: 18.6s\n",
    "750:\tlearn: 322.3892022\ttotal: 1m 33s\tremaining: 12.3s\n",
    "800:\tlearn: 321.0575443\ttotal: 1m 39s\tremaining: 6.09s\n",
    "849:\tlearn: 319.5824615\ttotal: 1m 45s\tremaining: 0us\n",
    "0:\tlearn: 706.8228552\ttotal: 114ms\tremaining: 1m 36s\n",
    "50:\tlearn: 379.9854308\ttotal: 6.48s\tremaining: 1m 41s\n",
    "100:\tlearn: 364.5332040\ttotal: 12.8s\tremaining: 1m 35s\n",
    "150:\tlearn: 356.2146434\ttotal: 19s\tremaining: 1m 27s\n",
    "200:\tlearn: 350.3596698\ttotal: 25.1s\tremaining: 1m 20s\n",
    "250:\tlearn: 345.8379594\ttotal: 30.8s\tremaining: 1m 13s\n",
    "300:\tlearn: 342.1115151\ttotal: 36.8s\tremaining: 1m 7s\n",
    "350:\tlearn: 338.9483290\ttotal: 42.7s\tremaining: 1m\n",
    "400:\tlearn: 336.0202369\ttotal: 48.7s\tremaining: 54.5s\n",
    "450:\tlearn: 333.6155202\ttotal: 54.5s\tremaining: 48.2s\n",
    "500:\tlearn: 331.1922733\ttotal: 1m\tremaining: 42.2s\n",
    "550:\tlearn: 329.1753607\ttotal: 1m 6s\tremaining: 36.2s\n",
    "600:\tlearn: 327.2367028\ttotal: 1m 12s\tremaining: 30.1s\n",
    "650:\tlearn: 325.5353547\ttotal: 1m 18s\tremaining: 24s\n",
    "700:\tlearn: 323.8450658\ttotal: 1m 24s\tremaining: 17.9s\n",
    "750:\tlearn: 322.4758198\ttotal: 1m 30s\tremaining: 11.9s\n",
    "800:\tlearn: 321.1209878\ttotal: 1m 36s\tremaining: 5.88s\n",
    "849:\tlearn: 319.7027676\ttotal: 1m 42s\tremaining: 0us\n",
    "0:\tlearn: 699.9993143\ttotal: 44.1ms\tremaining: 37.4s\n",
    "50:\tlearn: 379.1996488\ttotal: 5.52s\tremaining: 1m 26s\n",
    "100:\tlearn: 364.2591573\ttotal: 11s\tremaining: 1m 21s\n",
    "150:\tlearn: 355.5989644\ttotal: 16.7s\tremaining: 1m 17s\n",
    "200:\tlearn: 350.0060882\ttotal: 22.3s\tremaining: 1m 12s\n",
    "250:\tlearn: 345.6144519\ttotal: 28.3s\tremaining: 1m 7s\n",
    "300:\tlearn: 342.0284992\ttotal: 34.3s\tremaining: 1m 2s\n",
    "350:\tlearn: 338.8893241\ttotal: 40.3s\tremaining: 57.2s\n",
    "400:\tlearn: 336.2265442\ttotal: 46.3s\tremaining: 51.9s\n",
    "450:\tlearn: 333.7683844\ttotal: 52.1s\tremaining: 46.1s\n",
    "500:\tlearn: 331.7445332\ttotal: 58.1s\tremaining: 40.5s\n",
    "550:\tlearn: 329.8374530\ttotal: 1m 4s\tremaining: 34.8s\n",
    "600:\tlearn: 327.7267413\ttotal: 1m 10s\tremaining: 29s\n",
    "650:\tlearn: 325.9209081\ttotal: 1m 16s\tremaining: 23.3s\n",
    "700:\tlearn: 324.2240529\ttotal: 1m 22s\tremaining: 17.4s\n",
    "750:\tlearn: 322.6392183\ttotal: 1m 28s\tremaining: 11.6s\n",
    "800:\tlearn: 321.3158808\ttotal: 1m 34s\tremaining: 5.75s\n",
    "849:\tlearn: 319.9354589\ttotal: 1m 39s\tremaining: 0us\n",
    "0:\tlearn: 708.1415500\ttotal: 21.4ms\tremaining: 18.2s\n",
    "50:\tlearn: 382.1638880\ttotal: 5.91s\tremaining: 1m 32s\n",
    "100:\tlearn: 365.0341816\ttotal: 11.9s\tremaining: 1m 28s\n",
    "150:\tlearn: 356.2759047\ttotal: 18s\tremaining: 1m 23s\n",
    "200:\tlearn: 350.5405786\ttotal: 23.9s\tremaining: 1m 17s\n",
    "250:\tlearn: 346.1418104\ttotal: 30.1s\tremaining: 1m 11s\n",
    "300:\tlearn: 342.8559272\ttotal: 36.1s\tremaining: 1m 5s\n",
    "350:\tlearn: 339.7166120\ttotal: 42.1s\tremaining: 59.9s\n",
    "400:\tlearn: 337.1192993\ttotal: 48s\tremaining: 53.7s\n",
    "450:\tlearn: 334.6203023\ttotal: 53.6s\tremaining: 47.4s\n",
    "500:\tlearn: 332.2764843\ttotal: 59.6s\tremaining: 41.5s\n",
    "550:\tlearn: 330.2500289\ttotal: 1m 5s\tremaining: 35.5s\n",
    "600:\tlearn: 328.4443857\ttotal: 1m 11s\tremaining: 29.6s\n",
    "650:\tlearn: 326.7803806\ttotal: 1m 17s\tremaining: 23.6s\n",
    "700:\tlearn: 325.2214386\ttotal: 1m 23s\tremaining: 17.7s\n",
    "750:\tlearn: 323.7670797\ttotal: 1m 29s\tremaining: 11.7s\n",
    "800:\tlearn: 322.2386959\ttotal: 1m 34s\tremaining: 5.8s\n",
    "849:\tlearn: 320.9454734\ttotal: 1m 40s\tremaining: 0us\n",
    "0:\tlearn: 631.2860339\ttotal: 97.3ms\tremaining: 1m 22s\n",
    "50:\tlearn: 376.5177834\ttotal: 6.07s\tremaining: 1m 35s\n",
    "100:\tlearn: 360.7688209\ttotal: 12s\tremaining: 1m 28s\n",
    "150:\tlearn: 352.4498554\ttotal: 17.8s\tremaining: 1m 22s\n",
    "200:\tlearn: 346.4582867\ttotal: 23.9s\tremaining: 1m 17s\n",
    "250:\tlearn: 341.6061404\ttotal: 29.8s\tremaining: 1m 11s\n",
    "300:\tlearn: 337.9112281\ttotal: 35.7s\tremaining: 1m 5s\n",
    "350:\tlearn: 334.6710760\ttotal: 41.7s\tremaining: 59.3s\n",
    "400:\tlearn: 331.5495716\ttotal: 48.1s\tremaining: 53.8s\n",
    "450:\tlearn: 328.6848736\ttotal: 54.2s\tremaining: 47.9s\n",
    "500:\tlearn: 326.2486836\ttotal: 1m\tremaining: 42s\n",
    "550:\tlearn: 324.2714266\ttotal: 1m 6s\tremaining: 35.9s\n",
    "600:\tlearn: 322.3684096\ttotal: 1m 12s\tremaining: 29.9s\n",
    "650:\tlearn: 320.6232495\ttotal: 1m 18s\tremaining: 23.9s\n",
    "700:\tlearn: 319.0490183\ttotal: 1m 23s\tremaining: 17.8s\n",
    "750:\tlearn: 317.2419846\ttotal: 1m 29s\tremaining: 11.9s\n",
    "800:\tlearn: 315.8250753\ttotal: 1m 35s\tremaining: 5.87s\n",
    "849:\tlearn: 314.6371572\ttotal: 1m 41s\tremaining: 0us\n",
    "0:\tlearn: 622.0778064\ttotal: 102ms\tremaining: 1m 26s\n",
    "50:\tlearn: 373.5383682\ttotal: 6.28s\tremaining: 1m 38s\n",
    "100:\tlearn: 358.9679627\ttotal: 12.5s\tremaining: 1m 33s\n",
    "150:\tlearn: 350.8948923\ttotal: 18.8s\tremaining: 1m 27s\n",
    "200:\tlearn: 345.1004692\ttotal: 25.1s\tremaining: 1m 21s\n",
    "250:\tlearn: 340.3046312\ttotal: 31.4s\tremaining: 1m 14s\n",
    "300:\tlearn: 336.4629706\ttotal: 37.6s\tremaining: 1m 8s\n",
    "350:\tlearn: 333.2769496\ttotal: 43.8s\tremaining: 1m 2s\n",
    "400:\tlearn: 330.4524090\ttotal: 50.1s\tremaining: 56.1s\n",
    "450:\tlearn: 327.8361422\ttotal: 56.3s\tremaining: 49.8s\n",
    "500:\tlearn: 325.4592886\ttotal: 1m 2s\tremaining: 43.7s\n",
    "550:\tlearn: 323.3657392\ttotal: 1m 8s\tremaining: 37.4s\n",
    "600:\tlearn: 321.2318001\ttotal: 1m 14s\tremaining: 31s\n",
    "650:\tlearn: 319.3427442\ttotal: 1m 21s\tremaining: 24.8s\n",
    "700:\tlearn: 317.4692423\ttotal: 1m 27s\tremaining: 18.6s\n",
    "750:\tlearn: 315.9279170\ttotal: 1m 33s\tremaining: 12.3s\n",
    "800:\tlearn: 314.5162610\ttotal: 1m 39s\tremaining: 6.08s\n",
    "849:\tlearn: 313.0938203\ttotal: 1m 45s\tremaining: 0us\n",
    "0:\tlearn: 629.3324210\ttotal: 66.6ms\tremaining: 56.5s\n",
    "50:\tlearn: 375.1675193\ttotal: 6.33s\tremaining: 1m 39s\n",
    "100:\tlearn: 359.2414070\ttotal: 12.6s\tremaining: 1m 33s\n",
    "150:\tlearn: 350.9154147\ttotal: 19s\tremaining: 1m 27s\n",
    "200:\tlearn: 345.0782329\ttotal: 25s\tremaining: 1m 20s\n",
    "250:\tlearn: 340.3879659\ttotal: 31.5s\tremaining: 1m 15s\n",
    "300:\tlearn: 336.2926745\ttotal: 37.9s\tremaining: 1m 9s\n",
    "350:\tlearn: 333.5027283\ttotal: 43.9s\tremaining: 1m 2s\n",
    "400:\tlearn: 330.8482862\ttotal: 50s\tremaining: 56s\n",
    "450:\tlearn: 328.3496150\ttotal: 56.1s\tremaining: 49.7s\n",
    "500:\tlearn: 326.0414383\ttotal: 1m 2s\tremaining: 43.4s\n",
    "550:\tlearn: 323.9579223\ttotal: 1m 8s\tremaining: 37.2s\n",
    "600:\tlearn: 321.8157774\ttotal: 1m 14s\tremaining: 30.9s\n",
    "650:\tlearn: 320.0754502\ttotal: 1m 20s\tremaining: 24.6s\n",
    "700:\tlearn: 318.2875543\ttotal: 1m 26s\tremaining: 18.4s\n",
    "750:\tlearn: 316.7150360\ttotal: 1m 32s\tremaining: 12.1s\n",
    "800:\tlearn: 315.3598083\ttotal: 1m 37s\tremaining: 5.99s\n",
    "849:\tlearn: 313.9909310\ttotal: 1m 43s\tremaining: 0us\n",
    "0:\tlearn: 620.1464683\ttotal: 66ms\tremaining: 56s\n",
    "50:\tlearn: 376.2367296\ttotal: 5.92s\tremaining: 1m 32s\n",
    "100:\tlearn: 359.4564760\ttotal: 11.9s\tremaining: 1m 28s\n",
    "150:\tlearn: 351.3898572\ttotal: 17.6s\tremaining: 1m 21s\n",
    "200:\tlearn: 345.2093655\ttotal: 23.5s\tremaining: 1m 15s\n",
    "250:\tlearn: 340.7351068\ttotal: 29.4s\tremaining: 1m 10s\n",
    "300:\tlearn: 336.9135300\ttotal: 35.4s\tremaining: 1m 4s\n",
    "350:\tlearn: 333.3876234\ttotal: 41.3s\tremaining: 58.8s\n",
    "400:\tlearn: 330.6323441\ttotal: 47.1s\tremaining: 52.7s\n",
    "450:\tlearn: 327.9596812\ttotal: 53s\tremaining: 46.9s\n",
    "500:\tlearn: 325.8675115\ttotal: 58.6s\tremaining: 40.9s\n",
    "550:\tlearn: 323.9574713\ttotal: 1m 4s\tremaining: 34.9s\n",
    "600:\tlearn: 322.2717574\ttotal: 1m 10s\tremaining: 29.1s\n",
    "650:\tlearn: 320.2580612\ttotal: 1m 16s\tremaining: 23.3s\n",
    "700:\tlearn: 318.8200589\ttotal: 1m 22s\tremaining: 17.5s\n",
    "750:\tlearn: 316.9965772\ttotal: 1m 28s\tremaining: 11.6s\n",
    "800:\tlearn: 315.5714910\ttotal: 1m 34s\tremaining: 5.76s\n",
    "849:\tlearn: 314.0705795\ttotal: 1m 40s\tremaining: 0us\n",
    "0:\tlearn: 631.1244453\ttotal: 45.4ms\tremaining: 38.5s\n",
    "50:\tlearn: 376.1347834\ttotal: 6.02s\tremaining: 1m 34s\n",
    "100:\tlearn: 360.0436708\ttotal: 11.8s\tremaining: 1m 27s\n",
    "150:\tlearn: 351.8938884\ttotal: 17.6s\tremaining: 1m 21s\n",
    "200:\tlearn: 345.8008812\ttotal: 23.5s\tremaining: 1m 15s\n",
    "250:\tlearn: 340.5750504\ttotal: 29.5s\tremaining: 1m 10s\n",
    "300:\tlearn: 336.4251354\ttotal: 35.4s\tremaining: 1m 4s\n",
    "350:\tlearn: 333.3891384\ttotal: 41.5s\tremaining: 59s\n",
    "400:\tlearn: 330.6082104\ttotal: 47.6s\tremaining: 53.3s\n",
    "450:\tlearn: 328.2626017\ttotal: 53.5s\tremaining: 47.4s\n",
    "500:\tlearn: 326.0125382\ttotal: 59.4s\tremaining: 41.4s\n",
    "550:\tlearn: 323.6730179\ttotal: 1m 5s\tremaining: 35.4s\n",
    "600:\tlearn: 321.6589712\ttotal: 1m 10s\tremaining: 29.4s\n",
    "650:\tlearn: 319.8141610\ttotal: 1m 16s\tremaining: 23.5s\n",
    "700:\tlearn: 318.2085387\ttotal: 1m 22s\tremaining: 17.6s\n",
    "750:\tlearn: 316.5204947\ttotal: 1m 28s\tremaining: 11.7s\n",
    "800:\tlearn: 315.0757634\ttotal: 1m 34s\tremaining: 5.77s\n",
    "849:\tlearn: 313.7084422\ttotal: 1m 40s\tremaining: 0us\n",
    "0:\tlearn: 687.9548716\ttotal: 87.5ms\tremaining: 1m 1s\n",
    "50:\tlearn: 372.7026481\ttotal: 7.15s\tremaining: 1m 31s\n",
    "100:\tlearn: 356.7352428\ttotal: 14.2s\tremaining: 1m 24s\n",
    "150:\tlearn: 348.3587077\ttotal: 21.1s\tremaining: 1m 16s\n",
    "200:\tlearn: 341.9311574\ttotal: 28.2s\tremaining: 1m 9s\n",
    "250:\tlearn: 336.7379891\ttotal: 35.1s\tremaining: 1m 2s\n",
    "300:\tlearn: 332.5606886\ttotal: 42.1s\tremaining: 55.8s\n",
    "350:\tlearn: 329.1979862\ttotal: 49.1s\tremaining: 48.8s\n",
    "400:\tlearn: 326.1611102\ttotal: 56.1s\tremaining: 41.8s\n",
    "450:\tlearn: 323.3812484\ttotal: 1m 3s\tremaining: 34.8s\n",
    "500:\tlearn: 320.8267394\ttotal: 1m 10s\tremaining: 27.9s\n",
    "550:\tlearn: 318.3163460\ttotal: 1m 17s\tremaining: 20.9s\n",
    "600:\tlearn: 316.2208944\ttotal: 1m 24s\tremaining: 13.8s\n",
    "650:\tlearn: 314.3596428\ttotal: 1m 30s\tremaining: 6.83s\n",
    "699:\tlearn: 312.6178773\ttotal: 1m 37s\tremaining: 0us\n",
    "0:\tlearn: 683.8708480\ttotal: 76.3ms\tremaining: 53.3s\n",
    "50:\tlearn: 372.1367533\ttotal: 7.24s\tremaining: 1m 32s\n",
    "100:\tlearn: 356.5796199\ttotal: 14.6s\tremaining: 1m 26s\n",
    "150:\tlearn: 347.4752550\ttotal: 21.6s\tremaining: 1m 18s\n",
    "200:\tlearn: 341.1379804\ttotal: 28.6s\tremaining: 1m 11s\n",
    "250:\tlearn: 336.3327996\ttotal: 35.5s\tremaining: 1m 3s\n",
    "300:\tlearn: 332.0107987\ttotal: 42.4s\tremaining: 56.2s\n",
    "350:\tlearn: 328.5042776\ttotal: 49.2s\tremaining: 49s\n",
    "400:\tlearn: 325.3639129\ttotal: 56.1s\tremaining: 41.8s\n",
    "450:\tlearn: 322.8350372\ttotal: 1m 2s\tremaining: 34.6s\n",
    "500:\tlearn: 320.4359016\ttotal: 1m 9s\tremaining: 27.5s\n",
    "550:\tlearn: 318.0897878\ttotal: 1m 16s\tremaining: 20.6s\n",
    "600:\tlearn: 315.7208219\ttotal: 1m 22s\tremaining: 13.7s\n",
    "650:\tlearn: 313.6014077\ttotal: 1m 29s\tremaining: 6.74s\n",
    "699:\tlearn: 311.8180196\ttotal: 1m 36s\tremaining: 0us\n",
    "0:\tlearn: 685.9155383\ttotal: 48ms\tremaining: 33.5s\n",
    "50:\tlearn: 372.8380115\ttotal: 6.72s\tremaining: 1m 25s\n",
    "100:\tlearn: 356.6013583\ttotal: 13.5s\tremaining: 1m 20s\n",
    "150:\tlearn: 347.3025482\ttotal: 20.3s\tremaining: 1m 13s\n",
    "200:\tlearn: 340.7850757\ttotal: 26.9s\tremaining: 1m 6s\n",
    "250:\tlearn: 336.1533241\ttotal: 33.2s\tremaining: 59.4s\n",
    "300:\tlearn: 331.9518533\ttotal: 39.8s\tremaining: 52.7s\n",
    "350:\tlearn: 328.5163632\ttotal: 46.4s\tremaining: 46.1s\n",
    "400:\tlearn: 325.4719032\ttotal: 52.9s\tremaining: 39.5s\n",
    "450:\tlearn: 322.6546132\ttotal: 59.1s\tremaining: 32.6s\n",
    "500:\tlearn: 320.2640722\ttotal: 1m 5s\tremaining: 25.9s\n",
    "550:\tlearn: 317.9395860\ttotal: 1m 11s\tremaining: 19.4s\n",
    "600:\tlearn: 315.8103702\ttotal: 1m 17s\tremaining: 12.8s\n",
    "650:\tlearn: 313.8907017\ttotal: 1m 24s\tremaining: 6.34s\n",
    "699:\tlearn: 312.0297219\ttotal: 1m 30s\tremaining: 0us\n",
    "0:\tlearn: 677.4857696\ttotal: 26.8ms\tremaining: 18.7s\n",
    "50:\tlearn: 372.1656170\ttotal: 6.39s\tremaining: 1m 21s\n",
    "100:\tlearn: 356.9294405\ttotal: 12.8s\tremaining: 1m 15s\n",
    "150:\tlearn: 348.0055348\ttotal: 19.1s\tremaining: 1m 9s\n",
    "200:\tlearn: 341.6502811\ttotal: 25.5s\tremaining: 1m 3s\n",
    "250:\tlearn: 336.2644721\ttotal: 32s\tremaining: 57.2s\n",
    "300:\tlearn: 332.0231170\ttotal: 38.7s\tremaining: 51.4s\n",
    "350:\tlearn: 328.4794064\ttotal: 45.1s\tremaining: 44.9s\n",
    "400:\tlearn: 325.3694476\ttotal: 51.7s\tremaining: 38.5s\n",
    "450:\tlearn: 322.6686351\ttotal: 58.4s\tremaining: 32.2s\n",
    "500:\tlearn: 320.3619600\ttotal: 1m 5s\tremaining: 26s\n",
    "550:\tlearn: 317.9539482\ttotal: 1m 12s\tremaining: 19.5s\n",
    "600:\tlearn: 315.6960679\ttotal: 1m 18s\tremaining: 13s\n",
    "650:\tlearn: 313.6821145\ttotal: 1m 25s\tremaining: 6.45s\n",
    "699:\tlearn: 311.9068440\ttotal: 1m 32s\tremaining: 0us\n",
    "0:\tlearn: 688.7450692\ttotal: 65.4ms\tremaining: 45.7s\n",
    "50:\tlearn: 371.7117112\ttotal: 6.94s\tremaining: 1m 28s\n",
    "100:\tlearn: 355.7477136\ttotal: 13.7s\tremaining: 1m 21s\n",
    "150:\tlearn: 346.9153964\ttotal: 20.5s\tremaining: 1m 14s\n",
    "200:\tlearn: 341.0607879\ttotal: 27.2s\tremaining: 1m 7s\n",
    "250:\tlearn: 336.5545743\ttotal: 34s\tremaining: 1m\n",
    "300:\tlearn: 332.3810849\ttotal: 40.9s\tremaining: 54.2s\n",
    "350:\tlearn: 328.8726046\ttotal: 47.6s\tremaining: 47.3s\n",
    "400:\tlearn: 325.8351590\ttotal: 54.1s\tremaining: 40.4s\n",
    "450:\tlearn: 322.8784387\ttotal: 1m\tremaining: 33.6s\n",
    "500:\tlearn: 320.3969219\ttotal: 1m 7s\tremaining: 26.8s\n",
    "550:\tlearn: 318.0300624\ttotal: 1m 14s\tremaining: 20.1s\n",
    "600:\tlearn: 315.6708640\ttotal: 1m 21s\tremaining: 13.4s\n",
    "650:\tlearn: 313.7630947\ttotal: 1m 28s\tremaining: 6.64s\n",
    "699:\tlearn: 312.0535104\ttotal: 1m 34s\tremaining: 0us\n",
    "0:\tlearn: 602.6492929\ttotal: 31.6ms\tremaining: 22.1s\n",
    "50:\tlearn: 367.5970360\ttotal: 6.9s\tremaining: 1m 27s\n",
    "100:\tlearn: 352.1703175\ttotal: 13.7s\tremaining: 1m 21s\n",
    "150:\tlearn: 343.3786710\ttotal: 20.3s\tremaining: 1m 13s\n",
    "200:\tlearn: 337.1294166\ttotal: 26.9s\tremaining: 1m 6s\n",
    "250:\tlearn: 331.4659710\ttotal: 33.6s\tremaining: 1m\n",
    "300:\tlearn: 326.6375151\ttotal: 40.3s\tremaining: 53.4s\n",
    "350:\tlearn: 322.5729783\ttotal: 47s\tremaining: 46.8s\n",
    "400:\tlearn: 319.4870214\ttotal: 53.7s\tremaining: 40s\n",
    "450:\tlearn: 316.5536143\ttotal: 1m\tremaining: 33.4s\n",
    "500:\tlearn: 313.8721573\ttotal: 1m 7s\tremaining: 26.8s\n",
    "550:\tlearn: 311.4434557\ttotal: 1m 14s\tremaining: 20s\n",
    "600:\tlearn: 309.0224001\ttotal: 1m 20s\tremaining: 13.3s\n",
    "650:\tlearn: 306.9332453\ttotal: 1m 27s\tremaining: 6.58s\n",
    "699:\tlearn: 304.8553675\ttotal: 1m 34s\tremaining: 0us\n",
    "0:\tlearn: 596.9463699\ttotal: 43.9ms\tremaining: 30.7s\n",
    "50:\tlearn: 367.1474840\ttotal: 6.82s\tremaining: 1m 26s\n",
    "100:\tlearn: 351.2717702\ttotal: 13.9s\tremaining: 1m 22s\n",
    "150:\tlearn: 342.3983612\ttotal: 20.7s\tremaining: 1m 15s\n",
    "200:\tlearn: 335.6794822\ttotal: 27.4s\tremaining: 1m 8s\n",
    "250:\tlearn: 330.5570621\ttotal: 34.1s\tremaining: 1m 1s\n",
    "300:\tlearn: 325.9487135\ttotal: 40.8s\tremaining: 54s\n",
    "350:\tlearn: 321.8692998\ttotal: 47.4s\tremaining: 47.2s\n",
    "400:\tlearn: 318.5652752\ttotal: 54.2s\tremaining: 40.4s\n",
    "450:\tlearn: 315.7257087\ttotal: 1m\tremaining: 33.6s\n",
    "500:\tlearn: 313.0876475\ttotal: 1m 7s\tremaining: 26.8s\n",
    "550:\tlearn: 310.6993564\ttotal: 1m 14s\tremaining: 20s\n",
    "600:\tlearn: 308.3045547\ttotal: 1m 20s\tremaining: 13.3s\n",
    "650:\tlearn: 306.1832503\ttotal: 1m 27s\tremaining: 6.58s\n",
    "699:\tlearn: 304.0027703\ttotal: 1m 33s\tremaining: 0us\n",
    "0:\tlearn: 599.7057376\ttotal: 104ms\tremaining: 1m 12s\n",
    "50:\tlearn: 367.1327138\ttotal: 6.87s\tremaining: 1m 27s\n",
    "100:\tlearn: 351.2584736\ttotal: 13.6s\tremaining: 1m 20s\n",
    "150:\tlearn: 341.9201611\ttotal: 20.4s\tremaining: 1m 14s\n",
    "200:\tlearn: 335.7417272\ttotal: 27.1s\tremaining: 1m 7s\n",
    "250:\tlearn: 330.2405126\ttotal: 34.1s\tremaining: 1m 1s\n",
    "300:\tlearn: 325.8408088\ttotal: 40.9s\tremaining: 54.2s\n",
    "350:\tlearn: 322.1531829\ttotal: 47.7s\tremaining: 47.4s\n",
    "400:\tlearn: 318.7146911\ttotal: 54.4s\tremaining: 40.5s\n",
    "450:\tlearn: 315.6004488\ttotal: 1m 1s\tremaining: 33.7s\n",
    "500:\tlearn: 312.8001422\ttotal: 1m 7s\tremaining: 26.9s\n",
    "550:\tlearn: 310.3098840\ttotal: 1m 14s\tremaining: 20.1s\n",
    "600:\tlearn: 307.9948419\ttotal: 1m 20s\tremaining: 13.3s\n",
    "650:\tlearn: 306.0231919\ttotal: 1m 27s\tremaining: 6.6s\n",
    "699:\tlearn: 304.1376494\ttotal: 1m 34s\tremaining: 0us\n",
    "0:\tlearn: 588.0477423\ttotal: 69.1ms\tremaining: 48.3s\n",
    "50:\tlearn: 365.4028902\ttotal: 7.14s\tremaining: 1m 30s\n",
    "100:\tlearn: 350.3774653\ttotal: 14.1s\tremaining: 1m 23s\n",
    "150:\tlearn: 342.2342974\ttotal: 20.9s\tremaining: 1m 15s\n",
    "200:\tlearn: 335.7936793\ttotal: 27.6s\tremaining: 1m 8s\n",
    "250:\tlearn: 330.0513362\ttotal: 34.3s\tremaining: 1m 1s\n",
    "300:\tlearn: 325.8994452\ttotal: 41.1s\tremaining: 54.5s\n",
    "350:\tlearn: 321.8841377\ttotal: 47.9s\tremaining: 47.6s\n",
    "400:\tlearn: 318.7728591\ttotal: 54.5s\tremaining: 40.7s\n",
    "450:\tlearn: 315.7007919\ttotal: 1m 1s\tremaining: 33.9s\n",
    "500:\tlearn: 313.4482058\ttotal: 1m 8s\tremaining: 27.1s\n",
    "550:\tlearn: 311.2517237\ttotal: 1m 14s\tremaining: 20.2s\n",
    "600:\tlearn: 309.0503495\ttotal: 1m 21s\tremaining: 13.4s\n",
    "650:\tlearn: 306.7603295\ttotal: 1m 28s\tremaining: 6.63s\n",
    "699:\tlearn: 304.8680364\ttotal: 1m 34s\tremaining: 0us\n",
    "0:\tlearn: 603.6807866\ttotal: 117ms\tremaining: 1m 21s\n",
    "50:\tlearn: 366.4519332\ttotal: 6.98s\tremaining: 1m 28s\n",
    "100:\tlearn: 351.3055384\ttotal: 13.9s\tremaining: 1m 22s\n",
    "150:\tlearn: 342.5107576\ttotal: 20.6s\tremaining: 1m 15s\n",
    "200:\tlearn: 335.9130477\ttotal: 27.5s\tremaining: 1m 8s\n",
    "250:\tlearn: 330.9493658\ttotal: 34.5s\tremaining: 1m 1s\n",
    "300:\tlearn: 326.7476774\ttotal: 41.3s\tremaining: 54.8s\n",
    "350:\tlearn: 323.2801212\ttotal: 47.9s\tremaining: 47.6s\n",
    "400:\tlearn: 320.0401731\ttotal: 54.7s\tremaining: 40.8s\n",
    "450:\tlearn: 317.0255681\ttotal: 1m 1s\tremaining: 33.9s\n",
    "500:\tlearn: 314.4027391\ttotal: 1m 8s\tremaining: 27.1s\n",
    "550:\tlearn: 311.9270587\ttotal: 1m 14s\tremaining: 20.2s\n",
    "600:\tlearn: 309.4154168\ttotal: 1m 21s\tremaining: 13.5s\n",
    "650:\tlearn: 307.5378615\ttotal: 1m 28s\tremaining: 6.66s\n",
    "699:\tlearn: 305.6275900\ttotal: 1m 35s\tremaining: 0us\n",
    "0:\tlearn: 687.9548716\ttotal: 79ms\tremaining: 1m 7s\n",
    "50:\tlearn: 372.7026481\ttotal: 6.93s\tremaining: 1m 48s\n",
    "100:\tlearn: 356.7352428\ttotal: 13.7s\tremaining: 1m 41s\n",
    "150:\tlearn: 348.3587077\ttotal: 20.3s\tremaining: 1m 33s\n",
    "200:\tlearn: 341.9311574\ttotal: 27.1s\tremaining: 1m 27s\n",
    "250:\tlearn: 336.7379891\ttotal: 33.9s\tremaining: 1m 20s\n",
    "300:\tlearn: 332.5606886\ttotal: 40.7s\tremaining: 1m 14s\n",
    "350:\tlearn: 329.1979862\ttotal: 47.5s\tremaining: 1m 7s\n",
    "400:\tlearn: 326.1611102\ttotal: 54.2s\tremaining: 1m\n",
    "450:\tlearn: 323.3812484\ttotal: 1m\tremaining: 54s\n",
    "500:\tlearn: 320.8267394\ttotal: 1m 7s\tremaining: 47.1s\n",
    "550:\tlearn: 318.3163460\ttotal: 1m 14s\tremaining: 40.3s\n",
    "600:\tlearn: 316.2208944\ttotal: 1m 20s\tremaining: 33.5s\n",
    "650:\tlearn: 314.3596428\ttotal: 1m 27s\tremaining: 26.8s\n",
    "700:\tlearn: 312.5620465\ttotal: 1m 33s\tremaining: 20s\n",
    "750:\tlearn: 311.0075462\ttotal: 1m 40s\tremaining: 13.2s\n",
    "800:\tlearn: 309.3984867\ttotal: 1m 46s\tremaining: 6.52s\n",
    "849:\tlearn: 307.8391774\ttotal: 1m 52s\tremaining: 0us\n",
    "0:\tlearn: 683.8708480\ttotal: 52.9ms\tremaining: 44.9s\n",
    "50:\tlearn: 372.1367533\ttotal: 6.43s\tremaining: 1m 40s\n",
    "100:\tlearn: 356.5796199\ttotal: 12.8s\tremaining: 1m 34s\n",
    "150:\tlearn: 347.4752550\ttotal: 19.1s\tremaining: 1m 28s\n",
    "200:\tlearn: 341.1379804\ttotal: 25.4s\tremaining: 1m 22s\n",
    "250:\tlearn: 336.3327996\ttotal: 31.9s\tremaining: 1m 16s\n",
    "300:\tlearn: 332.0107987\ttotal: 38.2s\tremaining: 1m 9s\n",
    "350:\tlearn: 328.5042776\ttotal: 44.5s\tremaining: 1m 3s\n",
    "400:\tlearn: 325.3639129\ttotal: 51s\tremaining: 57.1s\n",
    "450:\tlearn: 322.8350372\ttotal: 57.6s\tremaining: 50.9s\n",
    "500:\tlearn: 320.4359016\ttotal: 1m 3s\tremaining: 44.5s\n",
    "550:\tlearn: 318.0897878\ttotal: 1m 10s\tremaining: 38.2s\n",
    "600:\tlearn: 315.7208219\ttotal: 1m 16s\tremaining: 31.8s\n",
    "650:\tlearn: 313.6014077\ttotal: 1m 23s\tremaining: 25.4s\n",
    "700:\tlearn: 311.7830323\ttotal: 1m 29s\tremaining: 19s\n",
    "750:\tlearn: 309.9433385\ttotal: 1m 35s\tremaining: 12.6s\n",
    "800:\tlearn: 308.3421279\ttotal: 1m 41s\tremaining: 6.24s\n",
    "849:\tlearn: 306.8854902\ttotal: 1m 48s\tremaining: 0us\n",
    "0:\tlearn: 685.9155383\ttotal: 97.6ms\tremaining: 1m 22s\n",
    "50:\tlearn: 372.8380115\ttotal: 6.64s\tremaining: 1m 44s\n",
    "100:\tlearn: 356.6013583\ttotal: 13s\tremaining: 1m 36s\n",
    "150:\tlearn: 347.3025482\ttotal: 19.3s\tremaining: 1m 29s\n",
    "200:\tlearn: 340.7850757\ttotal: 25.6s\tremaining: 1m 22s\n",
    "250:\tlearn: 336.1533241\ttotal: 31.9s\tremaining: 1m 16s\n",
    "300:\tlearn: 331.9518533\ttotal: 38.3s\tremaining: 1m 9s\n",
    "350:\tlearn: 328.5163632\ttotal: 44.3s\tremaining: 1m 2s\n",
    "400:\tlearn: 325.4719032\ttotal: 50.9s\tremaining: 57s\n",
    "450:\tlearn: 322.6546132\ttotal: 57.4s\tremaining: 50.8s\n",
    "500:\tlearn: 320.2640722\ttotal: 1m 3s\tremaining: 44.4s\n",
    "550:\tlearn: 317.9395860\ttotal: 1m 10s\tremaining: 38s\n",
    "600:\tlearn: 315.8103702\ttotal: 1m 16s\tremaining: 31.6s\n",
    "650:\tlearn: 313.8907017\ttotal: 1m 22s\tremaining: 25.2s\n",
    "700:\tlearn: 311.9822002\ttotal: 1m 28s\tremaining: 18.9s\n",
    "750:\tlearn: 310.2748556\ttotal: 1m 35s\tremaining: 12.6s\n",
    "800:\tlearn: 308.5496975\ttotal: 1m 41s\tremaining: 6.24s\n",
    "849:\tlearn: 307.0081699\ttotal: 1m 48s\tremaining: 0us\n",
    "0:\tlearn: 677.4857696\ttotal: 86ms\tremaining: 1m 13s\n",
    "50:\tlearn: 372.1656170\ttotal: 7.25s\tremaining: 1m 53s\n",
    "100:\tlearn: 356.9294405\ttotal: 14s\tremaining: 1m 44s\n",
    "150:\tlearn: 348.0055348\ttotal: 20.6s\tremaining: 1m 35s\n",
    "200:\tlearn: 341.6502811\ttotal: 27.3s\tremaining: 1m 28s\n",
    "250:\tlearn: 336.2644721\ttotal: 33.6s\tremaining: 1m 20s\n",
    "300:\tlearn: 332.0231170\ttotal: 40.3s\tremaining: 1m 13s\n",
    "350:\tlearn: 328.4794064\ttotal: 46.6s\tremaining: 1m 6s\n",
    "400:\tlearn: 325.3694476\ttotal: 52.9s\tremaining: 59.3s\n",
    "450:\tlearn: 322.6686351\ttotal: 59.2s\tremaining: 52.4s\n",
    "500:\tlearn: 320.3619600\ttotal: 1m 5s\tremaining: 45.6s\n",
    "550:\tlearn: 317.9539482\ttotal: 1m 11s\tremaining: 39.1s\n",
    "600:\tlearn: 315.6960679\ttotal: 1m 18s\tremaining: 32.5s\n",
    "650:\tlearn: 313.6821145\ttotal: 1m 24s\tremaining: 25.9s\n",
    "700:\tlearn: 311.8714956\ttotal: 1m 30s\tremaining: 19.3s\n",
    "750:\tlearn: 310.0667248\ttotal: 1m 37s\tremaining: 12.8s\n",
    "800:\tlearn: 308.4208951\ttotal: 1m 43s\tremaining: 6.33s\n",
    "849:\tlearn: 306.9922925\ttotal: 1m 49s\tremaining: 0us\n",
    "0:\tlearn: 688.7450692\ttotal: 73.5ms\tremaining: 1m 2s\n",
    "50:\tlearn: 371.7117112\ttotal: 6.44s\tremaining: 1m 40s\n",
    "100:\tlearn: 355.7477136\ttotal: 13s\tremaining: 1m 36s\n",
    "150:\tlearn: 346.9153964\ttotal: 19.4s\tremaining: 1m 29s\n",
    "200:\tlearn: 341.0607879\ttotal: 25.7s\tremaining: 1m 22s\n",
    "250:\tlearn: 336.5545743\ttotal: 31.9s\tremaining: 1m 16s\n",
    "300:\tlearn: 332.3810849\ttotal: 38.2s\tremaining: 1m 9s\n",
    "350:\tlearn: 328.8726046\ttotal: 44.6s\tremaining: 1m 3s\n",
    "400:\tlearn: 325.8351590\ttotal: 50.8s\tremaining: 56.9s\n",
    "450:\tlearn: 322.8784387\ttotal: 57.3s\tremaining: 50.7s\n",
    "500:\tlearn: 320.3969219\ttotal: 1m 3s\tremaining: 44.3s\n",
    "550:\tlearn: 318.0300624\ttotal: 1m 10s\tremaining: 38s\n",
    "600:\tlearn: 315.6708640\ttotal: 1m 16s\tremaining: 31.7s\n",
    "650:\tlearn: 313.7630947\ttotal: 1m 22s\tremaining: 25.3s\n",
    "700:\tlearn: 312.0025201\ttotal: 1m 29s\tremaining: 19s\n",
    "750:\tlearn: 310.4017478\ttotal: 1m 35s\tremaining: 12.6s\n",
    "800:\tlearn: 308.8379325\ttotal: 1m 41s\tremaining: 6.23s\n",
    "849:\tlearn: 307.3813773\ttotal: 1m 47s\tremaining: 0us\n",
    "0:\tlearn: 602.6492929\ttotal: 84.9ms\tremaining: 1m 12s\n",
    "50:\tlearn: 367.5970360\ttotal: 6.46s\tremaining: 1m 41s\n",
    "100:\tlearn: 352.1703175\ttotal: 12.8s\tremaining: 1m 35s\n",
    "150:\tlearn: 343.3786710\ttotal: 19.3s\tremaining: 1m 29s\n",
    "200:\tlearn: 337.1294166\ttotal: 25.7s\tremaining: 1m 22s\n",
    "250:\tlearn: 331.4659710\ttotal: 32s\tremaining: 1m 16s\n",
    "300:\tlearn: 326.6375151\ttotal: 38.5s\tremaining: 1m 10s\n",
    "350:\tlearn: 322.5729783\ttotal: 45.1s\tremaining: 1m 4s\n",
    "400:\tlearn: 319.4870214\ttotal: 51.8s\tremaining: 58.1s\n",
    "450:\tlearn: 316.5536143\ttotal: 58.2s\tremaining: 51.5s\n",
    "500:\tlearn: 313.8721573\ttotal: 1m 4s\tremaining: 45.1s\n",
    "550:\tlearn: 311.4434557\ttotal: 1m 11s\tremaining: 38.7s\n",
    "600:\tlearn: 309.0224001\ttotal: 1m 18s\tremaining: 32.3s\n",
    "650:\tlearn: 306.9332453\ttotal: 1m 24s\tremaining: 25.9s\n",
    "700:\tlearn: 304.8104150\ttotal: 1m 31s\tremaining: 19.4s\n",
    "750:\tlearn: 302.9974682\ttotal: 1m 38s\tremaining: 13s\n",
    "800:\tlearn: 301.2645642\ttotal: 1m 44s\tremaining: 6.41s\n",
    "849:\tlearn: 299.7434625\ttotal: 1m 50s\tremaining: 0us\n",
    "0:\tlearn: 596.9463699\ttotal: 82.5ms\tremaining: 1m 10s\n",
    "50:\tlearn: 367.1474840\ttotal: 6.54s\tremaining: 1m 42s\n",
    "100:\tlearn: 351.2717702\ttotal: 13s\tremaining: 1m 36s\n",
    "150:\tlearn: 342.3983612\ttotal: 19.4s\tremaining: 1m 29s\n",
    "200:\tlearn: 335.6794822\ttotal: 26.1s\tremaining: 1m 24s\n",
    "250:\tlearn: 330.5570621\ttotal: 32.6s\tremaining: 1m 17s\n",
    "300:\tlearn: 325.9487135\ttotal: 39s\tremaining: 1m 11s\n",
    "350:\tlearn: 321.8692998\ttotal: 45.5s\tremaining: 1m 4s\n",
    "400:\tlearn: 318.5652752\ttotal: 51.9s\tremaining: 58.2s\n",
    "450:\tlearn: 315.7257087\ttotal: 58.2s\tremaining: 51.5s\n",
    "500:\tlearn: 313.0876475\ttotal: 1m 4s\tremaining: 45s\n",
    "550:\tlearn: 310.6993564\ttotal: 1m 10s\tremaining: 38.5s\n",
    "600:\tlearn: 308.3045547\ttotal: 1m 17s\tremaining: 32s\n",
    "650:\tlearn: 306.1832503\ttotal: 1m 23s\tremaining: 25.6s\n",
    "700:\tlearn: 303.9692155\ttotal: 1m 30s\tremaining: 19.2s\n",
    "750:\tlearn: 301.8330200\ttotal: 1m 36s\tremaining: 12.8s\n",
    "800:\tlearn: 300.0800493\ttotal: 1m 43s\tremaining: 6.32s\n",
    "849:\tlearn: 298.4643043\ttotal: 1m 49s\tremaining: 0us\n",
    "0:\tlearn: 599.7057376\ttotal: 86ms\tremaining: 1m 12s\n",
    "50:\tlearn: 367.1327138\ttotal: 6.79s\tremaining: 1m 46s\n",
    "100:\tlearn: 351.2584736\ttotal: 13.5s\tremaining: 1m 39s\n",
    "150:\tlearn: 341.9201611\ttotal: 20.3s\tremaining: 1m 34s\n",
    "200:\tlearn: 335.7417272\ttotal: 27.1s\tremaining: 1m 27s\n",
    "250:\tlearn: 330.2405126\ttotal: 34.1s\tremaining: 1m 21s\n",
    "300:\tlearn: 325.8408088\ttotal: 40.8s\tremaining: 1m 14s\n",
    "350:\tlearn: 322.1531829\ttotal: 47.6s\tremaining: 1m 7s\n",
    "400:\tlearn: 318.7146911\ttotal: 54.4s\tremaining: 1m\n",
    "450:\tlearn: 315.6004488\ttotal: 1m\tremaining: 53.9s\n",
    "500:\tlearn: 312.8001422\ttotal: 1m 7s\tremaining: 47.2s\n",
    "550:\tlearn: 310.3098840\ttotal: 1m 14s\tremaining: 40.3s\n",
    "600:\tlearn: 307.9948419\ttotal: 1m 21s\tremaining: 33.6s\n",
    "650:\tlearn: 306.0231919\ttotal: 1m 27s\tremaining: 26.8s\n",
    "700:\tlearn: 304.1130876\ttotal: 1m 34s\tremaining: 20s\n",
    "750:\tlearn: 302.1971911\ttotal: 1m 40s\tremaining: 13.3s\n",
    "800:\tlearn: 300.6035355\ttotal: 1m 47s\tremaining: 6.59s\n",
    "849:\tlearn: 299.0119781\ttotal: 1m 54s\tremaining: 0us\n",
    "0:\tlearn: 588.0477423\ttotal: 79.3ms\tremaining: 1m 7s\n",
    "50:\tlearn: 365.4028902\ttotal: 6.85s\tremaining: 1m 47s\n",
    "100:\tlearn: 350.3774653\ttotal: 13.5s\tremaining: 1m 40s\n",
    "150:\tlearn: 342.2342974\ttotal: 20.2s\tremaining: 1m 33s\n",
    "200:\tlearn: 335.7936793\ttotal: 27s\tremaining: 1m 27s\n",
    "250:\tlearn: 330.0513362\ttotal: 33.7s\tremaining: 1m 20s\n",
    "300:\tlearn: 325.8994452\ttotal: 40.5s\tremaining: 1m 13s\n",
    "350:\tlearn: 321.8841377\ttotal: 47.4s\tremaining: 1m 7s\n",
    "400:\tlearn: 318.7728591\ttotal: 54.1s\tremaining: 1m\n",
    "450:\tlearn: 315.7007919\ttotal: 1m\tremaining: 53.8s\n",
    "500:\tlearn: 313.4482058\ttotal: 1m 7s\tremaining: 46.9s\n",
    "550:\tlearn: 311.2517237\ttotal: 1m 13s\tremaining: 40.1s\n",
    "600:\tlearn: 309.0503495\ttotal: 1m 20s\tremaining: 33.4s\n",
    "650:\tlearn: 306.7603295\ttotal: 1m 27s\tremaining: 26.7s\n",
    "700:\tlearn: 304.8268856\ttotal: 1m 33s\tremaining: 20s\n",
    "750:\tlearn: 302.9430625\ttotal: 1m 40s\tremaining: 13.3s\n",
    "800:\tlearn: 301.1068616\ttotal: 1m 47s\tremaining: 6.55s\n",
    "849:\tlearn: 299.6385661\ttotal: 1m 53s\tremaining: 0us\n",
    "0:\tlearn: 603.6807866\ttotal: 101ms\tremaining: 1m 25s\n",
    "50:\tlearn: 366.4519332\ttotal: 6.96s\tremaining: 1m 49s\n",
    "100:\tlearn: 351.3055384\ttotal: 13.6s\tremaining: 1m 41s\n",
    "150:\tlearn: 342.5107576\ttotal: 20.4s\tremaining: 1m 34s\n",
    "200:\tlearn: 335.9130477\ttotal: 27.2s\tremaining: 1m 27s\n",
    "250:\tlearn: 330.9493658\ttotal: 33.8s\tremaining: 1m 20s\n",
    "300:\tlearn: 326.7476774\ttotal: 40.7s\tremaining: 1m 14s\n",
    "350:\tlearn: 323.2801212\ttotal: 47.4s\tremaining: 1m 7s\n",
    "400:\tlearn: 320.0401731\ttotal: 54.1s\tremaining: 1m\n",
    "450:\tlearn: 317.0255681\ttotal: 1m\tremaining: 53.8s\n",
    "500:\tlearn: 314.4027391\ttotal: 1m 7s\tremaining: 47s\n",
    "550:\tlearn: 311.9270587\ttotal: 1m 14s\tremaining: 40.2s\n",
    "600:\tlearn: 309.4154168\ttotal: 1m 20s\tremaining: 33.5s\n",
    "650:\tlearn: 307.5378615\ttotal: 1m 27s\tremaining: 26.7s\n",
    "700:\tlearn: 305.5813718\ttotal: 1m 34s\tremaining: 20s\n",
    "750:\tlearn: 303.6970911\ttotal: 1m 40s\tremaining: 13.3s\n",
    "800:\tlearn: 301.8763310\ttotal: 1m 47s\tremaining: 6.57s\n",
    "849:\tlearn: 300.3484565\ttotal: 1m 53s\tremaining: 0us\n",
    "0:\tlearn: 690.6977042\ttotal: 50.3ms\tremaining: 42.7s\n",
    "50:\tlearn: 371.8018704\ttotal: 8.21s\tremaining: 2m 8s\n",
    "100:\tlearn: 356.6665449\ttotal: 16.1s\tremaining: 1m 59s\n",
    "150:\tlearn: 348.1558542\ttotal: 24s\tremaining: 1m 50s\n",
    "200:\tlearn: 342.3095230\ttotal: 31.9s\tremaining: 1m 43s\n",
    "250:\tlearn: 337.6637055\ttotal: 39.8s\tremaining: 1m 34s\n",
    "300:\tlearn: 334.0933802\ttotal: 48s\tremaining: 1m 27s\n",
    "350:\tlearn: 330.8605412\ttotal: 55.7s\tremaining: 1m 19s\n",
    "400:\tlearn: 327.8439137\ttotal: 1m 3s\tremaining: 1m 10s\n",
    "450:\tlearn: 325.4073794\ttotal: 1m 10s\tremaining: 1m 2s\n",
    "500:\tlearn: 323.0090590\ttotal: 1m 17s\tremaining: 54.3s\n",
    "550:\tlearn: 320.8675931\ttotal: 1m 25s\tremaining: 46.3s\n",
    "600:\tlearn: 318.8300247\ttotal: 1m 32s\tremaining: 38.5s\n",
    "650:\tlearn: 316.9745027\ttotal: 1m 40s\tremaining: 30.7s\n",
    "700:\tlearn: 315.3783070\ttotal: 1m 47s\tremaining: 22.9s\n",
    "750:\tlearn: 313.8489784\ttotal: 1m 55s\tremaining: 15.3s\n",
    "800:\tlearn: 312.2582942\ttotal: 2m 3s\tremaining: 7.55s\n",
    "849:\tlearn: 310.9232750\ttotal: 2m 10s\tremaining: 0us\n",
    "GridSearchCV(cv=5, error_score='raise-deprecating',\n",
    "             estimator=<catboost.core.CatBoostRegressor object at 0x7f3cb04edbd0>,\n",
    "             iid='warn', n_jobs=-1,\n",
    "             param_grid={'depth': [5, 6], 'iterations': [700, 850],\n",
    "                         'learning_rate': [0.5, 0.75]},\n",
    "             pre_dispatch='2*n_jobs', refit=True, return_train_score=False,\n",
    "             scoring='neg_mean_squared_error', verbose=0)"
   ]
  },
  {
   "cell_type": "code",
   "execution_count": 131,
   "metadata": {},
   "outputs": [
    {
     "name": "stdout",
     "output_type": "stream",
     "text": [
      "\n",
      " The best parameters across ALL searched params:\n",
      " {'depth': 6, 'iterations': 850, 'learning_rate': 0.5}\n"
     ]
    }
   ],
   "source": [
    "#подбираем лучшие значения гиперпараметров\n",
    "print(\"\\n The best parameters across ALL searched params:\\n\", grid.best_params_)"
   ]
  },
  {
   "cell_type": "markdown",
   "metadata": {},
   "source": [
    "### <font color=\"purple\">RMSE на кросс-валидации Catboost</font> \n"
   ]
  },
  {
   "cell_type": "code",
   "execution_count": 142,
   "metadata": {},
   "outputs": [
    {
     "name": "stdout",
     "output_type": "stream",
     "text": [
      "-2872553.2353645773\n"
     ]
    }
   ],
   "source": [
    "#расчет MSE\n",
    "mse_cross_val = grid.best_score_\n",
    "print(rmse_cross_val)"
   ]
  },
  {
   "cell_type": "code",
   "execution_count": 145,
   "metadata": {},
   "outputs": [
    {
     "name": "stdout",
     "output_type": "stream",
     "text": [
      "RMSE кросс-валидации Catboost: 1694.8608306774267\n"
     ]
    }
   ],
   "source": [
    "#рассчитываем качество модели Catboost метрикой RMSE\n",
    "rmse_cross_cat = (mse_cross_val * (-1)) ** 0.5\n",
    "print(\"RMSE кросс-валидации Catboost:\", rmse_cross_cat)"
   ]
  },
  {
   "cell_type": "markdown",
   "metadata": {},
   "source": [
    "## 4. Модель градиентного бустинга с помощью библиотеки LightGBM <a name=\"Модель-градиентного-бустинга-с-помощью-библиотеки-LightGBM\"></a>"
   ]
  },
  {
   "cell_type": "code",
   "execution_count": 148,
   "metadata": {},
   "outputs": [],
   "source": [
    "#кросс-валидация LightGBM\n",
    "\n",
    "#создадим функцию кросс-валидации:\n",
    "def cross_val_lgb(n_iters, data, parametr, n_estimators):\n",
    "    n_iters = n_iters\n",
    "    parametrs = parametr\n",
    "    n_estimators = n_estimators\n",
    "\n",
    "    scores = []\n",
    "\n",
    "    # зададим размер блока\n",
    "    sample_size = int(len(data)/n_iters)\n",
    "\n",
    "    for i in range(0, len(data), sample_size):\n",
    "        valid_indexes =list(data.index.array)[i:(i+sample_size)] #массив из индексов для валидационного блока\n",
    "        train_indexes = list(data.index.array)[:i] + list(data.index.array)[(i+sample_size):] #массив из индексов для обучающей выборки\n",
    "\n",
    "    # разбьем переменные features и target на трейн и валид выборки \n",
    "        features_valid_ = features.loc[features.index.isin(valid_indexes)]\n",
    "        features_train_ = features.loc[features.index.isin(train_indexes)]\n",
    "        target_valid_ = target.loc[target.index.isin(valid_indexes)]\n",
    "        target_train_ = target.loc[target.index.isin(train_indexes)]\n",
    "\n",
    "        d_train = lgb.Dataset(features_train_, label=target_train_)\n",
    "        d_test = lgb.Dataset(features_valid_, label=target_valid_)\n",
    "        model_lgb = lgb.train(parametrs, d_train, n_estimators, verbose_eval=10)\n",
    "\n",
    "        predictions_ = model_lgb.predict(features_valid_)\n",
    "        score_ = rmse(target_valid_, predictions_)  # < оцените качество модели >\n",
    "\n",
    "        scores.append(score_)\n",
    "    rmse_mean = np.mean(scores)\n",
    "    #print(\"RMSE для кросс-валидации градиентного бустинга LightGBM:\", rmse_mean)\n",
    "    return rmse_mean"
   ]
  },
  {
   "source": [
    "#подбираем значения гиперпараметров\n",
    "params = {\n",
    "    'objective': 'regression',\n",
    "    'metric': 'rmse',\n",
    "    'max_depth': 5, \n",
    "    'learning_rate': 0.5\n",
    "}\n",
    "\n",
    "for estim in range(100, 900, 100):\n",
    "    rmse_mean = cross_val_lgb(5, features, params, estim)\n",
    "    print('for estim =', estim, 'rmse =', rmse_mean)"
   ],
   "cell_type": "code",
   "metadata": {},
   "execution_count": null,
   "outputs": []
  },
  {
   "cell_type": "markdown",
   "metadata": {},
   "source": [
    "### Результаты подбора значения  n_estimator\n",
    "for estim = 100 rmse = 390.68661003231017\n",
    "for estim = 200 rmse = 386.8705305633542\n",
    "for estim = 300 rmse = 385.2167869769233\n",
    "for estim = 400 rmse = 384.203025714982\n",
    "for estim = 500 rmse = 382.309999508618\n",
    "for estim = 600 rmse = 382.37284567242904\n",
    "for estim = 700 rmse = 381.53429810151056\n",
    "for estim = 800 rmse = 381.49010853897386"
   ]
  },
  {
   "cell_type": "markdown",
   "metadata": {},
   "source": [
    "### Провела кросс-валидацию с лучшими значениями гиперпараметров модели, для примера:\n",
    "\n",
    "**n_estimator = 700**  \n",
    "rmse = 381.53429810151056  \n",
    "CPU times: user 5min 3s, sys: 1.32 s, total: 5min 5s  \n",
    "Wall time: 5min 8s  \n",
    "**n_estimator = 900**  \n",
    "rmse = 380.88404048866823  \n",
    "CPU times: user 6min 22s, sys: 1.6 s, total: 6min 23s  \n",
    "Wall time: 6min 27s  \n",
    "\n",
    "### Качество модели улучшилось с увеличением значения n_estimator, однако процес обучения занимает больше времени. Так как разница в качестве незначительная, будем использовать n_estimator = 700"
   ]
  },
  {
   "cell_type": "markdown",
   "metadata": {},
   "source": [
    "### Результат подбора гиперпараметров модели градинетного бустинга с помощью библиотеки Light GBM\n",
    "\n",
    "{'max_depth': 5,  'learning_rate': 0.5}  \n",
    "'n_iterations': 700"
   ]
  },
  {
   "cell_type": "markdown",
   "metadata": {},
   "source": [
    "### <font color=\"purple\"> RMSE на кросс-валидации Light GBM </font>"
   ]
  },
  {
   "cell_type": "code",
   "execution_count": 149,
   "metadata": {},
   "outputs": [
    {
     "name": "stdout",
     "output_type": "stream",
     "text": [
      "rmse на кросс-валидации Light GBM = 1609.847344307367\n"
     ]
    }
   ],
   "source": [
    "best_params = {'max_depth': 5,\n",
    "                'learning_rate': 0.5}\n",
    "rmse_cross_lgb = cross_val_lgb(5, features, best_params, 700)\n",
    "print('rmse на кросс-валидации Light GBM =', rmse_cross_lgb)"
   ]
  },
  {
   "cell_type": "markdown",
   "metadata": {},
   "source": [
    "# 3. Анализ моделей <a name=\"Анализ-моделей\"></a>"
   ]
  },
  {
   "cell_type": "markdown",
   "metadata": {},
   "source": [
    "### Тестируем модели, определяем качество и скорость обучения"
   ]
  },
  {
   "cell_type": "code",
   "execution_count": 150,
   "metadata": {},
   "outputs": [
    {
     "name": "stdout",
     "output_type": "stream",
     "text": [
      "CPU times: user 20.4 s, sys: 7.62 s, total: 28 s\n",
      "Wall time: 28.1 s\n"
     ]
    },
    {
     "data": {
      "text/plain": [
       "LinearRegression(copy_X=True, fit_intercept=True, n_jobs=-1, normalize=False)"
      ]
     },
     "execution_count": 150,
     "metadata": {},
     "output_type": "execute_result"
    }
   ],
   "source": [
    "%%time\n",
    "#тестирование модели линейной регрессий\n",
    "model_lin_reg = LinearRegression(n_jobs = -1)\n",
    "model_lin_reg.fit(features_train_lin_stand, target_train_linreg)"
   ]
  },
  {
   "cell_type": "markdown",
   "metadata": {},
   "source": [
    "### <font color=\"purple\">Измерим время предсказания модели линейной регрессии</font>"
   ]
  },
  {
   "cell_type": "code",
   "execution_count": 153,
   "metadata": {},
   "outputs": [
    {
     "name": "stdout",
     "output_type": "stream",
     "text": [
      "CPU times: user 65.2 ms, sys: 311 µs, total: 65.5 ms\n",
      "Wall time: 26.2 ms\n"
     ]
    }
   ],
   "source": [
    "%%time\n",
    "#предсказания модели линейной регрессий\n",
    "predicts_lin_reg = model_lin_reg.predict(features_test_lin_stand)"
   ]
  },
  {
   "cell_type": "code",
   "execution_count": 154,
   "metadata": {
    "scrolled": true
   },
   "outputs": [
    {
     "name": "stdout",
     "output_type": "stream",
     "text": [
      "RSME линейно регрессии: 2908.72\n"
     ]
    }
   ],
   "source": [
    "#опрелделяем качество модели линейной регрессий\n",
    "rmse_lin = rmse(target_test_linreg, predicts_lin_reg)\n",
    "print('RSME линейно регрессии:', round(rmse_lin, 2))"
   ]
  },
  {
   "cell_type": "code",
   "execution_count": 155,
   "metadata": {},
   "outputs": [
    {
     "name": "stdout",
     "output_type": "stream",
     "text": [
      "0:\tlearn: 3347.8711894\ttotal: 107ms\tremaining: 1m 30s\n",
      "50:\tlearn: 1806.1000176\ttotal: 8.07s\tremaining: 2m 6s\n",
      "100:\tlearn: 1724.8421038\ttotal: 16.3s\tremaining: 2m 1s\n",
      "150:\tlearn: 1675.4497435\ttotal: 24.4s\tremaining: 1m 52s\n",
      "200:\tlearn: 1645.3140478\ttotal: 32.4s\tremaining: 1m 44s\n",
      "250:\tlearn: 1620.1623204\ttotal: 40.3s\tremaining: 1m 36s\n",
      "300:\tlearn: 1597.9509736\ttotal: 48.4s\tremaining: 1m 28s\n",
      "350:\tlearn: 1579.7822118\ttotal: 56.3s\tremaining: 1m 20s\n",
      "400:\tlearn: 1564.6465077\ttotal: 1m 4s\tremaining: 1m 11s\n",
      "450:\tlearn: 1549.8329584\ttotal: 1m 12s\tremaining: 1m 3s\n",
      "500:\tlearn: 1536.3284760\ttotal: 1m 20s\tremaining: 56.1s\n",
      "550:\tlearn: 1522.7848764\ttotal: 1m 28s\tremaining: 48.1s\n",
      "600:\tlearn: 1512.5999675\ttotal: 1m 36s\tremaining: 40.1s\n",
      "650:\tlearn: 1502.7075559\ttotal: 1m 44s\tremaining: 32s\n",
      "700:\tlearn: 1493.7773580\ttotal: 1m 52s\tremaining: 24s\n",
      "750:\tlearn: 1485.1044428\ttotal: 2m\tremaining: 15.9s\n",
      "800:\tlearn: 1476.3235769\ttotal: 2m 8s\tremaining: 7.87s\n",
      "849:\tlearn: 1468.1077749\ttotal: 2m 16s\tremaining: 0us\n"
     ]
    },
    {
     "data": {
      "text/plain": [
       "<catboost.core.CatBoostRegressor at 0x7fb19849a990>"
      ]
     },
     "execution_count": 155,
     "metadata": {},
     "output_type": "execute_result"
    }
   ],
   "source": [
    "#предсказания модели градиентного бустинга Catboost\n",
    "model_cat = CatBoostRegressor(iterations=850, depth=6, learning_rate=0.5)\n",
    "model_cat.fit(features_train_stand, target_train, verbose=50)"
   ]
  },
  {
   "cell_type": "code",
   "execution_count": 156,
   "metadata": {},
   "outputs": [
    {
     "name": "stdout",
     "output_type": "stream",
     "text": [
      "CPU times: user 146 ms, sys: 0 ns, total: 146 ms\n",
      "Wall time: 59.7 ms\n"
     ]
    }
   ],
   "source": [
    "%%time\n",
    "predicts_cat = model_cat.predict(features_test_stand)"
   ]
  },
  {
   "cell_type": "code",
   "execution_count": 157,
   "metadata": {},
   "outputs": [
    {
     "name": "stdout",
     "output_type": "stream",
     "text": [
      "RSME Catboost: 1679.4\n"
     ]
    }
   ],
   "source": [
    "rmse_cat = rmse(target_test, predicts_cat)\n",
    "print('RSME Catboost:', round(rmse_cat, 2))"
   ]
  },
  {
   "cell_type": "code",
   "execution_count": 158,
   "metadata": {},
   "outputs": [
    {
     "name": "stdout",
     "output_type": "stream",
     "text": [
      "CPU times: user 1min 12s, sys: 402 ms, total: 1min 12s\n",
      "Wall time: 1min 13s\n"
     ]
    }
   ],
   "source": [
    "%%time\n",
    "#предсказания модели градиентного бустинга LightGBM\n",
    "params_lgb = {\n",
    "    'objective': 'regression',\n",
    "    'metric': 'rmse',\n",
    "    'max_depth': 5, \n",
    "    'learning_rate': 0.5\n",
    "}\n",
    "d_train = lgb.Dataset(features_train_stand, label=target_train)\n",
    "d_test = lgb.Dataset(features_test_stand, label=target_test)\n",
    "model_lgb = lgb.train(params_lgb, d_train, 700)"
   ]
  },
  {
   "cell_type": "code",
   "execution_count": 159,
   "metadata": {},
   "outputs": [
    {
     "name": "stdout",
     "output_type": "stream",
     "text": [
      "CPU times: user 7.23 s, sys: 0 ns, total: 7.23 s\n",
      "Wall time: 7.23 s\n"
     ]
    }
   ],
   "source": [
    "%%time\n",
    "predicts_lgb = model_lgb.predict(features_test_stand)"
   ]
  },
  {
   "cell_type": "code",
   "execution_count": 161,
   "metadata": {},
   "outputs": [
    {
     "name": "stdout",
     "output_type": "stream",
     "text": [
      "RSME LightGBM: 1679.9\n"
     ]
    }
   ],
   "source": [
    "rmse_lgb = rmse(target_test, predicts_lgb)\n",
    "print('RSME LightGBM:', round(rmse_lgb, 2))"
   ]
  },
  {
   "cell_type": "markdown",
   "metadata": {},
   "source": [
    "### <font color=\"purple\">Таблица результатов</font>"
   ]
  },
  {
   "cell_type": "code",
   "execution_count": 162,
   "metadata": {},
   "outputs": [
    {
     "data": {
      "text/html": [
       "<div>\n",
       "<style scoped>\n",
       "    .dataframe tbody tr th:only-of-type {\n",
       "        vertical-align: middle;\n",
       "    }\n",
       "\n",
       "    .dataframe tbody tr th {\n",
       "        vertical-align: top;\n",
       "    }\n",
       "\n",
       "    .dataframe thead tr th {\n",
       "        text-align: left;\n",
       "    }\n",
       "</style>\n",
       "<table border=\"1\" class=\"dataframe\">\n",
       "  <thead>\n",
       "    <tr>\n",
       "      <th></th>\n",
       "      <th colspan=\"5\" halign=\"left\">Метрики качества моделей</th>\n",
       "    </tr>\n",
       "    <tr>\n",
       "      <th></th>\n",
       "      <th>Models</th>\n",
       "      <th>Время обучения</th>\n",
       "      <th>Время предсказания</th>\n",
       "      <th>RMSE на кросс-валидации</th>\n",
       "      <th>RMSE на тестовой выборке</th>\n",
       "    </tr>\n",
       "  </thead>\n",
       "  <tbody>\n",
       "    <tr>\n",
       "      <td>0</td>\n",
       "      <td>LinerRegress</td>\n",
       "      <td>28s</td>\n",
       "      <td>26ms</td>\n",
       "      <td>2907.61</td>\n",
       "      <td>2908.72</td>\n",
       "    </tr>\n",
       "    <tr>\n",
       "      <td>1</td>\n",
       "      <td>Catboost</td>\n",
       "      <td>2m 15s</td>\n",
       "      <td>60ms</td>\n",
       "      <td>1694.86</td>\n",
       "      <td>1679.40</td>\n",
       "    </tr>\n",
       "    <tr>\n",
       "      <td>2</td>\n",
       "      <td>LightGBM</td>\n",
       "      <td>1m 10s</td>\n",
       "      <td>7s</td>\n",
       "      <td>1609.85</td>\n",
       "      <td>1679.90</td>\n",
       "    </tr>\n",
       "  </tbody>\n",
       "</table>\n",
       "</div>"
      ],
      "text/plain": [
       "  Метрики качества моделей                                    \\\n",
       "                    Models Время обучения Время предсказания   \n",
       "0             LinerRegress            28s               26ms   \n",
       "1                 Catboost         2m 15s               60ms   \n",
       "2                 LightGBM         1m 10s                 7s   \n",
       "\n",
       "                                                    \n",
       "  RMSE на кросс-валидации RMSE на тестовой выборке  \n",
       "0                 2907.61                  2908.72  \n",
       "1                 1694.86                  1679.40  \n",
       "2                 1609.85                  1679.90  "
      ]
     },
     "metadata": {},
     "output_type": "display_data"
    }
   ],
   "source": [
    "Построим таблицу результатов"
   ]
  },
  {
   "cell_type": "markdown",
   "metadata": {},
   "source": [
    "<div class=\"alert alert-block alert-success\">\n",
    "<b>Комментарий ревьюера v3:</b>    \n",
    "Прекрасная таблица!\n",
    "</div>"
   ]
  },
  {
   "cell_type": "markdown",
   "metadata": {},
   "source": [
    "# Вывод\n",
    "В результате проведенного исследования модель линейной регрессии показала самое быстрое время обучения и предсказания, но намного хуже качество. Модели градинтного бустинга библиотек Catboost и LightGBM показали практически одинаковое качество, время обучение и предсказания у Catboost намного выше, чем у LightGBM.  \n",
    "По кросс-валидациие лучшее качество показала модель библиотеки LightGBM. В качестве рекомендации предлагаю использовать ее для бизнеса."
   ]
  }
 ],
 "metadata": {
  "kernelspec": {
   "display_name": "Python 3",
   "language": "python",
   "name": "python3"
  },
  "language_info": {
   "codemirror_mode": {
    "name": "ipython",
    "version": 3
   },
   "file_extension": ".py",
   "mimetype": "text/x-python",
   "name": "python",
   "nbconvert_exporter": "python",
   "pygments_lexer": "ipython3",
   "version": "3.7.6"
  }
 },
 "nbformat": 4,
 "nbformat_minor": 2
}
